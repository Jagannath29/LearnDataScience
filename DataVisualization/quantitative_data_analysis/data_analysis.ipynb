{
 "cells": [
  {
   "cell_type": "markdown",
   "metadata": {},
   "source": [
    "As we are performing stocks analysis, here are some potential analyses we can perform:\n",
    "\n",
    "\n",
    "- Descriptive Statistics: Summary statistics (mean, median, standard deviation, etc.) for each stock.\n",
    "- Time Series Analysis: Trends and patterns over time, especially for closing prices.\n",
    "- Volatility Analysis: How much the stock price fluctuates over a period.\n",
    "- Correlation Analysis: How stock prices of different companies are related to each other.\n",
    "- Comparative Analysis: Comparing the performance of different stocks.\n",
    "- Risk-Return Trade-off Analysis: Analyzing the balance between the potential risks and rewards of different stocks, aiding in portfolio management.\n"
   ]
  },
  {
   "cell_type": "code",
   "execution_count": 32,
   "metadata": {},
   "outputs": [],
   "source": [
    "import pandas as pd\n",
    "import plotly.express as px\n",
    "import plotly.graph_objects as go\n",
    "\n",
    "from plotly.subplots import make_subplots\n",
    "import plotly.io as pio\n",
    "\n",
    "import seaborn as sns\n",
    "\n",
    "import os\n"
   ]
  },
  {
   "cell_type": "code",
   "execution_count": 5,
   "metadata": {},
   "outputs": [],
   "source": [
    "# Since I am currently inside the financial_data_analysis folder, \"..\" represents the parent directory (DataVisualization).\n",
    "#  This command changes the current working directory to DataVisualization.\n",
    "os.chdir('..')"
   ]
  },
  {
   "cell_type": "code",
   "execution_count": 6,
   "metadata": {},
   "outputs": [],
   "source": [
    "# read the data\n",
    "\n",
    "path = os.path.join('data', 'stocks.csv')\n"
   ]
  },
  {
   "cell_type": "code",
   "execution_count": 10,
   "metadata": {},
   "outputs": [],
   "source": [
    "df = pd.read_csv(path, parse_dates= ['Date'])"
   ]
  },
  {
   "cell_type": "code",
   "execution_count": 11,
   "metadata": {},
   "outputs": [
    {
     "data": {
      "text/html": [
       "<div>\n",
       "<style scoped>\n",
       "    .dataframe tbody tr th:only-of-type {\n",
       "        vertical-align: middle;\n",
       "    }\n",
       "\n",
       "    .dataframe tbody tr th {\n",
       "        vertical-align: top;\n",
       "    }\n",
       "\n",
       "    .dataframe thead th {\n",
       "        text-align: right;\n",
       "    }\n",
       "</style>\n",
       "<table border=\"1\" class=\"dataframe\">\n",
       "  <thead>\n",
       "    <tr style=\"text-align: right;\">\n",
       "      <th></th>\n",
       "      <th>Ticker</th>\n",
       "      <th>Date</th>\n",
       "      <th>Open</th>\n",
       "      <th>High</th>\n",
       "      <th>Low</th>\n",
       "      <th>Close</th>\n",
       "      <th>Adj Close</th>\n",
       "      <th>Volume</th>\n",
       "    </tr>\n",
       "  </thead>\n",
       "  <tbody>\n",
       "    <tr>\n",
       "      <th>0</th>\n",
       "      <td>AAPL</td>\n",
       "      <td>2023-02-07</td>\n",
       "      <td>150.639999</td>\n",
       "      <td>155.229996</td>\n",
       "      <td>150.639999</td>\n",
       "      <td>154.649994</td>\n",
       "      <td>154.414230</td>\n",
       "      <td>83322600</td>\n",
       "    </tr>\n",
       "    <tr>\n",
       "      <th>1</th>\n",
       "      <td>AAPL</td>\n",
       "      <td>2023-02-08</td>\n",
       "      <td>153.880005</td>\n",
       "      <td>154.580002</td>\n",
       "      <td>151.169998</td>\n",
       "      <td>151.919998</td>\n",
       "      <td>151.688400</td>\n",
       "      <td>64120100</td>\n",
       "    </tr>\n",
       "    <tr>\n",
       "      <th>2</th>\n",
       "      <td>AAPL</td>\n",
       "      <td>2023-02-09</td>\n",
       "      <td>153.779999</td>\n",
       "      <td>154.330002</td>\n",
       "      <td>150.419998</td>\n",
       "      <td>150.869995</td>\n",
       "      <td>150.639999</td>\n",
       "      <td>56007100</td>\n",
       "    </tr>\n",
       "    <tr>\n",
       "      <th>3</th>\n",
       "      <td>AAPL</td>\n",
       "      <td>2023-02-10</td>\n",
       "      <td>149.460007</td>\n",
       "      <td>151.339996</td>\n",
       "      <td>149.220001</td>\n",
       "      <td>151.009995</td>\n",
       "      <td>151.009995</td>\n",
       "      <td>57450700</td>\n",
       "    </tr>\n",
       "    <tr>\n",
       "      <th>4</th>\n",
       "      <td>AAPL</td>\n",
       "      <td>2023-02-13</td>\n",
       "      <td>150.949997</td>\n",
       "      <td>154.259995</td>\n",
       "      <td>150.919998</td>\n",
       "      <td>153.850006</td>\n",
       "      <td>153.850006</td>\n",
       "      <td>62199000</td>\n",
       "    </tr>\n",
       "  </tbody>\n",
       "</table>\n",
       "</div>"
      ],
      "text/plain": [
       "  Ticker       Date        Open        High         Low       Close  \\\n",
       "0   AAPL 2023-02-07  150.639999  155.229996  150.639999  154.649994   \n",
       "1   AAPL 2023-02-08  153.880005  154.580002  151.169998  151.919998   \n",
       "2   AAPL 2023-02-09  153.779999  154.330002  150.419998  150.869995   \n",
       "3   AAPL 2023-02-10  149.460007  151.339996  149.220001  151.009995   \n",
       "4   AAPL 2023-02-13  150.949997  154.259995  150.919998  153.850006   \n",
       "\n",
       "    Adj Close    Volume  \n",
       "0  154.414230  83322600  \n",
       "1  151.688400  64120100  \n",
       "2  150.639999  56007100  \n",
       "3  151.009995  57450700  \n",
       "4  153.850006  62199000  "
      ]
     },
     "execution_count": 11,
     "metadata": {},
     "output_type": "execute_result"
    }
   ],
   "source": [
    "df.head()"
   ]
  },
  {
   "cell_type": "code",
   "execution_count": 12,
   "metadata": {},
   "outputs": [
    {
     "name": "stdout",
     "output_type": "stream",
     "text": [
      "<class 'pandas.core.frame.DataFrame'>\n",
      "RangeIndex: 248 entries, 0 to 247\n",
      "Data columns (total 8 columns):\n",
      " #   Column     Non-Null Count  Dtype         \n",
      "---  ------     --------------  -----         \n",
      " 0   Ticker     248 non-null    object        \n",
      " 1   Date       248 non-null    datetime64[ns]\n",
      " 2   Open       248 non-null    float64       \n",
      " 3   High       248 non-null    float64       \n",
      " 4   Low        248 non-null    float64       \n",
      " 5   Close      248 non-null    float64       \n",
      " 6   Adj Close  248 non-null    float64       \n",
      " 7   Volume     248 non-null    int64         \n",
      "dtypes: datetime64[ns](1), float64(5), int64(1), object(1)\n",
      "memory usage: 15.6+ KB\n"
     ]
    }
   ],
   "source": [
    "df.info()"
   ]
  },
  {
   "cell_type": "markdown",
   "metadata": {},
   "source": [
    "## Descriptive Statistics\n",
    "\n",
    "Descriptive Statistics will provide summary statistics for each stock in the dataset. We’ll look at measures such as mean, median, standard deviation, and more for the Close prices:"
   ]
  },
  {
   "cell_type": "code",
   "execution_count": 13,
   "metadata": {},
   "outputs": [
    {
     "name": "stdout",
     "output_type": "stream",
     "text": [
      "        count        mean        std         min         25%         50%  \\\n",
      "Ticker                                                                     \n",
      "AAPL     62.0  158.240645   7.360485  145.309998  152.077499  158.055000   \n",
      "GOOG     62.0  100.631532   6.279464   89.349998   94.702501  102.759998   \n",
      "MSFT     62.0  275.039839  17.676231  246.270004  258.742500  275.810013   \n",
      "NFLX     62.0  327.614677  18.554419  292.760010  315.672493  325.600006   \n",
      "\n",
      "               75%         max  \n",
      "Ticker                          \n",
      "AAPL    165.162506  173.570007  \n",
      "GOOG    105.962503  109.459999  \n",
      "MSFT    287.217506  310.649994  \n",
      "NFLX    338.899994  366.829987  \n"
     ]
    }
   ],
   "source": [
    "desc_analy = df.groupby('Ticker')['Close'].describe()\n",
    "\n",
    "print(desc_analy)"
   ]
  },
  {
   "cell_type": "markdown",
   "metadata": {},
   "source": [
    "#### Let’s break down the results for each stock:\n",
    "\n",
    "- AAPL (Apple Inc.)\n",
    "\n",
    "  - Count: 62.0 (The number of observations or trading days included in the dataset for AAPL)\n",
    "  - Mean: 158.24 (The average closing price)\n",
    "  - Standard Deviation: 7.36 (Measures the amount of variation or dispersion of closing prices)\n",
    "  - Minimum: 145.31 (The lowest closing price in the dataset)\n",
    "  - 25th Percentile: 152.08 (25% of the closing prices are below this value)\n",
    "  - Median (50%): 158.06 (The middle value of the closing prices)\n",
    "  - 75th Percentile: 165.16 (75% of the closing prices are below this value)\n",
    "  - Maximum: 173.57 (The highest closing price in the dataset)\n"
   ]
  },
  {
   "cell_type": "markdown",
   "metadata": {},
   "source": [
    "- GOOG (Alphabet Inc.)\n",
    "\n",
    "  - Similar statistics as AAPL, but for GOOG. The mean closing price is 100.63, with a standard deviation of 6.28, indicating less variability in closing prices compared to AAPL.\n",
    "\n",
    "\n",
    "- MSFT (Microsoft Corporation)\n",
    "\n",
    "  - The dataset includes the same number of observations for MSFT. It has a higher mean closing price of 275.04 and a higher standard deviation of 17.68, suggesting greater price variability than AAPL and GOOG.\n",
    "\n",
    "\n",
    "- NFLX (Netflix Inc.)\n",
    "\n",
    "  - NFLX shows the highest mean closing price (327.61) among these stocks and the highest standard deviation (18.55), indicating the most significant price fluctuation."
   ]
  },
  {
   "cell_type": "markdown",
   "metadata": {},
   "source": [
    "## Time Series Analysis\n",
    "\n",
    "Next, we’ll proceed with the Time Series Analysis to examine trends and patterns over time, focusing on the closing prices:"
   ]
  },
  {
   "cell_type": "code",
   "execution_count": 14,
   "metadata": {},
   "outputs": [
    {
     "name": "stdout",
     "output_type": "stream",
     "text": [
      "Ticker            AAPL        GOOG        MSFT        NFLX\n",
      "Date                                                      \n",
      "2023-02-07  154.649994  108.040001  267.559998  362.950012\n",
      "2023-02-08  151.919998  100.000000  266.730011  366.829987\n",
      "2023-02-09  150.869995   95.459999  263.619995  362.500000\n",
      "2023-02-10  151.009995   94.860001  263.100006  347.359985\n",
      "2023-02-13  153.850006   95.000000  271.320007  358.570007\n",
      "...                ...         ...         ...         ...\n",
      "2023-05-01  169.589996  107.709999  305.559998  324.119995\n",
      "2023-05-02  168.539993  105.980003  305.410004  317.549988\n",
      "2023-05-03  167.449997  106.120003  304.399994  319.299988\n",
      "2023-05-04  165.789993  105.209999  305.410004  320.779999\n",
      "2023-05-05  173.570007  106.214996  310.649994  322.760010\n",
      "\n",
      "[62 rows x 4 columns]\n"
     ]
    }
   ],
   "source": [
    "pivot_data = df.pivot(index='Date', columns='Ticker', values='Close')\n",
    "\n",
    "print(pivot_data)"
   ]
  },
  {
   "cell_type": "code",
   "execution_count": 21,
   "metadata": {},
   "outputs": [
    {
     "ename": "ValueError",
     "evalue": "Mime type rendering requires nbformat>=4.2.0 but it is not installed",
     "output_type": "error",
     "traceback": [
      "\u001b[31m---------------------------------------------------------------------------\u001b[39m",
      "\u001b[31mValueError\u001b[39m                                Traceback (most recent call last)",
      "\u001b[36mFile \u001b[39m\u001b[32m~/DataScienceDaily/dsvenv/lib/python3.12/site-packages/IPython/core/formatters.py:984\u001b[39m, in \u001b[36mIPythonDisplayFormatter.__call__\u001b[39m\u001b[34m(self, obj)\u001b[39m\n\u001b[32m    982\u001b[39m method = get_real_method(obj, \u001b[38;5;28mself\u001b[39m.print_method)\n\u001b[32m    983\u001b[39m \u001b[38;5;28;01mif\u001b[39;00m method \u001b[38;5;129;01mis\u001b[39;00m \u001b[38;5;129;01mnot\u001b[39;00m \u001b[38;5;28;01mNone\u001b[39;00m:\n\u001b[32m--> \u001b[39m\u001b[32m984\u001b[39m     \u001b[43mmethod\u001b[49m\u001b[43m(\u001b[49m\u001b[43m)\u001b[49m\n\u001b[32m    985\u001b[39m     \u001b[38;5;28;01mreturn\u001b[39;00m \u001b[38;5;28;01mTrue\u001b[39;00m\n",
      "\u001b[36mFile \u001b[39m\u001b[32m~/DataScienceDaily/dsvenv/lib/python3.12/site-packages/plotly/basedatatypes.py:833\u001b[39m, in \u001b[36mBaseFigure._ipython_display_\u001b[39m\u001b[34m(self)\u001b[39m\n\u001b[32m    830\u001b[39m \u001b[38;5;28;01mimport\u001b[39;00m\u001b[38;5;250m \u001b[39m\u001b[34;01mplotly\u001b[39;00m\u001b[34;01m.\u001b[39;00m\u001b[34;01mio\u001b[39;00m\u001b[38;5;250m \u001b[39m\u001b[38;5;28;01mas\u001b[39;00m\u001b[38;5;250m \u001b[39m\u001b[34;01mpio\u001b[39;00m\n\u001b[32m    832\u001b[39m \u001b[38;5;28;01mif\u001b[39;00m pio.renderers.render_on_display \u001b[38;5;129;01mand\u001b[39;00m pio.renderers.default:\n\u001b[32m--> \u001b[39m\u001b[32m833\u001b[39m     \u001b[43mpio\u001b[49m\u001b[43m.\u001b[49m\u001b[43mshow\u001b[49m\u001b[43m(\u001b[49m\u001b[38;5;28;43mself\u001b[39;49m\u001b[43m)\u001b[49m\n\u001b[32m    834\u001b[39m \u001b[38;5;28;01melse\u001b[39;00m:\n\u001b[32m    835\u001b[39m     \u001b[38;5;28mprint\u001b[39m(\u001b[38;5;28mrepr\u001b[39m(\u001b[38;5;28mself\u001b[39m))\n",
      "\u001b[36mFile \u001b[39m\u001b[32m~/DataScienceDaily/dsvenv/lib/python3.12/site-packages/plotly/io/_renderers.py:425\u001b[39m, in \u001b[36mshow\u001b[39m\u001b[34m(fig, renderer, validate, **kwargs)\u001b[39m\n\u001b[32m    420\u001b[39m     \u001b[38;5;28;01mraise\u001b[39;00m \u001b[38;5;167;01mValueError\u001b[39;00m(\n\u001b[32m    421\u001b[39m         \u001b[33m\"\u001b[39m\u001b[33mMime type rendering requires ipython but it is not installed\u001b[39m\u001b[33m\"\u001b[39m\n\u001b[32m    422\u001b[39m     )\n\u001b[32m    424\u001b[39m \u001b[38;5;28;01mif\u001b[39;00m \u001b[38;5;129;01mnot\u001b[39;00m nbformat \u001b[38;5;129;01mor\u001b[39;00m Version(nbformat.__version__) < Version(\u001b[33m\"\u001b[39m\u001b[33m4.2.0\u001b[39m\u001b[33m\"\u001b[39m):\n\u001b[32m--> \u001b[39m\u001b[32m425\u001b[39m     \u001b[38;5;28;01mraise\u001b[39;00m \u001b[38;5;167;01mValueError\u001b[39;00m(\n\u001b[32m    426\u001b[39m         \u001b[33m\"\u001b[39m\u001b[33mMime type rendering requires nbformat>=4.2.0 but it is not installed\u001b[39m\u001b[33m\"\u001b[39m\n\u001b[32m    427\u001b[39m     )\n\u001b[32m    429\u001b[39m display_jupyter_version_warnings()\n\u001b[32m    431\u001b[39m ipython_display.display(bundle, raw=\u001b[38;5;28;01mTrue\u001b[39;00m)\n",
      "\u001b[31mValueError\u001b[39m: Mime type rendering requires nbformat>=4.2.0 but it is not installed"
     ]
    },
    {
     "data": {
      "application/vnd.plotly.v1+json": {
       "config": {
        "plotlyServerURL": "https://plot.ly"
       },
       "data": [
        {
         "name": "AAPL",
         "type": "scatter",
         "x": [
          "2023-02-07T00:00:00.000000000",
          "2023-02-08T00:00:00.000000000",
          "2023-02-09T00:00:00.000000000",
          "2023-02-10T00:00:00.000000000",
          "2023-02-13T00:00:00.000000000",
          "2023-02-14T00:00:00.000000000",
          "2023-02-15T00:00:00.000000000",
          "2023-02-16T00:00:00.000000000",
          "2023-02-17T00:00:00.000000000",
          "2023-02-21T00:00:00.000000000",
          "2023-02-22T00:00:00.000000000",
          "2023-02-23T00:00:00.000000000",
          "2023-02-24T00:00:00.000000000",
          "2023-02-27T00:00:00.000000000",
          "2023-02-28T00:00:00.000000000",
          "2023-03-01T00:00:00.000000000",
          "2023-03-02T00:00:00.000000000",
          "2023-03-03T00:00:00.000000000",
          "2023-03-06T00:00:00.000000000",
          "2023-03-07T00:00:00.000000000",
          "2023-03-08T00:00:00.000000000",
          "2023-03-09T00:00:00.000000000",
          "2023-03-10T00:00:00.000000000",
          "2023-03-13T00:00:00.000000000",
          "2023-03-14T00:00:00.000000000",
          "2023-03-15T00:00:00.000000000",
          "2023-03-16T00:00:00.000000000",
          "2023-03-17T00:00:00.000000000",
          "2023-03-20T00:00:00.000000000",
          "2023-03-21T00:00:00.000000000",
          "2023-03-22T00:00:00.000000000",
          "2023-03-23T00:00:00.000000000",
          "2023-03-24T00:00:00.000000000",
          "2023-03-27T00:00:00.000000000",
          "2023-03-28T00:00:00.000000000",
          "2023-03-29T00:00:00.000000000",
          "2023-03-30T00:00:00.000000000",
          "2023-03-31T00:00:00.000000000",
          "2023-04-03T00:00:00.000000000",
          "2023-04-04T00:00:00.000000000",
          "2023-04-05T00:00:00.000000000",
          "2023-04-06T00:00:00.000000000",
          "2023-04-10T00:00:00.000000000",
          "2023-04-11T00:00:00.000000000",
          "2023-04-12T00:00:00.000000000",
          "2023-04-13T00:00:00.000000000",
          "2023-04-14T00:00:00.000000000",
          "2023-04-17T00:00:00.000000000",
          "2023-04-18T00:00:00.000000000",
          "2023-04-19T00:00:00.000000000",
          "2023-04-20T00:00:00.000000000",
          "2023-04-21T00:00:00.000000000",
          "2023-04-24T00:00:00.000000000",
          "2023-04-25T00:00:00.000000000",
          "2023-04-26T00:00:00.000000000",
          "2023-04-27T00:00:00.000000000",
          "2023-04-28T00:00:00.000000000",
          "2023-05-01T00:00:00.000000000",
          "2023-05-02T00:00:00.000000000",
          "2023-05-03T00:00:00.000000000",
          "2023-05-04T00:00:00.000000000",
          "2023-05-05T00:00:00.000000000"
         ],
         "xaxis": "x",
         "y": {
          "bdata": "AAAAwMxUY0AAAACgcP1iQAAAAADX22JAAAAA4FHgYkAAAABAMztjQAAAAGBmJmNAAAAAYI9qY0AAAABguDZjQAAAAKCZEWNAAAAAIFyPYkAAAADAHp1iQAAAAMDMrGJAAAAAYLhWYkAAAACgcH1iQAAAAMAebWJAAAAAgOspYkAAAADAHj1iQAAAAMD14GJAAAAAYI86Y0AAAABAM/NiQAAAAADXG2NAAAAAQOHSYkAAAAAAAJBiQAAAAEAKz2JAAAAAQOESY0AAAAAgrh9jQAAAAEAze2NAAAAAAABgY0AAAADAzKxjQAAAAMD16GNAAAAAYI+6Y0AAAACAwt1jQAAAAAAACGRAAAAAwPXIY0AAAADAzLRjQAAAAOCjGGRAAAAAIIVLZEAAAADAzJxkQAAAAKBwxWRAAAAAACm0ZEAAAADgUXhkQAAAAMAelWRAAAAAwPVAZEAAAACgmRlkQAAAAEAzA2RAAAAAgOuxZEAAAABguKZkQAAAACBcp2RAAAAAQArPZEAAAAAAKfRkQAAAAMDM1GRAAAAA4KOgZEAAAABgj6pkQAAAAOCjeGRAAAAA4FF4ZEAAAADAHg1lQAAAAIDCNWVAAAAAQOEyZUAAAACgRxFlQAAAAGBm7mRAAAAAoEe5ZEAAAACAPbJlQA==",
          "dtype": "f8"
         },
         "yaxis": "y"
        },
        {
         "name": "GOOG",
         "type": "scatter",
         "x": [
          "2023-02-07T00:00:00.000000000",
          "2023-02-08T00:00:00.000000000",
          "2023-02-09T00:00:00.000000000",
          "2023-02-10T00:00:00.000000000",
          "2023-02-13T00:00:00.000000000",
          "2023-02-14T00:00:00.000000000",
          "2023-02-15T00:00:00.000000000",
          "2023-02-16T00:00:00.000000000",
          "2023-02-17T00:00:00.000000000",
          "2023-02-21T00:00:00.000000000",
          "2023-02-22T00:00:00.000000000",
          "2023-02-23T00:00:00.000000000",
          "2023-02-24T00:00:00.000000000",
          "2023-02-27T00:00:00.000000000",
          "2023-02-28T00:00:00.000000000",
          "2023-03-01T00:00:00.000000000",
          "2023-03-02T00:00:00.000000000",
          "2023-03-03T00:00:00.000000000",
          "2023-03-06T00:00:00.000000000",
          "2023-03-07T00:00:00.000000000",
          "2023-03-08T00:00:00.000000000",
          "2023-03-09T00:00:00.000000000",
          "2023-03-10T00:00:00.000000000",
          "2023-03-13T00:00:00.000000000",
          "2023-03-14T00:00:00.000000000",
          "2023-03-15T00:00:00.000000000",
          "2023-03-16T00:00:00.000000000",
          "2023-03-17T00:00:00.000000000",
          "2023-03-20T00:00:00.000000000",
          "2023-03-21T00:00:00.000000000",
          "2023-03-22T00:00:00.000000000",
          "2023-03-23T00:00:00.000000000",
          "2023-03-24T00:00:00.000000000",
          "2023-03-27T00:00:00.000000000",
          "2023-03-28T00:00:00.000000000",
          "2023-03-29T00:00:00.000000000",
          "2023-03-30T00:00:00.000000000",
          "2023-03-31T00:00:00.000000000",
          "2023-04-03T00:00:00.000000000",
          "2023-04-04T00:00:00.000000000",
          "2023-04-05T00:00:00.000000000",
          "2023-04-06T00:00:00.000000000",
          "2023-04-10T00:00:00.000000000",
          "2023-04-11T00:00:00.000000000",
          "2023-04-12T00:00:00.000000000",
          "2023-04-13T00:00:00.000000000",
          "2023-04-14T00:00:00.000000000",
          "2023-04-17T00:00:00.000000000",
          "2023-04-18T00:00:00.000000000",
          "2023-04-19T00:00:00.000000000",
          "2023-04-20T00:00:00.000000000",
          "2023-04-21T00:00:00.000000000",
          "2023-04-24T00:00:00.000000000",
          "2023-04-25T00:00:00.000000000",
          "2023-04-26T00:00:00.000000000",
          "2023-04-27T00:00:00.000000000",
          "2023-04-28T00:00:00.000000000",
          "2023-05-01T00:00:00.000000000",
          "2023-05-02T00:00:00.000000000",
          "2023-05-03T00:00:00.000000000",
          "2023-05-04T00:00:00.000000000",
          "2023-05-05T00:00:00.000000000"
         ],
         "xaxis": "x",
         "y": {
          "bdata": "AAAAYI8CW0AAAAAAAABZQAAAAKBw3VdAAAAAQAq3V0AAAAAAAMBXQAEAAMDMvFdAAAAAYGZGWEAAAACA6/FXQAAAAIDCpVdA////PzMDV0D///8/M/NWQAAAAOB6xFZAAAAAYGZWVkAAAABgZoZWQP///z8zk1ZAAQAA4KOgVkABAAAA1xNXQAAAAKBHgVdA////vx7lV0ABAABA4YpXQAAAAKCZqVdAAAAAgD0qV0ABAADgo8BWQAAAAIA96lZAAAAAAACQV0D///8/MyNYQAAAAOB6RFlAAAAAoHCdWUAAAAAghXtZQAAAAIDCdVpAAAAAgBQOWkABAADgo5BaQAEAAADXg1pAAQAAANfDWUAAAABACldZQAAAAKCZeVlAAAAA4HpUWUAAAAAAAABaQAAAAIA9OlpAAQAAIK5HWkABAADAzDxaQAAAAKCZOVtAAQAAwMy8WkABAAAgrodaQAAAAIAUTlpA/////ygMW0AAAACgcF1bQAEAAEDhmlpAAQAAIK5HWkAAAACgR0FaQAAAAKCZeVpAAAAAgD16WkAAAACA67FaQAAAAEAKJ1pAAQAAwMwcWkABAAAgrhdbQAAAAIAUDltAAAAAoHDtWkAAAABguH5aQAEAACCuh1pAAAAAoHBNWkAAAACAwo1aQA==",
          "dtype": "f8"
         },
         "yaxis": "y"
        },
        {
         "name": "MSFT",
         "type": "scatter",
         "x": [
          "2023-02-07T00:00:00.000000000",
          "2023-02-08T00:00:00.000000000",
          "2023-02-09T00:00:00.000000000",
          "2023-02-10T00:00:00.000000000",
          "2023-02-13T00:00:00.000000000",
          "2023-02-14T00:00:00.000000000",
          "2023-02-15T00:00:00.000000000",
          "2023-02-16T00:00:00.000000000",
          "2023-02-17T00:00:00.000000000",
          "2023-02-21T00:00:00.000000000",
          "2023-02-22T00:00:00.000000000",
          "2023-02-23T00:00:00.000000000",
          "2023-02-24T00:00:00.000000000",
          "2023-02-27T00:00:00.000000000",
          "2023-02-28T00:00:00.000000000",
          "2023-03-01T00:00:00.000000000",
          "2023-03-02T00:00:00.000000000",
          "2023-03-03T00:00:00.000000000",
          "2023-03-06T00:00:00.000000000",
          "2023-03-07T00:00:00.000000000",
          "2023-03-08T00:00:00.000000000",
          "2023-03-09T00:00:00.000000000",
          "2023-03-10T00:00:00.000000000",
          "2023-03-13T00:00:00.000000000",
          "2023-03-14T00:00:00.000000000",
          "2023-03-15T00:00:00.000000000",
          "2023-03-16T00:00:00.000000000",
          "2023-03-17T00:00:00.000000000",
          "2023-03-20T00:00:00.000000000",
          "2023-03-21T00:00:00.000000000",
          "2023-03-22T00:00:00.000000000",
          "2023-03-23T00:00:00.000000000",
          "2023-03-24T00:00:00.000000000",
          "2023-03-27T00:00:00.000000000",
          "2023-03-28T00:00:00.000000000",
          "2023-03-29T00:00:00.000000000",
          "2023-03-30T00:00:00.000000000",
          "2023-03-31T00:00:00.000000000",
          "2023-04-03T00:00:00.000000000",
          "2023-04-04T00:00:00.000000000",
          "2023-04-05T00:00:00.000000000",
          "2023-04-06T00:00:00.000000000",
          "2023-04-10T00:00:00.000000000",
          "2023-04-11T00:00:00.000000000",
          "2023-04-12T00:00:00.000000000",
          "2023-04-13T00:00:00.000000000",
          "2023-04-14T00:00:00.000000000",
          "2023-04-17T00:00:00.000000000",
          "2023-04-18T00:00:00.000000000",
          "2023-04-19T00:00:00.000000000",
          "2023-04-20T00:00:00.000000000",
          "2023-04-21T00:00:00.000000000",
          "2023-04-24T00:00:00.000000000",
          "2023-04-25T00:00:00.000000000",
          "2023-04-26T00:00:00.000000000",
          "2023-04-27T00:00:00.000000000",
          "2023-04-28T00:00:00.000000000",
          "2023-05-01T00:00:00.000000000",
          "2023-05-02T00:00:00.000000000",
          "2023-05-03T00:00:00.000000000",
          "2023-05-04T00:00:00.000000000",
          "2023-05-05T00:00:00.000000000"
         ],
         "xaxis": "x",
         "y": {
          "bdata": "////v/W4cEAAAAAgrqtwQAAAAIDreXBAAAAAoJlxcEAAAADAHvVwQAAAAGC4AnFAAAAAwB7VcEAAAABgZmJwQP///7/1IHBAAAAAoHCVb0ABAADgUXBvQP///9+j2G9AAAAAQAonb0D///+/HkVvQAAAAKBwLW9A////36PIbkABAAAghWNvQAAAAKBH6W9AAAAAgOsNcEABAADAzMRvQAAAAGBmtm9AAAAAgD2Kb0ABAABA4RJvQAAAAKBwvW9AAAAA4KNMcEAAAABACpdwQAAAAEAzQ3FAAAAAQOF2cUAAAAAgrgNxQAAAAOB6HHFAAAAA4KMEcUAAAABgj1pxQAAAAMAeiXFAAAAAgBRGcUAAAAAgrjNxQAAAAAApiHFAAAAAwMzAcUAAAADAzARyQAAAACCu83FAAAAAQOHycUAAAACgcMVxQAAAAKCZOXJAAAAAgD0WckAAAACgR61xQAAAAADXt3FAAAAAoHAdckAAAACAPeJxQAAAAMDMDHJAAAAAgOsFckAAAABAMwdyQAAAAIDC4XFAAAAAACnccUAAAADgUZxxQAAAAGC4NnFAAAAAgOt1ckAAAACgRw1zQAAAAAApNHNA////v/UYc0AAAABgjxZzQAAAAGBmBnNAAAAAYI8Wc0AAAABgZmpzQA==",
          "dtype": "f8"
         },
         "yaxis": "y"
        },
        {
         "name": "NFLX",
         "type": "scatter",
         "x": [
          "2023-02-07T00:00:00.000000000",
          "2023-02-08T00:00:00.000000000",
          "2023-02-09T00:00:00.000000000",
          "2023-02-10T00:00:00.000000000",
          "2023-02-13T00:00:00.000000000",
          "2023-02-14T00:00:00.000000000",
          "2023-02-15T00:00:00.000000000",
          "2023-02-16T00:00:00.000000000",
          "2023-02-17T00:00:00.000000000",
          "2023-02-21T00:00:00.000000000",
          "2023-02-22T00:00:00.000000000",
          "2023-02-23T00:00:00.000000000",
          "2023-02-24T00:00:00.000000000",
          "2023-02-27T00:00:00.000000000",
          "2023-02-28T00:00:00.000000000",
          "2023-03-01T00:00:00.000000000",
          "2023-03-02T00:00:00.000000000",
          "2023-03-03T00:00:00.000000000",
          "2023-03-06T00:00:00.000000000",
          "2023-03-07T00:00:00.000000000",
          "2023-03-08T00:00:00.000000000",
          "2023-03-09T00:00:00.000000000",
          "2023-03-10T00:00:00.000000000",
          "2023-03-13T00:00:00.000000000",
          "2023-03-14T00:00:00.000000000",
          "2023-03-15T00:00:00.000000000",
          "2023-03-16T00:00:00.000000000",
          "2023-03-17T00:00:00.000000000",
          "2023-03-20T00:00:00.000000000",
          "2023-03-21T00:00:00.000000000",
          "2023-03-22T00:00:00.000000000",
          "2023-03-23T00:00:00.000000000",
          "2023-03-24T00:00:00.000000000",
          "2023-03-27T00:00:00.000000000",
          "2023-03-28T00:00:00.000000000",
          "2023-03-29T00:00:00.000000000",
          "2023-03-30T00:00:00.000000000",
          "2023-03-31T00:00:00.000000000",
          "2023-04-03T00:00:00.000000000",
          "2023-04-04T00:00:00.000000000",
          "2023-04-05T00:00:00.000000000",
          "2023-04-06T00:00:00.000000000",
          "2023-04-10T00:00:00.000000000",
          "2023-04-11T00:00:00.000000000",
          "2023-04-12T00:00:00.000000000",
          "2023-04-13T00:00:00.000000000",
          "2023-04-14T00:00:00.000000000",
          "2023-04-17T00:00:00.000000000",
          "2023-04-18T00:00:00.000000000",
          "2023-04-19T00:00:00.000000000",
          "2023-04-20T00:00:00.000000000",
          "2023-04-21T00:00:00.000000000",
          "2023-04-24T00:00:00.000000000",
          "2023-04-25T00:00:00.000000000",
          "2023-04-26T00:00:00.000000000",
          "2023-04-27T00:00:00.000000000",
          "2023-04-28T00:00:00.000000000",
          "2023-05-01T00:00:00.000000000",
          "2023-05-02T00:00:00.000000000",
          "2023-05-03T00:00:00.000000000",
          "2023-05-04T00:00:00.000000000",
          "2023-05-05T00:00:00.000000000"
         ],
         "xaxis": "x",
         "y": {
          "bdata": "AQAAQDOvdkAAAACgR+12QAAAAAAAqHZAAAAAgMK1dUAAAADAHml2QAAAACBcf3ZAAAAAYLiWdkAAAAAgXOt1QAAAACBcv3VAAAAAAAAYdUAAAACAFO50QAAAAGBmOnRAAAAAYGbSc0AAAADgejB0QAAAAIAUInRAAAAAIK6Xc0AAAACAFH5zQAAAAEDhsnNAAAAA4HqAc0AAAAAghUdzQAAAAOCjfHNAAAAA4HqcckAAAAAAKUxyQAAAAAApWHJAAAAAQApvckAAAADgo/xyQP///7/1YHNAAAAAAAD4ckAAAACAFBJzQAAAAOCjHHNAAAAAYGZeckAAAACA6wV0QAAAAIA9hnRAAAAAYI96dEAAAADgUTh0QAAAAOB6wHRAAAAAQOEmdUAAAAAgrpd1QAAAAOB6xHVAAAAAAACsdUAAAACgmWV1QAAAAKBHNXVAAAAAANcvdUAAAAAgXCN1QAAAAOB6sHRAAAAAQAqjdUAAAACAFCp1QAAAACCFy3RAAAAAQDPbdEAAAACA6zF0QAAAAKCZVXRAAAAAIK5/dEAAAADgUZB0QAAAAMDMKHRAAAAAYGYSdEAAAACgmV10QAAAAEDhnnRAAAAAgOtBdEAAAADAzNhzQAAAAMDM9HNAAAAA4HoMdEAAAAAAKSx0QA==",
          "dtype": "f8"
         },
         "yaxis": "y"
        }
       ],
       "layout": {
        "legend": {
         "title": {
          "text": "Ticker"
         }
        },
        "showlegend": true,
        "template": {
         "data": {
          "bar": [
           {
            "error_x": {
             "color": "#2a3f5f"
            },
            "error_y": {
             "color": "#2a3f5f"
            },
            "marker": {
             "line": {
              "color": "#E5ECF6",
              "width": 0.5
             },
             "pattern": {
              "fillmode": "overlay",
              "size": 10,
              "solidity": 0.2
             }
            },
            "type": "bar"
           }
          ],
          "barpolar": [
           {
            "marker": {
             "line": {
              "color": "#E5ECF6",
              "width": 0.5
             },
             "pattern": {
              "fillmode": "overlay",
              "size": 10,
              "solidity": 0.2
             }
            },
            "type": "barpolar"
           }
          ],
          "carpet": [
           {
            "aaxis": {
             "endlinecolor": "#2a3f5f",
             "gridcolor": "white",
             "linecolor": "white",
             "minorgridcolor": "white",
             "startlinecolor": "#2a3f5f"
            },
            "baxis": {
             "endlinecolor": "#2a3f5f",
             "gridcolor": "white",
             "linecolor": "white",
             "minorgridcolor": "white",
             "startlinecolor": "#2a3f5f"
            },
            "type": "carpet"
           }
          ],
          "choropleth": [
           {
            "colorbar": {
             "outlinewidth": 0,
             "ticks": ""
            },
            "type": "choropleth"
           }
          ],
          "contour": [
           {
            "colorbar": {
             "outlinewidth": 0,
             "ticks": ""
            },
            "colorscale": [
             [
              0,
              "#0d0887"
             ],
             [
              0.1111111111111111,
              "#46039f"
             ],
             [
              0.2222222222222222,
              "#7201a8"
             ],
             [
              0.3333333333333333,
              "#9c179e"
             ],
             [
              0.4444444444444444,
              "#bd3786"
             ],
             [
              0.5555555555555556,
              "#d8576b"
             ],
             [
              0.6666666666666666,
              "#ed7953"
             ],
             [
              0.7777777777777778,
              "#fb9f3a"
             ],
             [
              0.8888888888888888,
              "#fdca26"
             ],
             [
              1,
              "#f0f921"
             ]
            ],
            "type": "contour"
           }
          ],
          "contourcarpet": [
           {
            "colorbar": {
             "outlinewidth": 0,
             "ticks": ""
            },
            "type": "contourcarpet"
           }
          ],
          "heatmap": [
           {
            "colorbar": {
             "outlinewidth": 0,
             "ticks": ""
            },
            "colorscale": [
             [
              0,
              "#0d0887"
             ],
             [
              0.1111111111111111,
              "#46039f"
             ],
             [
              0.2222222222222222,
              "#7201a8"
             ],
             [
              0.3333333333333333,
              "#9c179e"
             ],
             [
              0.4444444444444444,
              "#bd3786"
             ],
             [
              0.5555555555555556,
              "#d8576b"
             ],
             [
              0.6666666666666666,
              "#ed7953"
             ],
             [
              0.7777777777777778,
              "#fb9f3a"
             ],
             [
              0.8888888888888888,
              "#fdca26"
             ],
             [
              1,
              "#f0f921"
             ]
            ],
            "type": "heatmap"
           }
          ],
          "histogram": [
           {
            "marker": {
             "pattern": {
              "fillmode": "overlay",
              "size": 10,
              "solidity": 0.2
             }
            },
            "type": "histogram"
           }
          ],
          "histogram2d": [
           {
            "colorbar": {
             "outlinewidth": 0,
             "ticks": ""
            },
            "colorscale": [
             [
              0,
              "#0d0887"
             ],
             [
              0.1111111111111111,
              "#46039f"
             ],
             [
              0.2222222222222222,
              "#7201a8"
             ],
             [
              0.3333333333333333,
              "#9c179e"
             ],
             [
              0.4444444444444444,
              "#bd3786"
             ],
             [
              0.5555555555555556,
              "#d8576b"
             ],
             [
              0.6666666666666666,
              "#ed7953"
             ],
             [
              0.7777777777777778,
              "#fb9f3a"
             ],
             [
              0.8888888888888888,
              "#fdca26"
             ],
             [
              1,
              "#f0f921"
             ]
            ],
            "type": "histogram2d"
           }
          ],
          "histogram2dcontour": [
           {
            "colorbar": {
             "outlinewidth": 0,
             "ticks": ""
            },
            "colorscale": [
             [
              0,
              "#0d0887"
             ],
             [
              0.1111111111111111,
              "#46039f"
             ],
             [
              0.2222222222222222,
              "#7201a8"
             ],
             [
              0.3333333333333333,
              "#9c179e"
             ],
             [
              0.4444444444444444,
              "#bd3786"
             ],
             [
              0.5555555555555556,
              "#d8576b"
             ],
             [
              0.6666666666666666,
              "#ed7953"
             ],
             [
              0.7777777777777778,
              "#fb9f3a"
             ],
             [
              0.8888888888888888,
              "#fdca26"
             ],
             [
              1,
              "#f0f921"
             ]
            ],
            "type": "histogram2dcontour"
           }
          ],
          "mesh3d": [
           {
            "colorbar": {
             "outlinewidth": 0,
             "ticks": ""
            },
            "type": "mesh3d"
           }
          ],
          "parcoords": [
           {
            "line": {
             "colorbar": {
              "outlinewidth": 0,
              "ticks": ""
             }
            },
            "type": "parcoords"
           }
          ],
          "pie": [
           {
            "automargin": true,
            "type": "pie"
           }
          ],
          "scatter": [
           {
            "fillpattern": {
             "fillmode": "overlay",
             "size": 10,
             "solidity": 0.2
            },
            "type": "scatter"
           }
          ],
          "scatter3d": [
           {
            "line": {
             "colorbar": {
              "outlinewidth": 0,
              "ticks": ""
             }
            },
            "marker": {
             "colorbar": {
              "outlinewidth": 0,
              "ticks": ""
             }
            },
            "type": "scatter3d"
           }
          ],
          "scattercarpet": [
           {
            "marker": {
             "colorbar": {
              "outlinewidth": 0,
              "ticks": ""
             }
            },
            "type": "scattercarpet"
           }
          ],
          "scattergeo": [
           {
            "marker": {
             "colorbar": {
              "outlinewidth": 0,
              "ticks": ""
             }
            },
            "type": "scattergeo"
           }
          ],
          "scattergl": [
           {
            "marker": {
             "colorbar": {
              "outlinewidth": 0,
              "ticks": ""
             }
            },
            "type": "scattergl"
           }
          ],
          "scattermap": [
           {
            "marker": {
             "colorbar": {
              "outlinewidth": 0,
              "ticks": ""
             }
            },
            "type": "scattermap"
           }
          ],
          "scattermapbox": [
           {
            "marker": {
             "colorbar": {
              "outlinewidth": 0,
              "ticks": ""
             }
            },
            "type": "scattermapbox"
           }
          ],
          "scatterpolar": [
           {
            "marker": {
             "colorbar": {
              "outlinewidth": 0,
              "ticks": ""
             }
            },
            "type": "scatterpolar"
           }
          ],
          "scatterpolargl": [
           {
            "marker": {
             "colorbar": {
              "outlinewidth": 0,
              "ticks": ""
             }
            },
            "type": "scatterpolargl"
           }
          ],
          "scatterternary": [
           {
            "marker": {
             "colorbar": {
              "outlinewidth": 0,
              "ticks": ""
             }
            },
            "type": "scatterternary"
           }
          ],
          "surface": [
           {
            "colorbar": {
             "outlinewidth": 0,
             "ticks": ""
            },
            "colorscale": [
             [
              0,
              "#0d0887"
             ],
             [
              0.1111111111111111,
              "#46039f"
             ],
             [
              0.2222222222222222,
              "#7201a8"
             ],
             [
              0.3333333333333333,
              "#9c179e"
             ],
             [
              0.4444444444444444,
              "#bd3786"
             ],
             [
              0.5555555555555556,
              "#d8576b"
             ],
             [
              0.6666666666666666,
              "#ed7953"
             ],
             [
              0.7777777777777778,
              "#fb9f3a"
             ],
             [
              0.8888888888888888,
              "#fdca26"
             ],
             [
              1,
              "#f0f921"
             ]
            ],
            "type": "surface"
           }
          ],
          "table": [
           {
            "cells": {
             "fill": {
              "color": "#EBF0F8"
             },
             "line": {
              "color": "white"
             }
            },
            "header": {
             "fill": {
              "color": "#C8D4E3"
             },
             "line": {
              "color": "white"
             }
            },
            "type": "table"
           }
          ]
         },
         "layout": {
          "annotationdefaults": {
           "arrowcolor": "#2a3f5f",
           "arrowhead": 0,
           "arrowwidth": 1
          },
          "autotypenumbers": "strict",
          "coloraxis": {
           "colorbar": {
            "outlinewidth": 0,
            "ticks": ""
           }
          },
          "colorscale": {
           "diverging": [
            [
             0,
             "#8e0152"
            ],
            [
             0.1,
             "#c51b7d"
            ],
            [
             0.2,
             "#de77ae"
            ],
            [
             0.3,
             "#f1b6da"
            ],
            [
             0.4,
             "#fde0ef"
            ],
            [
             0.5,
             "#f7f7f7"
            ],
            [
             0.6,
             "#e6f5d0"
            ],
            [
             0.7,
             "#b8e186"
            ],
            [
             0.8,
             "#7fbc41"
            ],
            [
             0.9,
             "#4d9221"
            ],
            [
             1,
             "#276419"
            ]
           ],
           "sequential": [
            [
             0,
             "#0d0887"
            ],
            [
             0.1111111111111111,
             "#46039f"
            ],
            [
             0.2222222222222222,
             "#7201a8"
            ],
            [
             0.3333333333333333,
             "#9c179e"
            ],
            [
             0.4444444444444444,
             "#bd3786"
            ],
            [
             0.5555555555555556,
             "#d8576b"
            ],
            [
             0.6666666666666666,
             "#ed7953"
            ],
            [
             0.7777777777777778,
             "#fb9f3a"
            ],
            [
             0.8888888888888888,
             "#fdca26"
            ],
            [
             1,
             "#f0f921"
            ]
           ],
           "sequentialminus": [
            [
             0,
             "#0d0887"
            ],
            [
             0.1111111111111111,
             "#46039f"
            ],
            [
             0.2222222222222222,
             "#7201a8"
            ],
            [
             0.3333333333333333,
             "#9c179e"
            ],
            [
             0.4444444444444444,
             "#bd3786"
            ],
            [
             0.5555555555555556,
             "#d8576b"
            ],
            [
             0.6666666666666666,
             "#ed7953"
            ],
            [
             0.7777777777777778,
             "#fb9f3a"
            ],
            [
             0.8888888888888888,
             "#fdca26"
            ],
            [
             1,
             "#f0f921"
            ]
           ]
          },
          "colorway": [
           "#636efa",
           "#EF553B",
           "#00cc96",
           "#ab63fa",
           "#FFA15A",
           "#19d3f3",
           "#FF6692",
           "#B6E880",
           "#FF97FF",
           "#FECB52"
          ],
          "font": {
           "color": "#2a3f5f"
          },
          "geo": {
           "bgcolor": "white",
           "lakecolor": "white",
           "landcolor": "#E5ECF6",
           "showlakes": true,
           "showland": true,
           "subunitcolor": "white"
          },
          "hoverlabel": {
           "align": "left"
          },
          "hovermode": "closest",
          "mapbox": {
           "style": "light"
          },
          "paper_bgcolor": "white",
          "plot_bgcolor": "#E5ECF6",
          "polar": {
           "angularaxis": {
            "gridcolor": "white",
            "linecolor": "white",
            "ticks": ""
           },
           "bgcolor": "#E5ECF6",
           "radialaxis": {
            "gridcolor": "white",
            "linecolor": "white",
            "ticks": ""
           }
          },
          "scene": {
           "xaxis": {
            "backgroundcolor": "#E5ECF6",
            "gridcolor": "white",
            "gridwidth": 2,
            "linecolor": "white",
            "showbackground": true,
            "ticks": "",
            "zerolinecolor": "white"
           },
           "yaxis": {
            "backgroundcolor": "#E5ECF6",
            "gridcolor": "white",
            "gridwidth": 2,
            "linecolor": "white",
            "showbackground": true,
            "ticks": "",
            "zerolinecolor": "white"
           },
           "zaxis": {
            "backgroundcolor": "#E5ECF6",
            "gridcolor": "white",
            "gridwidth": 2,
            "linecolor": "white",
            "showbackground": true,
            "ticks": "",
            "zerolinecolor": "white"
           }
          },
          "shapedefaults": {
           "line": {
            "color": "#2a3f5f"
           }
          },
          "ternary": {
           "aaxis": {
            "gridcolor": "white",
            "linecolor": "white",
            "ticks": ""
           },
           "baxis": {
            "gridcolor": "white",
            "linecolor": "white",
            "ticks": ""
           },
           "bgcolor": "#E5ECF6",
           "caxis": {
            "gridcolor": "white",
            "linecolor": "white",
            "ticks": ""
           }
          },
          "title": {
           "x": 0.05
          },
          "xaxis": {
           "automargin": true,
           "gridcolor": "white",
           "linecolor": "white",
           "ticks": "",
           "title": {
            "standoff": 15
           },
           "zerolinecolor": "white",
           "zerolinewidth": 2
          },
          "yaxis": {
           "automargin": true,
           "gridcolor": "white",
           "linecolor": "white",
           "ticks": "",
           "title": {
            "standoff": 15
           },
           "zerolinecolor": "white",
           "zerolinewidth": 2
          }
         }
        },
        "title": {
         "text": "Time Series of Closing Prices"
        },
        "xaxis": {
         "anchor": "y",
         "domain": [
          0,
          1
         ],
         "title": {
          "text": "Date"
         }
        },
        "yaxis": {
         "anchor": "x",
         "domain": [
          0,
          1
         ],
         "title": {
          "text": "Closing Price"
         }
        }
       }
      },
      "text/html": [
       "<div>                        <script type=\"text/javascript\">window.PlotlyConfig = {MathJaxConfig: 'local'};</script>\n",
       "        <script charset=\"utf-8\" src=\"https://cdn.plot.ly/plotly-3.0.1.min.js\"></script>                <div id=\"2ffae8c6-22c3-4e80-81c7-9e666f2cebbb\" class=\"plotly-graph-div\" style=\"height:100%; width:100%;\"></div>            <script type=\"text/javascript\">                window.PLOTLYENV=window.PLOTLYENV || {};                                if (document.getElementById(\"2ffae8c6-22c3-4e80-81c7-9e666f2cebbb\")) {                    Plotly.newPlot(                        \"2ffae8c6-22c3-4e80-81c7-9e666f2cebbb\",                        [{\"name\":\"AAPL\",\"x\":[\"2023-02-07T00:00:00.000000000\",\"2023-02-08T00:00:00.000000000\",\"2023-02-09T00:00:00.000000000\",\"2023-02-10T00:00:00.000000000\",\"2023-02-13T00:00:00.000000000\",\"2023-02-14T00:00:00.000000000\",\"2023-02-15T00:00:00.000000000\",\"2023-02-16T00:00:00.000000000\",\"2023-02-17T00:00:00.000000000\",\"2023-02-21T00:00:00.000000000\",\"2023-02-22T00:00:00.000000000\",\"2023-02-23T00:00:00.000000000\",\"2023-02-24T00:00:00.000000000\",\"2023-02-27T00:00:00.000000000\",\"2023-02-28T00:00:00.000000000\",\"2023-03-01T00:00:00.000000000\",\"2023-03-02T00:00:00.000000000\",\"2023-03-03T00:00:00.000000000\",\"2023-03-06T00:00:00.000000000\",\"2023-03-07T00:00:00.000000000\",\"2023-03-08T00:00:00.000000000\",\"2023-03-09T00:00:00.000000000\",\"2023-03-10T00:00:00.000000000\",\"2023-03-13T00:00:00.000000000\",\"2023-03-14T00:00:00.000000000\",\"2023-03-15T00:00:00.000000000\",\"2023-03-16T00:00:00.000000000\",\"2023-03-17T00:00:00.000000000\",\"2023-03-20T00:00:00.000000000\",\"2023-03-21T00:00:00.000000000\",\"2023-03-22T00:00:00.000000000\",\"2023-03-23T00:00:00.000000000\",\"2023-03-24T00:00:00.000000000\",\"2023-03-27T00:00:00.000000000\",\"2023-03-28T00:00:00.000000000\",\"2023-03-29T00:00:00.000000000\",\"2023-03-30T00:00:00.000000000\",\"2023-03-31T00:00:00.000000000\",\"2023-04-03T00:00:00.000000000\",\"2023-04-04T00:00:00.000000000\",\"2023-04-05T00:00:00.000000000\",\"2023-04-06T00:00:00.000000000\",\"2023-04-10T00:00:00.000000000\",\"2023-04-11T00:00:00.000000000\",\"2023-04-12T00:00:00.000000000\",\"2023-04-13T00:00:00.000000000\",\"2023-04-14T00:00:00.000000000\",\"2023-04-17T00:00:00.000000000\",\"2023-04-18T00:00:00.000000000\",\"2023-04-19T00:00:00.000000000\",\"2023-04-20T00:00:00.000000000\",\"2023-04-21T00:00:00.000000000\",\"2023-04-24T00:00:00.000000000\",\"2023-04-25T00:00:00.000000000\",\"2023-04-26T00:00:00.000000000\",\"2023-04-27T00:00:00.000000000\",\"2023-04-28T00:00:00.000000000\",\"2023-05-01T00:00:00.000000000\",\"2023-05-02T00:00:00.000000000\",\"2023-05-03T00:00:00.000000000\",\"2023-05-04T00:00:00.000000000\",\"2023-05-05T00:00:00.000000000\"],\"y\":{\"dtype\":\"f8\",\"bdata\":\"AAAAwMxUY0AAAACgcP1iQAAAAADX22JAAAAA4FHgYkAAAABAMztjQAAAAGBmJmNAAAAAYI9qY0AAAABguDZjQAAAAKCZEWNAAAAAIFyPYkAAAADAHp1iQAAAAMDMrGJAAAAAYLhWYkAAAACgcH1iQAAAAMAebWJAAAAAgOspYkAAAADAHj1iQAAAAMD14GJAAAAAYI86Y0AAAABAM\\u002fNiQAAAAADXG2NAAAAAQOHSYkAAAAAAAJBiQAAAAEAKz2JAAAAAQOESY0AAAAAgrh9jQAAAAEAze2NAAAAAAABgY0AAAADAzKxjQAAAAMD16GNAAAAAYI+6Y0AAAACAwt1jQAAAAAAACGRAAAAAwPXIY0AAAADAzLRjQAAAAOCjGGRAAAAAIIVLZEAAAADAzJxkQAAAAKBwxWRAAAAAACm0ZEAAAADgUXhkQAAAAMAelWRAAAAAwPVAZEAAAACgmRlkQAAAAEAzA2RAAAAAgOuxZEAAAABguKZkQAAAACBcp2RAAAAAQArPZEAAAAAAKfRkQAAAAMDM1GRAAAAA4KOgZEAAAABgj6pkQAAAAOCjeGRAAAAA4FF4ZEAAAADAHg1lQAAAAIDCNWVAAAAAQOEyZUAAAACgRxFlQAAAAGBm7mRAAAAAoEe5ZEAAAACAPbJlQA==\"},\"type\":\"scatter\",\"xaxis\":\"x\",\"yaxis\":\"y\"},{\"name\":\"GOOG\",\"x\":[\"2023-02-07T00:00:00.000000000\",\"2023-02-08T00:00:00.000000000\",\"2023-02-09T00:00:00.000000000\",\"2023-02-10T00:00:00.000000000\",\"2023-02-13T00:00:00.000000000\",\"2023-02-14T00:00:00.000000000\",\"2023-02-15T00:00:00.000000000\",\"2023-02-16T00:00:00.000000000\",\"2023-02-17T00:00:00.000000000\",\"2023-02-21T00:00:00.000000000\",\"2023-02-22T00:00:00.000000000\",\"2023-02-23T00:00:00.000000000\",\"2023-02-24T00:00:00.000000000\",\"2023-02-27T00:00:00.000000000\",\"2023-02-28T00:00:00.000000000\",\"2023-03-01T00:00:00.000000000\",\"2023-03-02T00:00:00.000000000\",\"2023-03-03T00:00:00.000000000\",\"2023-03-06T00:00:00.000000000\",\"2023-03-07T00:00:00.000000000\",\"2023-03-08T00:00:00.000000000\",\"2023-03-09T00:00:00.000000000\",\"2023-03-10T00:00:00.000000000\",\"2023-03-13T00:00:00.000000000\",\"2023-03-14T00:00:00.000000000\",\"2023-03-15T00:00:00.000000000\",\"2023-03-16T00:00:00.000000000\",\"2023-03-17T00:00:00.000000000\",\"2023-03-20T00:00:00.000000000\",\"2023-03-21T00:00:00.000000000\",\"2023-03-22T00:00:00.000000000\",\"2023-03-23T00:00:00.000000000\",\"2023-03-24T00:00:00.000000000\",\"2023-03-27T00:00:00.000000000\",\"2023-03-28T00:00:00.000000000\",\"2023-03-29T00:00:00.000000000\",\"2023-03-30T00:00:00.000000000\",\"2023-03-31T00:00:00.000000000\",\"2023-04-03T00:00:00.000000000\",\"2023-04-04T00:00:00.000000000\",\"2023-04-05T00:00:00.000000000\",\"2023-04-06T00:00:00.000000000\",\"2023-04-10T00:00:00.000000000\",\"2023-04-11T00:00:00.000000000\",\"2023-04-12T00:00:00.000000000\",\"2023-04-13T00:00:00.000000000\",\"2023-04-14T00:00:00.000000000\",\"2023-04-17T00:00:00.000000000\",\"2023-04-18T00:00:00.000000000\",\"2023-04-19T00:00:00.000000000\",\"2023-04-20T00:00:00.000000000\",\"2023-04-21T00:00:00.000000000\",\"2023-04-24T00:00:00.000000000\",\"2023-04-25T00:00:00.000000000\",\"2023-04-26T00:00:00.000000000\",\"2023-04-27T00:00:00.000000000\",\"2023-04-28T00:00:00.000000000\",\"2023-05-01T00:00:00.000000000\",\"2023-05-02T00:00:00.000000000\",\"2023-05-03T00:00:00.000000000\",\"2023-05-04T00:00:00.000000000\",\"2023-05-05T00:00:00.000000000\"],\"y\":{\"dtype\":\"f8\",\"bdata\":\"AAAAYI8CW0AAAAAAAABZQAAAAKBw3VdAAAAAQAq3V0AAAAAAAMBXQAEAAMDMvFdAAAAAYGZGWEAAAACA6\\u002fFXQAAAAIDCpVdA\\u002f\\u002f\\u002f\\u002fPzMDV0D\\u002f\\u002f\\u002f8\\u002fM\\u002fNWQAAAAOB6xFZAAAAAYGZWVkAAAABgZoZWQP\\u002f\\u002f\\u002fz8zk1ZAAQAA4KOgVkABAAAA1xNXQAAAAKBHgVdA\\u002f\\u002f\\u002f\\u002fvx7lV0ABAABA4YpXQAAAAKCZqVdAAAAAgD0qV0ABAADgo8BWQAAAAIA96lZAAAAAAACQV0D\\u002f\\u002f\\u002f8\\u002fMyNYQAAAAOB6RFlAAAAAoHCdWUAAAAAghXtZQAAAAIDCdVpAAAAAgBQOWkABAADgo5BaQAEAAADXg1pAAQAAANfDWUAAAABACldZQAAAAKCZeVlAAAAA4HpUWUAAAAAAAABaQAAAAIA9OlpAAQAAIK5HWkABAADAzDxaQAAAAKCZOVtAAQAAwMy8WkABAAAgrodaQAAAAIAUTlpA\\u002f\\u002f\\u002f\\u002f\\u002fygMW0AAAACgcF1bQAEAAEDhmlpAAQAAIK5HWkAAAACgR0FaQAAAAKCZeVpAAAAAgD16WkAAAACA67FaQAAAAEAKJ1pAAQAAwMwcWkABAAAgrhdbQAAAAIAUDltAAAAAoHDtWkAAAABguH5aQAEAACCuh1pAAAAAoHBNWkAAAACAwo1aQA==\"},\"type\":\"scatter\",\"xaxis\":\"x\",\"yaxis\":\"y\"},{\"name\":\"MSFT\",\"x\":[\"2023-02-07T00:00:00.000000000\",\"2023-02-08T00:00:00.000000000\",\"2023-02-09T00:00:00.000000000\",\"2023-02-10T00:00:00.000000000\",\"2023-02-13T00:00:00.000000000\",\"2023-02-14T00:00:00.000000000\",\"2023-02-15T00:00:00.000000000\",\"2023-02-16T00:00:00.000000000\",\"2023-02-17T00:00:00.000000000\",\"2023-02-21T00:00:00.000000000\",\"2023-02-22T00:00:00.000000000\",\"2023-02-23T00:00:00.000000000\",\"2023-02-24T00:00:00.000000000\",\"2023-02-27T00:00:00.000000000\",\"2023-02-28T00:00:00.000000000\",\"2023-03-01T00:00:00.000000000\",\"2023-03-02T00:00:00.000000000\",\"2023-03-03T00:00:00.000000000\",\"2023-03-06T00:00:00.000000000\",\"2023-03-07T00:00:00.000000000\",\"2023-03-08T00:00:00.000000000\",\"2023-03-09T00:00:00.000000000\",\"2023-03-10T00:00:00.000000000\",\"2023-03-13T00:00:00.000000000\",\"2023-03-14T00:00:00.000000000\",\"2023-03-15T00:00:00.000000000\",\"2023-03-16T00:00:00.000000000\",\"2023-03-17T00:00:00.000000000\",\"2023-03-20T00:00:00.000000000\",\"2023-03-21T00:00:00.000000000\",\"2023-03-22T00:00:00.000000000\",\"2023-03-23T00:00:00.000000000\",\"2023-03-24T00:00:00.000000000\",\"2023-03-27T00:00:00.000000000\",\"2023-03-28T00:00:00.000000000\",\"2023-03-29T00:00:00.000000000\",\"2023-03-30T00:00:00.000000000\",\"2023-03-31T00:00:00.000000000\",\"2023-04-03T00:00:00.000000000\",\"2023-04-04T00:00:00.000000000\",\"2023-04-05T00:00:00.000000000\",\"2023-04-06T00:00:00.000000000\",\"2023-04-10T00:00:00.000000000\",\"2023-04-11T00:00:00.000000000\",\"2023-04-12T00:00:00.000000000\",\"2023-04-13T00:00:00.000000000\",\"2023-04-14T00:00:00.000000000\",\"2023-04-17T00:00:00.000000000\",\"2023-04-18T00:00:00.000000000\",\"2023-04-19T00:00:00.000000000\",\"2023-04-20T00:00:00.000000000\",\"2023-04-21T00:00:00.000000000\",\"2023-04-24T00:00:00.000000000\",\"2023-04-25T00:00:00.000000000\",\"2023-04-26T00:00:00.000000000\",\"2023-04-27T00:00:00.000000000\",\"2023-04-28T00:00:00.000000000\",\"2023-05-01T00:00:00.000000000\",\"2023-05-02T00:00:00.000000000\",\"2023-05-03T00:00:00.000000000\",\"2023-05-04T00:00:00.000000000\",\"2023-05-05T00:00:00.000000000\"],\"y\":{\"dtype\":\"f8\",\"bdata\":\"\\u002f\\u002f\\u002f\\u002fv\\u002fW4cEAAAAAgrqtwQAAAAIDreXBAAAAAoJlxcEAAAADAHvVwQAAAAGC4AnFAAAAAwB7VcEAAAABgZmJwQP\\u002f\\u002f\\u002f7\\u002f1IHBAAAAAoHCVb0ABAADgUXBvQP\\u002f\\u002f\\u002f9+j2G9AAAAAQAonb0D\\u002f\\u002f\\u002f+\\u002fHkVvQAAAAKBwLW9A\\u002f\\u002f\\u002f\\u002f36PIbkABAAAghWNvQAAAAKBH6W9AAAAAgOsNcEABAADAzMRvQAAAAGBmtm9AAAAAgD2Kb0ABAABA4RJvQAAAAKBwvW9AAAAA4KNMcEAAAABACpdwQAAAAEAzQ3FAAAAAQOF2cUAAAAAgrgNxQAAAAOB6HHFAAAAA4KMEcUAAAABgj1pxQAAAAMAeiXFAAAAAgBRGcUAAAAAgrjNxQAAAAAApiHFAAAAAwMzAcUAAAADAzARyQAAAACCu83FAAAAAQOHycUAAAACgcMVxQAAAAKCZOXJAAAAAgD0WckAAAACgR61xQAAAAADXt3FAAAAAoHAdckAAAACAPeJxQAAAAMDMDHJAAAAAgOsFckAAAABAMwdyQAAAAIDC4XFAAAAAACnccUAAAADgUZxxQAAAAGC4NnFAAAAAgOt1ckAAAACgRw1zQAAAAAApNHNA\\u002f\\u002f\\u002f\\u002fv\\u002fUYc0AAAABgjxZzQAAAAGBmBnNAAAAAYI8Wc0AAAABgZmpzQA==\"},\"type\":\"scatter\",\"xaxis\":\"x\",\"yaxis\":\"y\"},{\"name\":\"NFLX\",\"x\":[\"2023-02-07T00:00:00.000000000\",\"2023-02-08T00:00:00.000000000\",\"2023-02-09T00:00:00.000000000\",\"2023-02-10T00:00:00.000000000\",\"2023-02-13T00:00:00.000000000\",\"2023-02-14T00:00:00.000000000\",\"2023-02-15T00:00:00.000000000\",\"2023-02-16T00:00:00.000000000\",\"2023-02-17T00:00:00.000000000\",\"2023-02-21T00:00:00.000000000\",\"2023-02-22T00:00:00.000000000\",\"2023-02-23T00:00:00.000000000\",\"2023-02-24T00:00:00.000000000\",\"2023-02-27T00:00:00.000000000\",\"2023-02-28T00:00:00.000000000\",\"2023-03-01T00:00:00.000000000\",\"2023-03-02T00:00:00.000000000\",\"2023-03-03T00:00:00.000000000\",\"2023-03-06T00:00:00.000000000\",\"2023-03-07T00:00:00.000000000\",\"2023-03-08T00:00:00.000000000\",\"2023-03-09T00:00:00.000000000\",\"2023-03-10T00:00:00.000000000\",\"2023-03-13T00:00:00.000000000\",\"2023-03-14T00:00:00.000000000\",\"2023-03-15T00:00:00.000000000\",\"2023-03-16T00:00:00.000000000\",\"2023-03-17T00:00:00.000000000\",\"2023-03-20T00:00:00.000000000\",\"2023-03-21T00:00:00.000000000\",\"2023-03-22T00:00:00.000000000\",\"2023-03-23T00:00:00.000000000\",\"2023-03-24T00:00:00.000000000\",\"2023-03-27T00:00:00.000000000\",\"2023-03-28T00:00:00.000000000\",\"2023-03-29T00:00:00.000000000\",\"2023-03-30T00:00:00.000000000\",\"2023-03-31T00:00:00.000000000\",\"2023-04-03T00:00:00.000000000\",\"2023-04-04T00:00:00.000000000\",\"2023-04-05T00:00:00.000000000\",\"2023-04-06T00:00:00.000000000\",\"2023-04-10T00:00:00.000000000\",\"2023-04-11T00:00:00.000000000\",\"2023-04-12T00:00:00.000000000\",\"2023-04-13T00:00:00.000000000\",\"2023-04-14T00:00:00.000000000\",\"2023-04-17T00:00:00.000000000\",\"2023-04-18T00:00:00.000000000\",\"2023-04-19T00:00:00.000000000\",\"2023-04-20T00:00:00.000000000\",\"2023-04-21T00:00:00.000000000\",\"2023-04-24T00:00:00.000000000\",\"2023-04-25T00:00:00.000000000\",\"2023-04-26T00:00:00.000000000\",\"2023-04-27T00:00:00.000000000\",\"2023-04-28T00:00:00.000000000\",\"2023-05-01T00:00:00.000000000\",\"2023-05-02T00:00:00.000000000\",\"2023-05-03T00:00:00.000000000\",\"2023-05-04T00:00:00.000000000\",\"2023-05-05T00:00:00.000000000\"],\"y\":{\"dtype\":\"f8\",\"bdata\":\"AQAAQDOvdkAAAACgR+12QAAAAAAAqHZAAAAAgMK1dUAAAADAHml2QAAAACBcf3ZAAAAAYLiWdkAAAAAgXOt1QAAAACBcv3VAAAAAAAAYdUAAAACAFO50QAAAAGBmOnRAAAAAYGbSc0AAAADgejB0QAAAAIAUInRAAAAAIK6Xc0AAAACAFH5zQAAAAEDhsnNAAAAA4HqAc0AAAAAghUdzQAAAAOCjfHNAAAAA4HqcckAAAAAAKUxyQAAAAAApWHJAAAAAQApvckAAAADgo\\u002fxyQP\\u002f\\u002f\\u002f7\\u002f1YHNAAAAAAAD4ckAAAACAFBJzQAAAAOCjHHNAAAAAYGZeckAAAACA6wV0QAAAAIA9hnRAAAAAYI96dEAAAADgUTh0QAAAAOB6wHRAAAAAQOEmdUAAAAAgrpd1QAAAAOB6xHVAAAAAAACsdUAAAACgmWV1QAAAAKBHNXVAAAAAANcvdUAAAAAgXCN1QAAAAOB6sHRAAAAAQAqjdUAAAACAFCp1QAAAACCFy3RAAAAAQDPbdEAAAACA6zF0QAAAAKCZVXRAAAAAIK5\\u002fdEAAAADgUZB0QAAAAMDMKHRAAAAAYGYSdEAAAACgmV10QAAAAEDhnnRAAAAAgOtBdEAAAADAzNhzQAAAAMDM9HNAAAAA4HoMdEAAAAAAKSx0QA==\"},\"type\":\"scatter\",\"xaxis\":\"x\",\"yaxis\":\"y\"}],                        {\"template\":{\"data\":{\"histogram2dcontour\":[{\"type\":\"histogram2dcontour\",\"colorbar\":{\"outlinewidth\":0,\"ticks\":\"\"},\"colorscale\":[[0.0,\"#0d0887\"],[0.1111111111111111,\"#46039f\"],[0.2222222222222222,\"#7201a8\"],[0.3333333333333333,\"#9c179e\"],[0.4444444444444444,\"#bd3786\"],[0.5555555555555556,\"#d8576b\"],[0.6666666666666666,\"#ed7953\"],[0.7777777777777778,\"#fb9f3a\"],[0.8888888888888888,\"#fdca26\"],[1.0,\"#f0f921\"]]}],\"choropleth\":[{\"type\":\"choropleth\",\"colorbar\":{\"outlinewidth\":0,\"ticks\":\"\"}}],\"histogram2d\":[{\"type\":\"histogram2d\",\"colorbar\":{\"outlinewidth\":0,\"ticks\":\"\"},\"colorscale\":[[0.0,\"#0d0887\"],[0.1111111111111111,\"#46039f\"],[0.2222222222222222,\"#7201a8\"],[0.3333333333333333,\"#9c179e\"],[0.4444444444444444,\"#bd3786\"],[0.5555555555555556,\"#d8576b\"],[0.6666666666666666,\"#ed7953\"],[0.7777777777777778,\"#fb9f3a\"],[0.8888888888888888,\"#fdca26\"],[1.0,\"#f0f921\"]]}],\"heatmap\":[{\"type\":\"heatmap\",\"colorbar\":{\"outlinewidth\":0,\"ticks\":\"\"},\"colorscale\":[[0.0,\"#0d0887\"],[0.1111111111111111,\"#46039f\"],[0.2222222222222222,\"#7201a8\"],[0.3333333333333333,\"#9c179e\"],[0.4444444444444444,\"#bd3786\"],[0.5555555555555556,\"#d8576b\"],[0.6666666666666666,\"#ed7953\"],[0.7777777777777778,\"#fb9f3a\"],[0.8888888888888888,\"#fdca26\"],[1.0,\"#f0f921\"]]}],\"contourcarpet\":[{\"type\":\"contourcarpet\",\"colorbar\":{\"outlinewidth\":0,\"ticks\":\"\"}}],\"contour\":[{\"type\":\"contour\",\"colorbar\":{\"outlinewidth\":0,\"ticks\":\"\"},\"colorscale\":[[0.0,\"#0d0887\"],[0.1111111111111111,\"#46039f\"],[0.2222222222222222,\"#7201a8\"],[0.3333333333333333,\"#9c179e\"],[0.4444444444444444,\"#bd3786\"],[0.5555555555555556,\"#d8576b\"],[0.6666666666666666,\"#ed7953\"],[0.7777777777777778,\"#fb9f3a\"],[0.8888888888888888,\"#fdca26\"],[1.0,\"#f0f921\"]]}],\"surface\":[{\"type\":\"surface\",\"colorbar\":{\"outlinewidth\":0,\"ticks\":\"\"},\"colorscale\":[[0.0,\"#0d0887\"],[0.1111111111111111,\"#46039f\"],[0.2222222222222222,\"#7201a8\"],[0.3333333333333333,\"#9c179e\"],[0.4444444444444444,\"#bd3786\"],[0.5555555555555556,\"#d8576b\"],[0.6666666666666666,\"#ed7953\"],[0.7777777777777778,\"#fb9f3a\"],[0.8888888888888888,\"#fdca26\"],[1.0,\"#f0f921\"]]}],\"mesh3d\":[{\"type\":\"mesh3d\",\"colorbar\":{\"outlinewidth\":0,\"ticks\":\"\"}}],\"scatter\":[{\"fillpattern\":{\"fillmode\":\"overlay\",\"size\":10,\"solidity\":0.2},\"type\":\"scatter\"}],\"parcoords\":[{\"type\":\"parcoords\",\"line\":{\"colorbar\":{\"outlinewidth\":0,\"ticks\":\"\"}}}],\"scatterpolargl\":[{\"type\":\"scatterpolargl\",\"marker\":{\"colorbar\":{\"outlinewidth\":0,\"ticks\":\"\"}}}],\"bar\":[{\"error_x\":{\"color\":\"#2a3f5f\"},\"error_y\":{\"color\":\"#2a3f5f\"},\"marker\":{\"line\":{\"color\":\"#E5ECF6\",\"width\":0.5},\"pattern\":{\"fillmode\":\"overlay\",\"size\":10,\"solidity\":0.2}},\"type\":\"bar\"}],\"scattergeo\":[{\"type\":\"scattergeo\",\"marker\":{\"colorbar\":{\"outlinewidth\":0,\"ticks\":\"\"}}}],\"scatterpolar\":[{\"type\":\"scatterpolar\",\"marker\":{\"colorbar\":{\"outlinewidth\":0,\"ticks\":\"\"}}}],\"histogram\":[{\"marker\":{\"pattern\":{\"fillmode\":\"overlay\",\"size\":10,\"solidity\":0.2}},\"type\":\"histogram\"}],\"scattergl\":[{\"type\":\"scattergl\",\"marker\":{\"colorbar\":{\"outlinewidth\":0,\"ticks\":\"\"}}}],\"scatter3d\":[{\"type\":\"scatter3d\",\"line\":{\"colorbar\":{\"outlinewidth\":0,\"ticks\":\"\"}},\"marker\":{\"colorbar\":{\"outlinewidth\":0,\"ticks\":\"\"}}}],\"scattermap\":[{\"type\":\"scattermap\",\"marker\":{\"colorbar\":{\"outlinewidth\":0,\"ticks\":\"\"}}}],\"scattermapbox\":[{\"type\":\"scattermapbox\",\"marker\":{\"colorbar\":{\"outlinewidth\":0,\"ticks\":\"\"}}}],\"scatterternary\":[{\"type\":\"scatterternary\",\"marker\":{\"colorbar\":{\"outlinewidth\":0,\"ticks\":\"\"}}}],\"scattercarpet\":[{\"type\":\"scattercarpet\",\"marker\":{\"colorbar\":{\"outlinewidth\":0,\"ticks\":\"\"}}}],\"carpet\":[{\"aaxis\":{\"endlinecolor\":\"#2a3f5f\",\"gridcolor\":\"white\",\"linecolor\":\"white\",\"minorgridcolor\":\"white\",\"startlinecolor\":\"#2a3f5f\"},\"baxis\":{\"endlinecolor\":\"#2a3f5f\",\"gridcolor\":\"white\",\"linecolor\":\"white\",\"minorgridcolor\":\"white\",\"startlinecolor\":\"#2a3f5f\"},\"type\":\"carpet\"}],\"table\":[{\"cells\":{\"fill\":{\"color\":\"#EBF0F8\"},\"line\":{\"color\":\"white\"}},\"header\":{\"fill\":{\"color\":\"#C8D4E3\"},\"line\":{\"color\":\"white\"}},\"type\":\"table\"}],\"barpolar\":[{\"marker\":{\"line\":{\"color\":\"#E5ECF6\",\"width\":0.5},\"pattern\":{\"fillmode\":\"overlay\",\"size\":10,\"solidity\":0.2}},\"type\":\"barpolar\"}],\"pie\":[{\"automargin\":true,\"type\":\"pie\"}]},\"layout\":{\"autotypenumbers\":\"strict\",\"colorway\":[\"#636efa\",\"#EF553B\",\"#00cc96\",\"#ab63fa\",\"#FFA15A\",\"#19d3f3\",\"#FF6692\",\"#B6E880\",\"#FF97FF\",\"#FECB52\"],\"font\":{\"color\":\"#2a3f5f\"},\"hovermode\":\"closest\",\"hoverlabel\":{\"align\":\"left\"},\"paper_bgcolor\":\"white\",\"plot_bgcolor\":\"#E5ECF6\",\"polar\":{\"bgcolor\":\"#E5ECF6\",\"angularaxis\":{\"gridcolor\":\"white\",\"linecolor\":\"white\",\"ticks\":\"\"},\"radialaxis\":{\"gridcolor\":\"white\",\"linecolor\":\"white\",\"ticks\":\"\"}},\"ternary\":{\"bgcolor\":\"#E5ECF6\",\"aaxis\":{\"gridcolor\":\"white\",\"linecolor\":\"white\",\"ticks\":\"\"},\"baxis\":{\"gridcolor\":\"white\",\"linecolor\":\"white\",\"ticks\":\"\"},\"caxis\":{\"gridcolor\":\"white\",\"linecolor\":\"white\",\"ticks\":\"\"}},\"coloraxis\":{\"colorbar\":{\"outlinewidth\":0,\"ticks\":\"\"}},\"colorscale\":{\"sequential\":[[0.0,\"#0d0887\"],[0.1111111111111111,\"#46039f\"],[0.2222222222222222,\"#7201a8\"],[0.3333333333333333,\"#9c179e\"],[0.4444444444444444,\"#bd3786\"],[0.5555555555555556,\"#d8576b\"],[0.6666666666666666,\"#ed7953\"],[0.7777777777777778,\"#fb9f3a\"],[0.8888888888888888,\"#fdca26\"],[1.0,\"#f0f921\"]],\"sequentialminus\":[[0.0,\"#0d0887\"],[0.1111111111111111,\"#46039f\"],[0.2222222222222222,\"#7201a8\"],[0.3333333333333333,\"#9c179e\"],[0.4444444444444444,\"#bd3786\"],[0.5555555555555556,\"#d8576b\"],[0.6666666666666666,\"#ed7953\"],[0.7777777777777778,\"#fb9f3a\"],[0.8888888888888888,\"#fdca26\"],[1.0,\"#f0f921\"]],\"diverging\":[[0,\"#8e0152\"],[0.1,\"#c51b7d\"],[0.2,\"#de77ae\"],[0.3,\"#f1b6da\"],[0.4,\"#fde0ef\"],[0.5,\"#f7f7f7\"],[0.6,\"#e6f5d0\"],[0.7,\"#b8e186\"],[0.8,\"#7fbc41\"],[0.9,\"#4d9221\"],[1,\"#276419\"]]},\"xaxis\":{\"gridcolor\":\"white\",\"linecolor\":\"white\",\"ticks\":\"\",\"title\":{\"standoff\":15},\"zerolinecolor\":\"white\",\"automargin\":true,\"zerolinewidth\":2},\"yaxis\":{\"gridcolor\":\"white\",\"linecolor\":\"white\",\"ticks\":\"\",\"title\":{\"standoff\":15},\"zerolinecolor\":\"white\",\"automargin\":true,\"zerolinewidth\":2},\"scene\":{\"xaxis\":{\"backgroundcolor\":\"#E5ECF6\",\"gridcolor\":\"white\",\"linecolor\":\"white\",\"showbackground\":true,\"ticks\":\"\",\"zerolinecolor\":\"white\",\"gridwidth\":2},\"yaxis\":{\"backgroundcolor\":\"#E5ECF6\",\"gridcolor\":\"white\",\"linecolor\":\"white\",\"showbackground\":true,\"ticks\":\"\",\"zerolinecolor\":\"white\",\"gridwidth\":2},\"zaxis\":{\"backgroundcolor\":\"#E5ECF6\",\"gridcolor\":\"white\",\"linecolor\":\"white\",\"showbackground\":true,\"ticks\":\"\",\"zerolinecolor\":\"white\",\"gridwidth\":2}},\"shapedefaults\":{\"line\":{\"color\":\"#2a3f5f\"}},\"annotationdefaults\":{\"arrowcolor\":\"#2a3f5f\",\"arrowhead\":0,\"arrowwidth\":1},\"geo\":{\"bgcolor\":\"white\",\"landcolor\":\"#E5ECF6\",\"subunitcolor\":\"white\",\"showland\":true,\"showlakes\":true,\"lakecolor\":\"white\"},\"title\":{\"x\":0.05},\"mapbox\":{\"style\":\"light\"}}},\"xaxis\":{\"anchor\":\"y\",\"domain\":[0.0,1.0],\"title\":{\"text\":\"Date\"}},\"yaxis\":{\"anchor\":\"x\",\"domain\":[0.0,1.0],\"title\":{\"text\":\"Closing Price\"}},\"title\":{\"text\":\"Time Series of Closing Prices\"},\"legend\":{\"title\":{\"text\":\"Ticker\"}},\"showlegend\":true},                        {\"responsive\": true}                    )                };            </script>        </div>"
      ],
      "text/plain": [
       "Figure({\n",
       "    'data': [{'name': 'AAPL',\n",
       "              'type': 'scatter',\n",
       "              'x': array(['2023-02-07T00:00:00.000000000', '2023-02-08T00:00:00.000000000',\n",
       "                          '2023-02-09T00:00:00.000000000', '2023-02-10T00:00:00.000000000',\n",
       "                          '2023-02-13T00:00:00.000000000', '2023-02-14T00:00:00.000000000',\n",
       "                          '2023-02-15T00:00:00.000000000', '2023-02-16T00:00:00.000000000',\n",
       "                          '2023-02-17T00:00:00.000000000', '2023-02-21T00:00:00.000000000',\n",
       "                          '2023-02-22T00:00:00.000000000', '2023-02-23T00:00:00.000000000',\n",
       "                          '2023-02-24T00:00:00.000000000', '2023-02-27T00:00:00.000000000',\n",
       "                          '2023-02-28T00:00:00.000000000', '2023-03-01T00:00:00.000000000',\n",
       "                          '2023-03-02T00:00:00.000000000', '2023-03-03T00:00:00.000000000',\n",
       "                          '2023-03-06T00:00:00.000000000', '2023-03-07T00:00:00.000000000',\n",
       "                          '2023-03-08T00:00:00.000000000', '2023-03-09T00:00:00.000000000',\n",
       "                          '2023-03-10T00:00:00.000000000', '2023-03-13T00:00:00.000000000',\n",
       "                          '2023-03-14T00:00:00.000000000', '2023-03-15T00:00:00.000000000',\n",
       "                          '2023-03-16T00:00:00.000000000', '2023-03-17T00:00:00.000000000',\n",
       "                          '2023-03-20T00:00:00.000000000', '2023-03-21T00:00:00.000000000',\n",
       "                          '2023-03-22T00:00:00.000000000', '2023-03-23T00:00:00.000000000',\n",
       "                          '2023-03-24T00:00:00.000000000', '2023-03-27T00:00:00.000000000',\n",
       "                          '2023-03-28T00:00:00.000000000', '2023-03-29T00:00:00.000000000',\n",
       "                          '2023-03-30T00:00:00.000000000', '2023-03-31T00:00:00.000000000',\n",
       "                          '2023-04-03T00:00:00.000000000', '2023-04-04T00:00:00.000000000',\n",
       "                          '2023-04-05T00:00:00.000000000', '2023-04-06T00:00:00.000000000',\n",
       "                          '2023-04-10T00:00:00.000000000', '2023-04-11T00:00:00.000000000',\n",
       "                          '2023-04-12T00:00:00.000000000', '2023-04-13T00:00:00.000000000',\n",
       "                          '2023-04-14T00:00:00.000000000', '2023-04-17T00:00:00.000000000',\n",
       "                          '2023-04-18T00:00:00.000000000', '2023-04-19T00:00:00.000000000',\n",
       "                          '2023-04-20T00:00:00.000000000', '2023-04-21T00:00:00.000000000',\n",
       "                          '2023-04-24T00:00:00.000000000', '2023-04-25T00:00:00.000000000',\n",
       "                          '2023-04-26T00:00:00.000000000', '2023-04-27T00:00:00.000000000',\n",
       "                          '2023-04-28T00:00:00.000000000', '2023-05-01T00:00:00.000000000',\n",
       "                          '2023-05-02T00:00:00.000000000', '2023-05-03T00:00:00.000000000',\n",
       "                          '2023-05-04T00:00:00.000000000', '2023-05-05T00:00:00.000000000'],\n",
       "                         dtype='datetime64[ns]'),\n",
       "              'xaxis': 'x',\n",
       "              'y': {'bdata': ('AAAAwMxUY0AAAACgcP1iQAAAAADX22' ... 'Bm7mRAAAAAoEe5ZEAAAACAPbJlQA=='),\n",
       "                    'dtype': 'f8'},\n",
       "              'yaxis': 'y'},\n",
       "             {'name': 'GOOG',\n",
       "              'type': 'scatter',\n",
       "              'x': array(['2023-02-07T00:00:00.000000000', '2023-02-08T00:00:00.000000000',\n",
       "                          '2023-02-09T00:00:00.000000000', '2023-02-10T00:00:00.000000000',\n",
       "                          '2023-02-13T00:00:00.000000000', '2023-02-14T00:00:00.000000000',\n",
       "                          '2023-02-15T00:00:00.000000000', '2023-02-16T00:00:00.000000000',\n",
       "                          '2023-02-17T00:00:00.000000000', '2023-02-21T00:00:00.000000000',\n",
       "                          '2023-02-22T00:00:00.000000000', '2023-02-23T00:00:00.000000000',\n",
       "                          '2023-02-24T00:00:00.000000000', '2023-02-27T00:00:00.000000000',\n",
       "                          '2023-02-28T00:00:00.000000000', '2023-03-01T00:00:00.000000000',\n",
       "                          '2023-03-02T00:00:00.000000000', '2023-03-03T00:00:00.000000000',\n",
       "                          '2023-03-06T00:00:00.000000000', '2023-03-07T00:00:00.000000000',\n",
       "                          '2023-03-08T00:00:00.000000000', '2023-03-09T00:00:00.000000000',\n",
       "                          '2023-03-10T00:00:00.000000000', '2023-03-13T00:00:00.000000000',\n",
       "                          '2023-03-14T00:00:00.000000000', '2023-03-15T00:00:00.000000000',\n",
       "                          '2023-03-16T00:00:00.000000000', '2023-03-17T00:00:00.000000000',\n",
       "                          '2023-03-20T00:00:00.000000000', '2023-03-21T00:00:00.000000000',\n",
       "                          '2023-03-22T00:00:00.000000000', '2023-03-23T00:00:00.000000000',\n",
       "                          '2023-03-24T00:00:00.000000000', '2023-03-27T00:00:00.000000000',\n",
       "                          '2023-03-28T00:00:00.000000000', '2023-03-29T00:00:00.000000000',\n",
       "                          '2023-03-30T00:00:00.000000000', '2023-03-31T00:00:00.000000000',\n",
       "                          '2023-04-03T00:00:00.000000000', '2023-04-04T00:00:00.000000000',\n",
       "                          '2023-04-05T00:00:00.000000000', '2023-04-06T00:00:00.000000000',\n",
       "                          '2023-04-10T00:00:00.000000000', '2023-04-11T00:00:00.000000000',\n",
       "                          '2023-04-12T00:00:00.000000000', '2023-04-13T00:00:00.000000000',\n",
       "                          '2023-04-14T00:00:00.000000000', '2023-04-17T00:00:00.000000000',\n",
       "                          '2023-04-18T00:00:00.000000000', '2023-04-19T00:00:00.000000000',\n",
       "                          '2023-04-20T00:00:00.000000000', '2023-04-21T00:00:00.000000000',\n",
       "                          '2023-04-24T00:00:00.000000000', '2023-04-25T00:00:00.000000000',\n",
       "                          '2023-04-26T00:00:00.000000000', '2023-04-27T00:00:00.000000000',\n",
       "                          '2023-04-28T00:00:00.000000000', '2023-05-01T00:00:00.000000000',\n",
       "                          '2023-05-02T00:00:00.000000000', '2023-05-03T00:00:00.000000000',\n",
       "                          '2023-05-04T00:00:00.000000000', '2023-05-05T00:00:00.000000000'],\n",
       "                         dtype='datetime64[ns]'),\n",
       "              'xaxis': 'x',\n",
       "              'y': {'bdata': ('AAAAYI8CW0AAAAAAAABZQAAAAKBw3V' ... 'Cuh1pAAAAAoHBNWkAAAACAwo1aQA=='),\n",
       "                    'dtype': 'f8'},\n",
       "              'yaxis': 'y'},\n",
       "             {'name': 'MSFT',\n",
       "              'type': 'scatter',\n",
       "              'x': array(['2023-02-07T00:00:00.000000000', '2023-02-08T00:00:00.000000000',\n",
       "                          '2023-02-09T00:00:00.000000000', '2023-02-10T00:00:00.000000000',\n",
       "                          '2023-02-13T00:00:00.000000000', '2023-02-14T00:00:00.000000000',\n",
       "                          '2023-02-15T00:00:00.000000000', '2023-02-16T00:00:00.000000000',\n",
       "                          '2023-02-17T00:00:00.000000000', '2023-02-21T00:00:00.000000000',\n",
       "                          '2023-02-22T00:00:00.000000000', '2023-02-23T00:00:00.000000000',\n",
       "                          '2023-02-24T00:00:00.000000000', '2023-02-27T00:00:00.000000000',\n",
       "                          '2023-02-28T00:00:00.000000000', '2023-03-01T00:00:00.000000000',\n",
       "                          '2023-03-02T00:00:00.000000000', '2023-03-03T00:00:00.000000000',\n",
       "                          '2023-03-06T00:00:00.000000000', '2023-03-07T00:00:00.000000000',\n",
       "                          '2023-03-08T00:00:00.000000000', '2023-03-09T00:00:00.000000000',\n",
       "                          '2023-03-10T00:00:00.000000000', '2023-03-13T00:00:00.000000000',\n",
       "                          '2023-03-14T00:00:00.000000000', '2023-03-15T00:00:00.000000000',\n",
       "                          '2023-03-16T00:00:00.000000000', '2023-03-17T00:00:00.000000000',\n",
       "                          '2023-03-20T00:00:00.000000000', '2023-03-21T00:00:00.000000000',\n",
       "                          '2023-03-22T00:00:00.000000000', '2023-03-23T00:00:00.000000000',\n",
       "                          '2023-03-24T00:00:00.000000000', '2023-03-27T00:00:00.000000000',\n",
       "                          '2023-03-28T00:00:00.000000000', '2023-03-29T00:00:00.000000000',\n",
       "                          '2023-03-30T00:00:00.000000000', '2023-03-31T00:00:00.000000000',\n",
       "                          '2023-04-03T00:00:00.000000000', '2023-04-04T00:00:00.000000000',\n",
       "                          '2023-04-05T00:00:00.000000000', '2023-04-06T00:00:00.000000000',\n",
       "                          '2023-04-10T00:00:00.000000000', '2023-04-11T00:00:00.000000000',\n",
       "                          '2023-04-12T00:00:00.000000000', '2023-04-13T00:00:00.000000000',\n",
       "                          '2023-04-14T00:00:00.000000000', '2023-04-17T00:00:00.000000000',\n",
       "                          '2023-04-18T00:00:00.000000000', '2023-04-19T00:00:00.000000000',\n",
       "                          '2023-04-20T00:00:00.000000000', '2023-04-21T00:00:00.000000000',\n",
       "                          '2023-04-24T00:00:00.000000000', '2023-04-25T00:00:00.000000000',\n",
       "                          '2023-04-26T00:00:00.000000000', '2023-04-27T00:00:00.000000000',\n",
       "                          '2023-04-28T00:00:00.000000000', '2023-05-01T00:00:00.000000000',\n",
       "                          '2023-05-02T00:00:00.000000000', '2023-05-03T00:00:00.000000000',\n",
       "                          '2023-05-04T00:00:00.000000000', '2023-05-05T00:00:00.000000000'],\n",
       "                         dtype='datetime64[ns]'),\n",
       "              'xaxis': 'x',\n",
       "              'y': {'bdata': ('////v/W4cEAAAAAgrqtwQAAAAIDreX' ... 'BmBnNAAAAAYI8Wc0AAAABgZmpzQA=='),\n",
       "                    'dtype': 'f8'},\n",
       "              'yaxis': 'y'},\n",
       "             {'name': 'NFLX',\n",
       "              'type': 'scatter',\n",
       "              'x': array(['2023-02-07T00:00:00.000000000', '2023-02-08T00:00:00.000000000',\n",
       "                          '2023-02-09T00:00:00.000000000', '2023-02-10T00:00:00.000000000',\n",
       "                          '2023-02-13T00:00:00.000000000', '2023-02-14T00:00:00.000000000',\n",
       "                          '2023-02-15T00:00:00.000000000', '2023-02-16T00:00:00.000000000',\n",
       "                          '2023-02-17T00:00:00.000000000', '2023-02-21T00:00:00.000000000',\n",
       "                          '2023-02-22T00:00:00.000000000', '2023-02-23T00:00:00.000000000',\n",
       "                          '2023-02-24T00:00:00.000000000', '2023-02-27T00:00:00.000000000',\n",
       "                          '2023-02-28T00:00:00.000000000', '2023-03-01T00:00:00.000000000',\n",
       "                          '2023-03-02T00:00:00.000000000', '2023-03-03T00:00:00.000000000',\n",
       "                          '2023-03-06T00:00:00.000000000', '2023-03-07T00:00:00.000000000',\n",
       "                          '2023-03-08T00:00:00.000000000', '2023-03-09T00:00:00.000000000',\n",
       "                          '2023-03-10T00:00:00.000000000', '2023-03-13T00:00:00.000000000',\n",
       "                          '2023-03-14T00:00:00.000000000', '2023-03-15T00:00:00.000000000',\n",
       "                          '2023-03-16T00:00:00.000000000', '2023-03-17T00:00:00.000000000',\n",
       "                          '2023-03-20T00:00:00.000000000', '2023-03-21T00:00:00.000000000',\n",
       "                          '2023-03-22T00:00:00.000000000', '2023-03-23T00:00:00.000000000',\n",
       "                          '2023-03-24T00:00:00.000000000', '2023-03-27T00:00:00.000000000',\n",
       "                          '2023-03-28T00:00:00.000000000', '2023-03-29T00:00:00.000000000',\n",
       "                          '2023-03-30T00:00:00.000000000', '2023-03-31T00:00:00.000000000',\n",
       "                          '2023-04-03T00:00:00.000000000', '2023-04-04T00:00:00.000000000',\n",
       "                          '2023-04-05T00:00:00.000000000', '2023-04-06T00:00:00.000000000',\n",
       "                          '2023-04-10T00:00:00.000000000', '2023-04-11T00:00:00.000000000',\n",
       "                          '2023-04-12T00:00:00.000000000', '2023-04-13T00:00:00.000000000',\n",
       "                          '2023-04-14T00:00:00.000000000', '2023-04-17T00:00:00.000000000',\n",
       "                          '2023-04-18T00:00:00.000000000', '2023-04-19T00:00:00.000000000',\n",
       "                          '2023-04-20T00:00:00.000000000', '2023-04-21T00:00:00.000000000',\n",
       "                          '2023-04-24T00:00:00.000000000', '2023-04-25T00:00:00.000000000',\n",
       "                          '2023-04-26T00:00:00.000000000', '2023-04-27T00:00:00.000000000',\n",
       "                          '2023-04-28T00:00:00.000000000', '2023-05-01T00:00:00.000000000',\n",
       "                          '2023-05-02T00:00:00.000000000', '2023-05-03T00:00:00.000000000',\n",
       "                          '2023-05-04T00:00:00.000000000', '2023-05-05T00:00:00.000000000'],\n",
       "                         dtype='datetime64[ns]'),\n",
       "              'xaxis': 'x',\n",
       "              'y': {'bdata': ('AQAAQDOvdkAAAACgR+12QAAAAAAAqH' ... 'DM9HNAAAAA4HoMdEAAAAAAKSx0QA=='),\n",
       "                    'dtype': 'f8'},\n",
       "              'yaxis': 'y'}],\n",
       "    'layout': {'legend': {'title': {'text': 'Ticker'}},\n",
       "               'showlegend': True,\n",
       "               'template': '...',\n",
       "               'title': {'text': 'Time Series of Closing Prices'},\n",
       "               'xaxis': {'anchor': 'y', 'domain': [0.0, 1.0], 'title': {'text': 'Date'}},\n",
       "               'yaxis': {'anchor': 'x', 'domain': [0.0, 1.0], 'title': {'text': 'Closing Price'}}}\n",
       "})"
      ]
     },
     "execution_count": 21,
     "metadata": {},
     "output_type": "execute_result"
    }
   ],
   "source": [
    "# Create a subplot\n",
    "fig = make_subplots(rows=1, cols=1)\n",
    "\n",
    "# Add traces for each stock ticker\n",
    "for col in pivot_data.columns:\n",
    "    fig.add_trace(\n",
    "        go.Scatter(x=pivot_data.index, y=pivot_data[col], name=col),\n",
    "        row=1, col=1\n",
    "    )\n",
    "\n",
    "fig.update_layout(\n",
    "    title_text='Time Series of Closing Prices',\n",
    "    xaxis_title='Date',\n",
    "    yaxis_title='Closing Price',\n",
    "    legend_title='Ticker',\n",
    "    showlegend=True\n",
    ")\n",
    "\n",
    "# fig.show()"
   ]
  },
  {
   "cell_type": "markdown",
   "metadata": {},
   "source": [
    "#### The above plot displays the time series of the closing prices for each stock (AAPL, GOOG, MSFT, NFLX) over the observed period. Here are some key observations:\n",
    "\n",
    "`Trend`: Each stock shows its unique trend over time. For instance, AAPL and MSFT exhibit a general upward trend in this period.\n",
    "\n",
    "`Volatility`: There is noticeable volatility in the stock prices. For example, NFLX shows more pronounced fluctuations compared to others.\n",
    "\n",
    "`Comparative` Performance: When comparing the stocks, MSFT and NFLX generally trade at higher price levels than AAPL and GOOG in this dataset.\n"
   ]
  },
  {
   "cell_type": "code",
   "execution_count": null,
   "metadata": {},
   "outputs": [],
   "source": []
  },
  {
   "cell_type": "markdown",
   "metadata": {},
   "source": [
    "## Volatility Analysis\n",
    "\n",
    "Next, let’s focus on Volatility Analysis. We’ll calculate and compare the volatility (standard deviation) of the closing prices for each stock. It will give us an insight into how much the stock prices fluctuated over the period:"
   ]
  },
  {
   "cell_type": "code",
   "execution_count": 22,
   "metadata": {},
   "outputs": [
    {
     "name": "stdout",
     "output_type": "stream",
     "text": [
      "Ticker\n",
      "NFLX    18.554419\n",
      "MSFT    17.676231\n",
      "AAPL     7.360485\n",
      "GOOG     6.279464\n",
      "dtype: float64\n"
     ]
    }
   ],
   "source": [
    "volatility = pivot_data.std().sort_values(ascending=False)\n",
    "\n",
    "print(volatility)"
   ]
  },
  {
   "cell_type": "code",
   "execution_count": 30,
   "metadata": {},
   "outputs": [],
   "source": [
    "fig = px.bar(\n",
    "    volatility,\n",
    "    x=volatility.index,\n",
    "    y=volatility.values,\n",
    "    labels={'y': 'Standard Deviation', 'x': 'Ticker'},\n",
    "    title = 'Volatility of Closing Prices '\n",
    ")\n",
    "# fig.show()"
   ]
  },
  {
   "cell_type": "markdown",
   "metadata": {},
   "source": [
    "## Correlation Analysis\n",
    "\n",
    "Next, we’ll perform a Correlation Analysis to understand how the stock prices of these companies are related to each other:"
   ]
  },
  {
   "cell_type": "code",
   "execution_count": 31,
   "metadata": {},
   "outputs": [
    {
     "name": "stdout",
     "output_type": "stream",
     "text": [
      "Ticker      AAPL      GOOG      MSFT      NFLX\n",
      "Ticker                                        \n",
      "AAPL    1.000000  0.901662  0.953037  0.154418\n",
      "GOOG    0.901662  1.000000  0.884527  0.201046\n",
      "MSFT    0.953037  0.884527  1.000000  0.191273\n",
      "NFLX    0.154418  0.201046  0.191273  1.000000\n"
     ]
    }
   ],
   "source": [
    "corr = pivot_data.corr()\n",
    "print(corr)"
   ]
  },
  {
   "cell_type": "code",
   "execution_count": 33,
   "metadata": {},
   "outputs": [
    {
     "data": {
      "text/plain": [
       "<Axes: xlabel='Ticker', ylabel='Ticker'>"
      ]
     },
     "execution_count": 33,
     "metadata": {},
     "output_type": "execute_result"
    },
    {
     "data": {
      "image/png": "[encoded data removed]",
      "text/plain": [
       "<Figure size 640x480 with 2 Axes>"
      ]
     },
     "metadata": {},
     "output_type": "display_data"
    }
   ],
   "source": [
    "sns.heatmap(corr, annot=True, cmap='crest')"
   ]
  },
  {
   "cell_type": "markdown",
   "metadata": {},
   "source": [
    "The heatmap above displays the correlation matrix of the closing prices of the four stocks (AAPL, GOOG, MSFT, NFLX). Here’s what the correlation coefficients suggest:\n",
    "\n",
    "- Values close to +1 indicate a strong positive correlation, meaning that as one stock’s price increases, the other tends to increase as well.\n",
    "-    Values close to -1 indicate a strong negative correlation, where one stock’s price increase corresponds to a decrease in the other.\n",
    " -   Values around 0 indicate a lack of correlation.\n",
    "\n",
    "From the heatmap, we can observe that there are varying degrees of positive correlations between the stock prices, with some pairs showing stronger correlations than others. For instance, AAPL and MSFT seem to have a relatively higher positive correlation.\n"
   ]
  },
  {
   "cell_type": "markdown",
   "metadata": {},
   "source": [
    "### Summary\n",
    "\n",
    "So, this is how you can perform a Quantitative Analysis of the Stock Market using Python. Quantitative Analysis in the stock market is a financial methodology that utilizes mathematical and statistical techniques to analyze stocks and financial markets."
   ]
  },
  {
   "cell_type": "code",
   "execution_count": null,
   "metadata": {},
   "outputs": [],
   "source": []
  }
 ],
 "metadata": {
  "kernelspec": {
   "display_name": "dsvenv",
   "language": "python",
   "name": "python3"
  },
  "language_info": {
   "codemirror_mode": {
    "name": "ipython",
    "version": 3
   },
   "file_extension": ".py",
   "mimetype": "text/x-python",
   "name": "python",
   "nbconvert_exporter": "python",
   "pygments_lexer": "ipython3",
   "version": "3.12.3"
  }
 },
 "nbformat": 4,
 "nbformat_minor": 2
}

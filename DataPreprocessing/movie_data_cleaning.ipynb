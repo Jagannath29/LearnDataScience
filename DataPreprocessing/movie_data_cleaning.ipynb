{
 "cells": [
  {
   "cell_type": "code",
   "execution_count": 114,
   "metadata": {},
   "outputs": [],
   "source": [
    "# Import library\n",
    "import pandas as pd\n",
    "import numpy as np\n",
    "\n"
   ]
  },
  {
   "cell_type": "code",
   "execution_count": 115,
   "metadata": {},
   "outputs": [
    {
     "data": {
      "text/html": [
       "<div>\n",
       "<style scoped>\n",
       "    .dataframe tbody tr th:only-of-type {\n",
       "        vertical-align: middle;\n",
       "    }\n",
       "\n",
       "    .dataframe tbody tr th {\n",
       "        vertical-align: top;\n",
       "    }\n",
       "\n",
       "    .dataframe thead th {\n",
       "        text-align: right;\n",
       "    }\n",
       "</style>\n",
       "<table border=\"1\" class=\"dataframe\">\n",
       "  <thead>\n",
       "    <tr style=\"text-align: right;\">\n",
       "      <th></th>\n",
       "      <th>MOVIES</th>\n",
       "      <th>YEAR</th>\n",
       "      <th>GENRE</th>\n",
       "      <th>RATING</th>\n",
       "      <th>ONE-LINE</th>\n",
       "      <th>STARS</th>\n",
       "      <th>VOTES</th>\n",
       "      <th>RunTime</th>\n",
       "      <th>Gross</th>\n",
       "    </tr>\n",
       "  </thead>\n",
       "  <tbody>\n",
       "    <tr>\n",
       "      <th>0</th>\n",
       "      <td>Blood Red Sky</td>\n",
       "      <td>(2021)</td>\n",
       "      <td>\\nAction, Horror, Thriller</td>\n",
       "      <td>6.1</td>\n",
       "      <td>\\nA woman with a mysterious illness is forced ...</td>\n",
       "      <td>\\n    Director:\\nPeter Thorwarth\\n| \\n    Star...</td>\n",
       "      <td>21,062</td>\n",
       "      <td>121.0</td>\n",
       "      <td>NaN</td>\n",
       "    </tr>\n",
       "    <tr>\n",
       "      <th>1</th>\n",
       "      <td>Masters of the Universe: Revelation</td>\n",
       "      <td>(2021– )</td>\n",
       "      <td>\\nAnimation, Action, Adventure</td>\n",
       "      <td>5.0</td>\n",
       "      <td>\\nThe war for Eternia begins again in what may...</td>\n",
       "      <td>\\n            \\n    Stars:\\nChris Wood, \\nSara...</td>\n",
       "      <td>17,870</td>\n",
       "      <td>25.0</td>\n",
       "      <td>NaN</td>\n",
       "    </tr>\n",
       "    <tr>\n",
       "      <th>2</th>\n",
       "      <td>The Walking Dead</td>\n",
       "      <td>(2010–2022)</td>\n",
       "      <td>\\nDrama, Horror, Thriller</td>\n",
       "      <td>8.2</td>\n",
       "      <td>\\nSheriff Deputy Rick Grimes wakes up from a c...</td>\n",
       "      <td>\\n            \\n    Stars:\\nAndrew Lincoln, \\n...</td>\n",
       "      <td>885,805</td>\n",
       "      <td>44.0</td>\n",
       "      <td>NaN</td>\n",
       "    </tr>\n",
       "    <tr>\n",
       "      <th>3</th>\n",
       "      <td>Rick and Morty</td>\n",
       "      <td>(2013– )</td>\n",
       "      <td>\\nAnimation, Adventure, Comedy</td>\n",
       "      <td>9.2</td>\n",
       "      <td>\\nAn animated series that follows the exploits...</td>\n",
       "      <td>\\n            \\n    Stars:\\nJustin Roiland, \\n...</td>\n",
       "      <td>414,849</td>\n",
       "      <td>23.0</td>\n",
       "      <td>NaN</td>\n",
       "    </tr>\n",
       "    <tr>\n",
       "      <th>4</th>\n",
       "      <td>Army of Thieves</td>\n",
       "      <td>(2021)</td>\n",
       "      <td>\\nAction, Crime, Horror</td>\n",
       "      <td>NaN</td>\n",
       "      <td>\\nA prequel, set before the events of Army of ...</td>\n",
       "      <td>\\n    Director:\\nMatthias Schweighöfer\\n| \\n  ...</td>\n",
       "      <td>NaN</td>\n",
       "      <td>NaN</td>\n",
       "      <td>NaN</td>\n",
       "    </tr>\n",
       "  </tbody>\n",
       "</table>\n",
       "</div>"
      ],
      "text/plain": [
       "                                MOVIES         YEAR  \\\n",
       "0                        Blood Red Sky       (2021)   \n",
       "1  Masters of the Universe: Revelation     (2021– )   \n",
       "2                     The Walking Dead  (2010–2022)   \n",
       "3                       Rick and Morty     (2013– )   \n",
       "4                      Army of Thieves       (2021)   \n",
       "\n",
       "                                        GENRE  RATING  \\\n",
       "0      \\nAction, Horror, Thriller                 6.1   \n",
       "1  \\nAnimation, Action, Adventure                 5.0   \n",
       "2       \\nDrama, Horror, Thriller                 8.2   \n",
       "3  \\nAnimation, Adventure, Comedy                 9.2   \n",
       "4         \\nAction, Crime, Horror                 NaN   \n",
       "\n",
       "                                            ONE-LINE  \\\n",
       "0  \\nA woman with a mysterious illness is forced ...   \n",
       "1  \\nThe war for Eternia begins again in what may...   \n",
       "2  \\nSheriff Deputy Rick Grimes wakes up from a c...   \n",
       "3  \\nAn animated series that follows the exploits...   \n",
       "4  \\nA prequel, set before the events of Army of ...   \n",
       "\n",
       "                                               STARS    VOTES  RunTime Gross  \n",
       "0  \\n    Director:\\nPeter Thorwarth\\n| \\n    Star...   21,062    121.0   NaN  \n",
       "1  \\n            \\n    Stars:\\nChris Wood, \\nSara...   17,870     25.0   NaN  \n",
       "2  \\n            \\n    Stars:\\nAndrew Lincoln, \\n...  885,805     44.0   NaN  \n",
       "3  \\n            \\n    Stars:\\nJustin Roiland, \\n...  414,849     23.0   NaN  \n",
       "4  \\n    Director:\\nMatthias Schweighöfer\\n| \\n  ...      NaN      NaN   NaN  "
      ]
     },
     "execution_count": 115,
     "metadata": {},
     "output_type": "execute_result"
    }
   ],
   "source": [
    "# load dataset\n",
    "\n",
    "movies = pd.read_csv('../data/movies.csv')\n",
    "\n",
    "movies.head()"
   ]
  },
  {
   "cell_type": "markdown",
   "metadata": {},
   "source": [
    "### Explore the data"
   ]
  },
  {
   "cell_type": "code",
   "execution_count": null,
   "metadata": {},
   "outputs": [],
   "source": []
  },
  {
   "cell_type": "code",
   "execution_count": 116,
   "metadata": {},
   "outputs": [
    {
     "name": "stdout",
     "output_type": "stream",
     "text": [
      "<class 'pandas.core.frame.DataFrame'>\n",
      "RangeIndex: 9999 entries, 0 to 9998\n",
      "Data columns (total 9 columns):\n",
      " #   Column    Non-Null Count  Dtype  \n",
      "---  ------    --------------  -----  \n",
      " 0   MOVIES    9999 non-null   object \n",
      " 1   YEAR      9355 non-null   object \n",
      " 2   GENRE     9919 non-null   object \n",
      " 3   RATING    8179 non-null   float64\n",
      " 4   ONE-LINE  9999 non-null   object \n",
      " 5   STARS     9999 non-null   object \n",
      " 6   VOTES     8179 non-null   object \n",
      " 7   RunTime   7041 non-null   float64\n",
      " 8   Gross     460 non-null    object \n",
      "dtypes: float64(2), object(7)\n",
      "memory usage: 703.2+ KB\n"
     ]
    }
   ],
   "source": [
    "# information about data\n",
    "movies.info()"
   ]
  },
  {
   "cell_type": "code",
   "execution_count": 117,
   "metadata": {},
   "outputs": [
    {
     "data": {
      "text/html": [
       "<div>\n",
       "<style scoped>\n",
       "    .dataframe tbody tr th:only-of-type {\n",
       "        vertical-align: middle;\n",
       "    }\n",
       "\n",
       "    .dataframe tbody tr th {\n",
       "        vertical-align: top;\n",
       "    }\n",
       "\n",
       "    .dataframe thead th {\n",
       "        text-align: right;\n",
       "    }\n",
       "</style>\n",
       "<table border=\"1\" class=\"dataframe\">\n",
       "  <thead>\n",
       "    <tr style=\"text-align: right;\">\n",
       "      <th></th>\n",
       "      <th>RATING</th>\n",
       "      <th>RunTime</th>\n",
       "    </tr>\n",
       "  </thead>\n",
       "  <tbody>\n",
       "    <tr>\n",
       "      <th>count</th>\n",
       "      <td>8179.000000</td>\n",
       "      <td>7041.000000</td>\n",
       "    </tr>\n",
       "    <tr>\n",
       "      <th>mean</th>\n",
       "      <td>6.921176</td>\n",
       "      <td>68.688539</td>\n",
       "    </tr>\n",
       "    <tr>\n",
       "      <th>std</th>\n",
       "      <td>1.220232</td>\n",
       "      <td>47.258056</td>\n",
       "    </tr>\n",
       "    <tr>\n",
       "      <th>min</th>\n",
       "      <td>1.100000</td>\n",
       "      <td>1.000000</td>\n",
       "    </tr>\n",
       "    <tr>\n",
       "      <th>25%</th>\n",
       "      <td>6.200000</td>\n",
       "      <td>36.000000</td>\n",
       "    </tr>\n",
       "    <tr>\n",
       "      <th>50%</th>\n",
       "      <td>7.100000</td>\n",
       "      <td>60.000000</td>\n",
       "    </tr>\n",
       "    <tr>\n",
       "      <th>75%</th>\n",
       "      <td>7.800000</td>\n",
       "      <td>95.000000</td>\n",
       "    </tr>\n",
       "    <tr>\n",
       "      <th>max</th>\n",
       "      <td>9.900000</td>\n",
       "      <td>853.000000</td>\n",
       "    </tr>\n",
       "  </tbody>\n",
       "</table>\n",
       "</div>"
      ],
      "text/plain": [
       "            RATING      RunTime\n",
       "count  8179.000000  7041.000000\n",
       "mean      6.921176    68.688539\n",
       "std       1.220232    47.258056\n",
       "min       1.100000     1.000000\n",
       "25%       6.200000    36.000000\n",
       "50%       7.100000    60.000000\n",
       "75%       7.800000    95.000000\n",
       "max       9.900000   853.000000"
      ]
     },
     "execution_count": 117,
     "metadata": {},
     "output_type": "execute_result"
    }
   ],
   "source": [
    "movies.describe()"
   ]
  },
  {
   "cell_type": "code",
   "execution_count": 118,
   "metadata": {},
   "outputs": [
    {
     "data": {
      "text/plain": [
       "MOVIES         0\n",
       "YEAR         644\n",
       "GENRE         80\n",
       "RATING      1820\n",
       "ONE-LINE       0\n",
       "STARS          0\n",
       "VOTES       1820\n",
       "RunTime     2958\n",
       "Gross       9539\n",
       "dtype: int64"
      ]
     },
     "execution_count": 118,
     "metadata": {},
     "output_type": "execute_result"
    }
   ],
   "source": [
    "# Check null values\n",
    "\n",
    "movies.isnull().sum()"
   ]
  },
  {
   "cell_type": "code",
   "execution_count": 119,
   "metadata": {},
   "outputs": [
    {
     "name": "stdout",
     "output_type": "stream",
     "text": [
      "MOVIES      0.000000\n",
      "YEAR        0.064406\n",
      "GENRE       0.008001\n",
      "RATING      0.182018\n",
      "ONE-LINE    0.000000\n",
      "STARS       0.000000\n",
      "VOTES       0.182018\n",
      "RunTime     0.295830\n",
      "Gross       0.953995\n",
      "dtype: float64\n"
     ]
    }
   ],
   "source": [
    "# in percent\n",
    "print((movies.isna().sum()/movies.shape[0]))"
   ]
  },
  {
   "cell_type": "code",
   "execution_count": 120,
   "metadata": {},
   "outputs": [
    {
     "data": {
      "text/plain": [
       "np.int64(431)"
      ]
     },
     "execution_count": 120,
     "metadata": {},
     "output_type": "execute_result"
    }
   ],
   "source": [
    "# duplicate data\n",
    "\n",
    "movies.duplicated().sum()"
   ]
  },
  {
   "cell_type": "markdown",
   "metadata": {},
   "source": [
    "### Data Preprocessing"
   ]
  },
  {
   "cell_type": "code",
   "execution_count": 121,
   "metadata": {},
   "outputs": [
    {
     "name": "stderr",
     "output_type": "stream",
     "text": [
      "<>:3: SyntaxWarning: invalid escape sequence '\\d'\n",
      "<>:3: SyntaxWarning: invalid escape sequence '\\d'\n",
      "/tmp/ipykernel_11740/2707298692.py:3: SyntaxWarning: invalid escape sequence '\\d'\n",
      "  movies['YEAR'] = movies['YEAR'].str.extract('(\\d{4})')  # \\d is the number from 0-9, we took 4 number to make year\n"
     ]
    }
   ],
   "source": [
    "# Work on year column\n",
    "\n",
    "movies['YEAR'] = movies['YEAR'].str.extract('(\\d{4})')  # \\d is the number from 0-9, we took 4 number to make year\n"
   ]
  },
  {
   "cell_type": "code",
   "execution_count": 122,
   "metadata": {},
   "outputs": [
    {
     "data": {
      "text/plain": [
       "0       2021\n",
       "1       2021\n",
       "2       2010\n",
       "3       2013\n",
       "4       2021\n",
       "        ... \n",
       "9994    2021\n",
       "9995    2021\n",
       "9996    2022\n",
       "9997    2021\n",
       "9998    2021\n",
       "Name: YEAR, Length: 9999, dtype: object"
      ]
     },
     "execution_count": 122,
     "metadata": {},
     "output_type": "execute_result"
    }
   ],
   "source": [
    "movies['YEAR']"
   ]
  },
  {
   "cell_type": "code",
   "execution_count": 123,
   "metadata": {},
   "outputs": [],
   "source": [
    "# remove /n from GENRE ,ONE-LINE \n",
    "def remove_n(col):\n",
    "    movies[col] = movies[col].str.replace(\"\\n\", \"\").str.strip()\n",
    "    return movies\n",
    "\n",
    "movies = remove_n('GENRE')\n",
    "movies = remove_n('ONE-LINE')\n"
   ]
  },
  {
   "cell_type": "code",
   "execution_count": 124,
   "metadata": {},
   "outputs": [
    {
     "data": {
      "text/html": [
       "<div>\n",
       "<style scoped>\n",
       "    .dataframe tbody tr th:only-of-type {\n",
       "        vertical-align: middle;\n",
       "    }\n",
       "\n",
       "    .dataframe tbody tr th {\n",
       "        vertical-align: top;\n",
       "    }\n",
       "\n",
       "    .dataframe thead th {\n",
       "        text-align: right;\n",
       "    }\n",
       "</style>\n",
       "<table border=\"1\" class=\"dataframe\">\n",
       "  <thead>\n",
       "    <tr style=\"text-align: right;\">\n",
       "      <th></th>\n",
       "      <th>MOVIES</th>\n",
       "      <th>YEAR</th>\n",
       "      <th>GENRE</th>\n",
       "      <th>RATING</th>\n",
       "      <th>ONE-LINE</th>\n",
       "      <th>STARS</th>\n",
       "      <th>VOTES</th>\n",
       "      <th>RunTime</th>\n",
       "      <th>Gross</th>\n",
       "    </tr>\n",
       "  </thead>\n",
       "  <tbody>\n",
       "    <tr>\n",
       "      <th>0</th>\n",
       "      <td>Blood Red Sky</td>\n",
       "      <td>2021</td>\n",
       "      <td>Action, Horror, Thriller</td>\n",
       "      <td>6.1</td>\n",
       "      <td>A woman with a mysterious illness is forced in...</td>\n",
       "      <td>\\n    Director:\\nPeter Thorwarth\\n| \\n    Star...</td>\n",
       "      <td>21,062</td>\n",
       "      <td>121.0</td>\n",
       "      <td>NaN</td>\n",
       "    </tr>\n",
       "    <tr>\n",
       "      <th>1</th>\n",
       "      <td>Masters of the Universe: Revelation</td>\n",
       "      <td>2021</td>\n",
       "      <td>Animation, Action, Adventure</td>\n",
       "      <td>5.0</td>\n",
       "      <td>The war for Eternia begins again in what may b...</td>\n",
       "      <td>\\n            \\n    Stars:\\nChris Wood, \\nSara...</td>\n",
       "      <td>17,870</td>\n",
       "      <td>25.0</td>\n",
       "      <td>NaN</td>\n",
       "    </tr>\n",
       "    <tr>\n",
       "      <th>2</th>\n",
       "      <td>The Walking Dead</td>\n",
       "      <td>2010</td>\n",
       "      <td>Drama, Horror, Thriller</td>\n",
       "      <td>8.2</td>\n",
       "      <td>Sheriff Deputy Rick Grimes wakes up from a com...</td>\n",
       "      <td>\\n            \\n    Stars:\\nAndrew Lincoln, \\n...</td>\n",
       "      <td>885,805</td>\n",
       "      <td>44.0</td>\n",
       "      <td>NaN</td>\n",
       "    </tr>\n",
       "    <tr>\n",
       "      <th>3</th>\n",
       "      <td>Rick and Morty</td>\n",
       "      <td>2013</td>\n",
       "      <td>Animation, Adventure, Comedy</td>\n",
       "      <td>9.2</td>\n",
       "      <td>An animated series that follows the exploits o...</td>\n",
       "      <td>\\n            \\n    Stars:\\nJustin Roiland, \\n...</td>\n",
       "      <td>414,849</td>\n",
       "      <td>23.0</td>\n",
       "      <td>NaN</td>\n",
       "    </tr>\n",
       "    <tr>\n",
       "      <th>4</th>\n",
       "      <td>Army of Thieves</td>\n",
       "      <td>2021</td>\n",
       "      <td>Action, Crime, Horror</td>\n",
       "      <td>NaN</td>\n",
       "      <td>A prequel, set before the events of Army of th...</td>\n",
       "      <td>\\n    Director:\\nMatthias Schweighöfer\\n| \\n  ...</td>\n",
       "      <td>NaN</td>\n",
       "      <td>NaN</td>\n",
       "      <td>NaN</td>\n",
       "    </tr>\n",
       "  </tbody>\n",
       "</table>\n",
       "</div>"
      ],
      "text/plain": [
       "                                MOVIES  YEAR                         GENRE  \\\n",
       "0                        Blood Red Sky  2021      Action, Horror, Thriller   \n",
       "1  Masters of the Universe: Revelation  2021  Animation, Action, Adventure   \n",
       "2                     The Walking Dead  2010       Drama, Horror, Thriller   \n",
       "3                       Rick and Morty  2013  Animation, Adventure, Comedy   \n",
       "4                      Army of Thieves  2021         Action, Crime, Horror   \n",
       "\n",
       "   RATING                                           ONE-LINE  \\\n",
       "0     6.1  A woman with a mysterious illness is forced in...   \n",
       "1     5.0  The war for Eternia begins again in what may b...   \n",
       "2     8.2  Sheriff Deputy Rick Grimes wakes up from a com...   \n",
       "3     9.2  An animated series that follows the exploits o...   \n",
       "4     NaN  A prequel, set before the events of Army of th...   \n",
       "\n",
       "                                               STARS    VOTES  RunTime Gross  \n",
       "0  \\n    Director:\\nPeter Thorwarth\\n| \\n    Star...   21,062    121.0   NaN  \n",
       "1  \\n            \\n    Stars:\\nChris Wood, \\nSara...   17,870     25.0   NaN  \n",
       "2  \\n            \\n    Stars:\\nAndrew Lincoln, \\n...  885,805     44.0   NaN  \n",
       "3  \\n            \\n    Stars:\\nJustin Roiland, \\n...  414,849     23.0   NaN  \n",
       "4  \\n    Director:\\nMatthias Schweighöfer\\n| \\n  ...      NaN      NaN   NaN  "
      ]
     },
     "execution_count": 124,
     "metadata": {},
     "output_type": "execute_result"
    }
   ],
   "source": [
    "movies.head()"
   ]
  },
  {
   "cell_type": "code",
   "execution_count": 125,
   "metadata": {},
   "outputs": [],
   "source": [
    "# def extract_director(row):\n",
    "#     if 'Director' in row:\n",
    "#         director = row.split(\"Director: \")[1].split('|')[0]\n",
    "\n",
    "#     return director\n",
    "\n",
    "# movies['Director'] = movies.apply(extract_director)\n",
    "# movies.head()"
   ]
  },
  {
   "cell_type": "code",
   "execution_count": null,
   "metadata": {},
   "outputs": [],
   "source": []
  },
  {
   "cell_type": "code",
   "execution_count": null,
   "metadata": {},
   "outputs": [],
   "source": []
  },
  {
   "cell_type": "code",
   "execution_count": 126,
   "metadata": {},
   "outputs": [],
   "source": [
    " # Seperate director and star\n",
    "def extract_info(row):\n",
    "    director = None\n",
    "    stars = None\n",
    "    if 'Director:' in row:\n",
    "        director = row.split('Director:\\n')[1].split('\\n|')[0].strip()\n",
    "    if 'Stars:' in row:\n",
    "        stars = row.split('Stars:\\n')[1].replace('\\n', '').strip()\n",
    "    return director, stars\n",
    "\n",
    "movies[['Director', 'Stars']] = movies['STARS'].apply(lambda x: pd.Series(extract_info(x)))"
   ]
  },
  {
   "cell_type": "code",
   "execution_count": null,
   "metadata": {},
   "outputs": [],
   "source": []
  },
  {
   "cell_type": "code",
   "execution_count": 128,
   "metadata": {},
   "outputs": [
    {
     "data": {
      "text/html": [
       "<div>\n",
       "<style scoped>\n",
       "    .dataframe tbody tr th:only-of-type {\n",
       "        vertical-align: middle;\n",
       "    }\n",
       "\n",
       "    .dataframe tbody tr th {\n",
       "        vertical-align: top;\n",
       "    }\n",
       "\n",
       "    .dataframe thead th {\n",
       "        text-align: right;\n",
       "    }\n",
       "</style>\n",
       "<table border=\"1\" class=\"dataframe\">\n",
       "  <thead>\n",
       "    <tr style=\"text-align: right;\">\n",
       "      <th></th>\n",
       "      <th>MOVIES</th>\n",
       "      <th>YEAR</th>\n",
       "      <th>GENRE</th>\n",
       "      <th>RATING</th>\n",
       "      <th>ONE-LINE</th>\n",
       "      <th>VOTES</th>\n",
       "      <th>RunTime</th>\n",
       "      <th>Gross</th>\n",
       "      <th>Director</th>\n",
       "      <th>Stars</th>\n",
       "    </tr>\n",
       "  </thead>\n",
       "  <tbody>\n",
       "    <tr>\n",
       "      <th>0</th>\n",
       "      <td>Blood Red Sky</td>\n",
       "      <td>2021</td>\n",
       "      <td>Action, Horror, Thriller</td>\n",
       "      <td>6.1</td>\n",
       "      <td>A woman with a mysterious illness is forced in...</td>\n",
       "      <td>21,062</td>\n",
       "      <td>121.0</td>\n",
       "      <td>NaN</td>\n",
       "      <td>Peter Thorwarth</td>\n",
       "      <td>Peri Baumeister, Carl Anton Koch, Alexander Sc...</td>\n",
       "    </tr>\n",
       "    <tr>\n",
       "      <th>1</th>\n",
       "      <td>Masters of the Universe: Revelation</td>\n",
       "      <td>2021</td>\n",
       "      <td>Animation, Action, Adventure</td>\n",
       "      <td>5.0</td>\n",
       "      <td>The war for Eternia begins again in what may b...</td>\n",
       "      <td>17,870</td>\n",
       "      <td>25.0</td>\n",
       "      <td>NaN</td>\n",
       "      <td>None</td>\n",
       "      <td>Chris Wood, Sarah Michelle Gellar, Lena Headey...</td>\n",
       "    </tr>\n",
       "    <tr>\n",
       "      <th>2</th>\n",
       "      <td>The Walking Dead</td>\n",
       "      <td>2010</td>\n",
       "      <td>Drama, Horror, Thriller</td>\n",
       "      <td>8.2</td>\n",
       "      <td>Sheriff Deputy Rick Grimes wakes up from a com...</td>\n",
       "      <td>885,805</td>\n",
       "      <td>44.0</td>\n",
       "      <td>NaN</td>\n",
       "      <td>None</td>\n",
       "      <td>Andrew Lincoln, Norman Reedus, Melissa McBride...</td>\n",
       "    </tr>\n",
       "    <tr>\n",
       "      <th>3</th>\n",
       "      <td>Rick and Morty</td>\n",
       "      <td>2013</td>\n",
       "      <td>Animation, Adventure, Comedy</td>\n",
       "      <td>9.2</td>\n",
       "      <td>An animated series that follows the exploits o...</td>\n",
       "      <td>414,849</td>\n",
       "      <td>23.0</td>\n",
       "      <td>NaN</td>\n",
       "      <td>None</td>\n",
       "      <td>Justin Roiland, Chris Parnell, Spencer Grammer...</td>\n",
       "    </tr>\n",
       "    <tr>\n",
       "      <th>4</th>\n",
       "      <td>Army of Thieves</td>\n",
       "      <td>2021</td>\n",
       "      <td>Action, Crime, Horror</td>\n",
       "      <td>NaN</td>\n",
       "      <td>A prequel, set before the events of Army of th...</td>\n",
       "      <td>NaN</td>\n",
       "      <td>NaN</td>\n",
       "      <td>NaN</td>\n",
       "      <td>Matthias Schweighöfer</td>\n",
       "      <td>Matthias Schweighöfer, Nathalie Emmanuel, Ruby...</td>\n",
       "    </tr>\n",
       "  </tbody>\n",
       "</table>\n",
       "</div>"
      ],
      "text/plain": [
       "                                MOVIES  YEAR                         GENRE  \\\n",
       "0                        Blood Red Sky  2021      Action, Horror, Thriller   \n",
       "1  Masters of the Universe: Revelation  2021  Animation, Action, Adventure   \n",
       "2                     The Walking Dead  2010       Drama, Horror, Thriller   \n",
       "3                       Rick and Morty  2013  Animation, Adventure, Comedy   \n",
       "4                      Army of Thieves  2021         Action, Crime, Horror   \n",
       "\n",
       "   RATING                                           ONE-LINE    VOTES  \\\n",
       "0     6.1  A woman with a mysterious illness is forced in...   21,062   \n",
       "1     5.0  The war for Eternia begins again in what may b...   17,870   \n",
       "2     8.2  Sheriff Deputy Rick Grimes wakes up from a com...  885,805   \n",
       "3     9.2  An animated series that follows the exploits o...  414,849   \n",
       "4     NaN  A prequel, set before the events of Army of th...      NaN   \n",
       "\n",
       "   RunTime Gross               Director  \\\n",
       "0    121.0   NaN        Peter Thorwarth   \n",
       "1     25.0   NaN                   None   \n",
       "2     44.0   NaN                   None   \n",
       "3     23.0   NaN                   None   \n",
       "4      NaN   NaN  Matthias Schweighöfer   \n",
       "\n",
       "                                               Stars  \n",
       "0  Peri Baumeister, Carl Anton Koch, Alexander Sc...  \n",
       "1  Chris Wood, Sarah Michelle Gellar, Lena Headey...  \n",
       "2  Andrew Lincoln, Norman Reedus, Melissa McBride...  \n",
       "3  Justin Roiland, Chris Parnell, Spencer Grammer...  \n",
       "4  Matthias Schweighöfer, Nathalie Emmanuel, Ruby...  "
      ]
     },
     "execution_count": 128,
     "metadata": {},
     "output_type": "execute_result"
    }
   ],
   "source": [
    "# now we no more need STARS column\n",
    "movies.drop('STARS',axis=1, inplace=True)\n",
    "\n",
    "movies.head()"
   ]
  },
  {
   "cell_type": "code",
   "execution_count": 131,
   "metadata": {},
   "outputs": [
    {
     "data": {
      "text/plain": [
       "np.int64(445)"
      ]
     },
     "execution_count": 131,
     "metadata": {},
     "output_type": "execute_result"
    }
   ],
   "source": [
    "# Remove duplicates\n",
    "\n",
    "movies.duplicated().sum()\n"
   ]
  },
  {
   "cell_type": "code",
   "execution_count": 133,
   "metadata": {},
   "outputs": [
    {
     "name": "stdout",
     "output_type": "stream",
     "text": [
      "Duplicate rows: 0\n"
     ]
    }
   ],
   "source": [
    "movies.drop_duplicates(inplace=True)\n",
    "\n",
    "print(f'Duplicate rows: {movies.duplicated().sum()}')"
   ]
  },
  {
   "cell_type": "code",
   "execution_count": 140,
   "metadata": {},
   "outputs": [
    {
     "name": "stdout",
     "output_type": "stream",
     "text": [
      "float64\n"
     ]
    }
   ],
   "source": [
    "# clean and fill missing valus in Vote column\n",
    "\n",
    "movies['VOTES'] = movies['VOTES'].astype(str).str.replace(',', '').str.strip()\n",
    "movies['VOTES'] = pd.to_numeric(movies['VOTES'], errors='coerce')\n",
    "\n",
    "\n",
    "print(movies['VOTES'].dtype)"
   ]
  },
  {
   "cell_type": "code",
   "execution_count": 143,
   "metadata": {},
   "outputs": [
    {
     "name": "stdout",
     "output_type": "stream",
     "text": [
      "Missing values in votes: 0\n"
     ]
    }
   ],
   "source": [
    "# fill missing values\n",
    "movies['VOTES'] = movies['VOTES'].fillna(0)\n",
    "\n",
    "print(f'Missing values in votes: {movies['VOTES'].isna().sum()}')"
   ]
  },
  {
   "cell_type": "code",
   "execution_count": 147,
   "metadata": {},
   "outputs": [
    {
     "data": {
      "text/plain": [
       "dtype('O')"
      ]
     },
     "execution_count": 147,
     "metadata": {},
     "output_type": "execute_result"
    }
   ],
   "source": [
    "# Fill director column with Unkonwn\n",
    "\n",
    "movies['Director'] = movies['Director'].fillna('Unknown').astype(str)\n"
   ]
  },
  {
   "cell_type": "code",
   "execution_count": 149,
   "metadata": {},
   "outputs": [
    {
     "data": {
      "text/plain": [
       "8330       Tae You Chang\n",
       "4020       Kasper Collin\n",
       "1444             Unknown\n",
       "2498             Unknown\n",
       "2508       Mikhil Musale\n",
       "2429       Lee Thongkham\n",
       "8127             Unknown\n",
       "7063        Ben Bjelajac\n",
       "853              Unknown\n",
       "4355             Unknown\n",
       "6178             Unknown\n",
       "5101             Unknown\n",
       "514              Unknown\n",
       "2757             Unknown\n",
       "7854     Soumendra Padhi\n",
       "9584             Unknown\n",
       "5774       Ismail Farouk\n",
       "8757         Brian Smith\n",
       "4917    John Lee Hancock\n",
       "8584             Unknown\n",
       "Name: Director, dtype: object"
      ]
     },
     "execution_count": 149,
     "metadata": {},
     "output_type": "execute_result"
    }
   ],
   "source": [
    "movies['Director'].sample(20)"
   ]
  },
  {
   "cell_type": "code",
   "execution_count": 151,
   "metadata": {},
   "outputs": [
    {
     "data": {
      "text/plain": [
       "5542    $0.05M\n",
       "1947       NaN\n",
       "5041       NaN\n",
       "5567       NaN\n",
       "2571       NaN\n",
       "4416       NaN\n",
       "1681       NaN\n",
       "9558       NaN\n",
       "6552       NaN\n",
       "693        NaN\n",
       "Name: Gross, dtype: object"
      ]
     },
     "execution_count": 151,
     "metadata": {},
     "output_type": "execute_result"
    }
   ],
   "source": [
    "movies['Gross'].sample(10)"
   ]
  },
  {
   "cell_type": "code",
   "execution_count": 156,
   "metadata": {},
   "outputs": [],
   "source": [
    "# clean gross column\n",
    "movies['Gross'] = movies['Gross'].str.replace('$', '').str.strip()\n",
    "\n",
    "def clean_gross(row):\n",
    "    if isinstance(row, str):\n",
    "        row = row.strip().upper()\n",
    "        if \"M\" in row:\n",
    "            return float(row.replace('M' , '')) * 1_000_000\n",
    "        elif \"K\" in row:\n",
    "            return float(row.replace('K' , ''))* 1000\n",
    "        elif \"B\" in row:\n",
    "            return float(row.replace('B' , '')) * 1_000_000_000\n",
    "        \n",
    "        else:\n",
    "            try:\n",
    "                return float(row.replace(',' ''))\n",
    "            except:\n",
    "                return None\n",
    "            \n",
    "    return None\n",
    "\n",
    "movies['Gross'] = movies['Gross'].apply(clean_gross)\n"
   ]
  },
  {
   "cell_type": "code",
   "execution_count": 157,
   "metadata": {},
   "outputs": [
    {
     "data": {
      "text/plain": [
       "1237        NaN\n",
       "3961        NaN\n",
       "944         NaN\n",
       "9258        NaN\n",
       "8591        NaN\n",
       "6898        NaN\n",
       "6863        NaN\n",
       "1612    30000.0\n",
       "3963        NaN\n",
       "4651        NaN\n",
       "Name: Gross, dtype: float64"
      ]
     },
     "execution_count": 157,
     "metadata": {},
     "output_type": "execute_result"
    }
   ],
   "source": [
    "movies['Gross'].sample(10)"
   ]
  },
  {
   "cell_type": "code",
   "execution_count": 158,
   "metadata": {},
   "outputs": [
    {
     "data": {
      "text/plain": [
       "0       0.0\n",
       "1       0.0\n",
       "2       0.0\n",
       "3       0.0\n",
       "4       0.0\n",
       "       ... \n",
       "9993    0.0\n",
       "9995    0.0\n",
       "9996    0.0\n",
       "9997    0.0\n",
       "9998    0.0\n",
       "Name: Gross, Length: 9554, dtype: float64"
      ]
     },
     "execution_count": 158,
     "metadata": {},
     "output_type": "execute_result"
    }
   ],
   "source": [
    "\n",
    "movies['Gross']=movies['Gross'].fillna(0)\n",
    "movies['Gross']\n",
    "\n"
   ]
  },
  {
   "cell_type": "code",
   "execution_count": 159,
   "metadata": {},
   "outputs": [
    {
     "data": {
      "text/html": [
       "<div>\n",
       "<style scoped>\n",
       "    .dataframe tbody tr th:only-of-type {\n",
       "        vertical-align: middle;\n",
       "    }\n",
       "\n",
       "    .dataframe tbody tr th {\n",
       "        vertical-align: top;\n",
       "    }\n",
       "\n",
       "    .dataframe thead th {\n",
       "        text-align: right;\n",
       "    }\n",
       "</style>\n",
       "<table border=\"1\" class=\"dataframe\">\n",
       "  <thead>\n",
       "    <tr style=\"text-align: right;\">\n",
       "      <th></th>\n",
       "      <th>MOVIES</th>\n",
       "      <th>YEAR</th>\n",
       "      <th>GENRE</th>\n",
       "      <th>RATING</th>\n",
       "      <th>ONE-LINE</th>\n",
       "      <th>VOTES</th>\n",
       "      <th>RunTime</th>\n",
       "      <th>Gross</th>\n",
       "      <th>Director</th>\n",
       "      <th>Stars</th>\n",
       "    </tr>\n",
       "  </thead>\n",
       "  <tbody>\n",
       "    <tr>\n",
       "      <th>0</th>\n",
       "      <td>Blood Red Sky</td>\n",
       "      <td>2021</td>\n",
       "      <td>Action, Horror, Thriller</td>\n",
       "      <td>6.1</td>\n",
       "      <td>A woman with a mysterious illness is forced in...</td>\n",
       "      <td>21062.0</td>\n",
       "      <td>121.0</td>\n",
       "      <td>0.0</td>\n",
       "      <td>Peter Thorwarth</td>\n",
       "      <td>Peri Baumeister, Carl Anton Koch, Alexander Sc...</td>\n",
       "    </tr>\n",
       "    <tr>\n",
       "      <th>1</th>\n",
       "      <td>Masters of the Universe: Revelation</td>\n",
       "      <td>2021</td>\n",
       "      <td>Animation, Action, Adventure</td>\n",
       "      <td>5.0</td>\n",
       "      <td>The war for Eternia begins again in what may b...</td>\n",
       "      <td>17870.0</td>\n",
       "      <td>25.0</td>\n",
       "      <td>0.0</td>\n",
       "      <td>Unknown</td>\n",
       "      <td>Chris Wood, Sarah Michelle Gellar, Lena Headey...</td>\n",
       "    </tr>\n",
       "    <tr>\n",
       "      <th>2</th>\n",
       "      <td>The Walking Dead</td>\n",
       "      <td>2010</td>\n",
       "      <td>Drama, Horror, Thriller</td>\n",
       "      <td>8.2</td>\n",
       "      <td>Sheriff Deputy Rick Grimes wakes up from a com...</td>\n",
       "      <td>885805.0</td>\n",
       "      <td>44.0</td>\n",
       "      <td>0.0</td>\n",
       "      <td>Unknown</td>\n",
       "      <td>Andrew Lincoln, Norman Reedus, Melissa McBride...</td>\n",
       "    </tr>\n",
       "    <tr>\n",
       "      <th>3</th>\n",
       "      <td>Rick and Morty</td>\n",
       "      <td>2013</td>\n",
       "      <td>Animation, Adventure, Comedy</td>\n",
       "      <td>9.2</td>\n",
       "      <td>An animated series that follows the exploits o...</td>\n",
       "      <td>414849.0</td>\n",
       "      <td>23.0</td>\n",
       "      <td>0.0</td>\n",
       "      <td>Unknown</td>\n",
       "      <td>Justin Roiland, Chris Parnell, Spencer Grammer...</td>\n",
       "    </tr>\n",
       "    <tr>\n",
       "      <th>4</th>\n",
       "      <td>Army of Thieves</td>\n",
       "      <td>2021</td>\n",
       "      <td>Action, Crime, Horror</td>\n",
       "      <td>NaN</td>\n",
       "      <td>A prequel, set before the events of Army of th...</td>\n",
       "      <td>0.0</td>\n",
       "      <td>NaN</td>\n",
       "      <td>0.0</td>\n",
       "      <td>Matthias Schweighöfer</td>\n",
       "      <td>Matthias Schweighöfer, Nathalie Emmanuel, Ruby...</td>\n",
       "    </tr>\n",
       "  </tbody>\n",
       "</table>\n",
       "</div>"
      ],
      "text/plain": [
       "                                MOVIES  YEAR                         GENRE  \\\n",
       "0                        Blood Red Sky  2021      Action, Horror, Thriller   \n",
       "1  Masters of the Universe: Revelation  2021  Animation, Action, Adventure   \n",
       "2                     The Walking Dead  2010       Drama, Horror, Thriller   \n",
       "3                       Rick and Morty  2013  Animation, Adventure, Comedy   \n",
       "4                      Army of Thieves  2021         Action, Crime, Horror   \n",
       "\n",
       "   RATING                                           ONE-LINE     VOTES  \\\n",
       "0     6.1  A woman with a mysterious illness is forced in...   21062.0   \n",
       "1     5.0  The war for Eternia begins again in what may b...   17870.0   \n",
       "2     8.2  Sheriff Deputy Rick Grimes wakes up from a com...  885805.0   \n",
       "3     9.2  An animated series that follows the exploits o...  414849.0   \n",
       "4     NaN  A prequel, set before the events of Army of th...       0.0   \n",
       "\n",
       "   RunTime  Gross               Director  \\\n",
       "0    121.0    0.0        Peter Thorwarth   \n",
       "1     25.0    0.0                Unknown   \n",
       "2     44.0    0.0                Unknown   \n",
       "3     23.0    0.0                Unknown   \n",
       "4      NaN    0.0  Matthias Schweighöfer   \n",
       "\n",
       "                                               Stars  \n",
       "0  Peri Baumeister, Carl Anton Koch, Alexander Sc...  \n",
       "1  Chris Wood, Sarah Michelle Gellar, Lena Headey...  \n",
       "2  Andrew Lincoln, Norman Reedus, Melissa McBride...  \n",
       "3  Justin Roiland, Chris Parnell, Spencer Grammer...  \n",
       "4  Matthias Schweighöfer, Nathalie Emmanuel, Ruby...  "
      ]
     },
     "execution_count": 159,
     "metadata": {},
     "output_type": "execute_result"
    }
   ],
   "source": [
    "movies.head()"
   ]
  },
  {
   "cell_type": "code",
   "execution_count": 161,
   "metadata": {},
   "outputs": [
    {
     "data": {
      "text/plain": [
       "dtype('float64')"
      ]
     },
     "execution_count": 161,
     "metadata": {},
     "output_type": "execute_result"
    }
   ],
   "source": [
    "movies['RATING'].dtype"
   ]
  },
  {
   "cell_type": "code",
   "execution_count": 162,
   "metadata": {},
   "outputs": [],
   "source": [
    "# fill rating with median\n",
    "\n",
    "movies['RATING'] = movies['RATING'].fillna(movies['RATING'].median())"
   ]
  },
  {
   "cell_type": "code",
   "execution_count": 163,
   "metadata": {},
   "outputs": [
    {
     "data": {
      "text/plain": [
       "6235    7.7\n",
       "5629    7.5\n",
       "942     6.5\n",
       "9000    8.5\n",
       "9833    8.7\n",
       "3946    8.1\n",
       "3051    7.3\n",
       "1       5.0\n",
       "7062    8.0\n",
       "6095    6.0\n",
       "Name: RATING, dtype: float64"
      ]
     },
     "execution_count": 163,
     "metadata": {},
     "output_type": "execute_result"
    }
   ],
   "source": [
    "movies['RATING'].sample(10)"
   ]
  },
  {
   "cell_type": "code",
   "execution_count": 164,
   "metadata": {},
   "outputs": [],
   "source": [
    "# fill runtime\n",
    "movies['RunTime'] = movies['RunTime'].fillna(movies['RunTime'].median())"
   ]
  },
  {
   "cell_type": "code",
   "execution_count": 166,
   "metadata": {},
   "outputs": [],
   "source": [
    "\n",
    "# Remove outliers\n",
    "\n",
    "def remove_n(movies, column):\n",
    "    Q1 = movies[column].quantile(0.25)\n",
    "    Q3 = movies[column].quantile(0.75)\n",
    "    IQR = Q3 - Q1\n",
    "    lower_bound = Q1 - 3 * IQR\n",
    "    upper_bound = Q3 + 3 * IQR\n",
    "    \n",
    "    filtered_df = movies[(movies[column] >= lower_bound) & (movies[column] <= upper_bound)]\n",
    "    return filtered_df\n",
    "\n",
    "cols = ['VOTES', 'RunTime']\n",
    "\n",
    "for column in cols:\n",
    "    movies = remove_n(movies, column)\n",
    "\n"
   ]
  },
  {
   "cell_type": "code",
   "execution_count": 172,
   "metadata": {},
   "outputs": [
    {
     "data": {
      "text/html": [
       "<div>\n",
       "<style scoped>\n",
       "    .dataframe tbody tr th:only-of-type {\n",
       "        vertical-align: middle;\n",
       "    }\n",
       "\n",
       "    .dataframe tbody tr th {\n",
       "        vertical-align: top;\n",
       "    }\n",
       "\n",
       "    .dataframe thead th {\n",
       "        text-align: right;\n",
       "    }\n",
       "</style>\n",
       "<table border=\"1\" class=\"dataframe\">\n",
       "  <thead>\n",
       "    <tr style=\"text-align: right;\">\n",
       "      <th></th>\n",
       "      <th>MOVIES</th>\n",
       "      <th>YEAR</th>\n",
       "      <th>GENRE</th>\n",
       "      <th>RATING</th>\n",
       "      <th>ONE-LINE</th>\n",
       "      <th>VOTES</th>\n",
       "      <th>RunTime</th>\n",
       "      <th>Gross</th>\n",
       "      <th>Director</th>\n",
       "      <th>Stars</th>\n",
       "    </tr>\n",
       "  </thead>\n",
       "  <tbody>\n",
       "    <tr>\n",
       "      <th>9278</th>\n",
       "      <td>Super Monsters</td>\n",
       "      <td>2017</td>\n",
       "      <td>Animation, Adventure, Comedy</td>\n",
       "      <td>4.7</td>\n",
       "      <td>When Santa needs serious help prepping all of ...</td>\n",
       "      <td>35.0</td>\n",
       "      <td>24.0</td>\n",
       "      <td>0.0</td>\n",
       "      <td>Unknown</td>\n",
       "      <td>Elyse Maloway, Asia Mattu, Gigi Saul Guerrero</td>\n",
       "    </tr>\n",
       "    <tr>\n",
       "      <th>6994</th>\n",
       "      <td>La Reina de Indias y el Conquistador</td>\n",
       "      <td>2020</td>\n",
       "      <td>Drama, History</td>\n",
       "      <td>7.1</td>\n",
       "      <td>As Pedro's trial begins, his life depends on w...</td>\n",
       "      <td>0.0</td>\n",
       "      <td>60.0</td>\n",
       "      <td>0.0</td>\n",
       "      <td>Unknown</td>\n",
       "      <td>Emmanuel Esparza, Essined Aponte, Vladimir Ber...</td>\n",
       "    </tr>\n",
       "    <tr>\n",
       "      <th>4601</th>\n",
       "      <td>Alter Me</td>\n",
       "      <td>2020</td>\n",
       "      <td>Drama, Romance</td>\n",
       "      <td>5.7</td>\n",
       "      <td>To better connect with other people - and her ...</td>\n",
       "      <td>53.0</td>\n",
       "      <td>91.0</td>\n",
       "      <td>0.0</td>\n",
       "      <td>RC Delos Reyes</td>\n",
       "      <td>Enchong Dee, Jasmine Curtis-Smith, JC Santos, ...</td>\n",
       "    </tr>\n",
       "    <tr>\n",
       "      <th>3928</th>\n",
       "      <td>The Forest</td>\n",
       "      <td>2016</td>\n",
       "      <td>Drama, Fantasy, Horror</td>\n",
       "      <td>6.4</td>\n",
       "      <td>A new teacher arrives at a small village in ru...</td>\n",
       "      <td>276.0</td>\n",
       "      <td>109.0</td>\n",
       "      <td>0.0</td>\n",
       "      <td>Paul Spurrier</td>\n",
       "      <td>Tanapol Kamkunkam, Thidarat Kongkaew, Natpatso...</td>\n",
       "    </tr>\n",
       "    <tr>\n",
       "      <th>4990</th>\n",
       "      <td>An Act of War</td>\n",
       "      <td>2015</td>\n",
       "      <td>Crime, Drama, Thriller</td>\n",
       "      <td>5.2</td>\n",
       "      <td>A veteran tries to put his life back together,...</td>\n",
       "      <td>1422.0</td>\n",
       "      <td>99.0</td>\n",
       "      <td>110000.0</td>\n",
       "      <td>Ryan M. Kennedy</td>\n",
       "      <td>Russ Russo, Natasha Alam, Doug E. Doug, Joseph...</td>\n",
       "    </tr>\n",
       "    <tr>\n",
       "      <th>6314</th>\n",
       "      <td>TED: The Future We Will Create</td>\n",
       "      <td>2007</td>\n",
       "      <td>Documentary</td>\n",
       "      <td>6.9</td>\n",
       "      <td>\"TED: The future we will create\" gives you an ...</td>\n",
       "      <td>151.0</td>\n",
       "      <td>74.0</td>\n",
       "      <td>0.0</td>\n",
       "      <td>Unknown</td>\n",
       "      <td>Daphne Zuniga, Al Gore, Lawrence Bender, Chris...</td>\n",
       "    </tr>\n",
       "    <tr>\n",
       "      <th>6516</th>\n",
       "      <td>Avatar: The Last Airbender</td>\n",
       "      <td>2005</td>\n",
       "      <td>Animation, Action, Adventure</td>\n",
       "      <td>9.3</td>\n",
       "      <td>A series of short stories covering some of the...</td>\n",
       "      <td>4347.0</td>\n",
       "      <td>25.0</td>\n",
       "      <td>0.0</td>\n",
       "      <td>Ethan Spaulding</td>\n",
       "      <td>Zach Tyler, Mae Whitman, Jack De Sena, Michael...</td>\n",
       "    </tr>\n",
       "    <tr>\n",
       "      <th>8853</th>\n",
       "      <td>Dark Desire</td>\n",
       "      <td>2020</td>\n",
       "      <td>Drama, Mystery, Thriller</td>\n",
       "      <td>7.0</td>\n",
       "      <td>Lucinda insists she's owed money. Garcia revie...</td>\n",
       "      <td>80.0</td>\n",
       "      <td>60.0</td>\n",
       "      <td>0.0</td>\n",
       "      <td>Unknown</td>\n",
       "      <td>Maite Perroni, Erik Hayser, Alejandro Speitzer...</td>\n",
       "    </tr>\n",
       "    <tr>\n",
       "      <th>7351</th>\n",
       "      <td>The Movies That Made Us</td>\n",
       "      <td>2019</td>\n",
       "      <td>Documentary</td>\n",
       "      <td>8.0</td>\n",
       "      <td>A rickety script, tight timeline and effects i...</td>\n",
       "      <td>463.0</td>\n",
       "      <td>47.0</td>\n",
       "      <td>0.0</td>\n",
       "      <td>Brian Volk-Weiss</td>\n",
       "      <td>Donald Ian Black, Dan Aykroyd, Harold Ramis, I...</td>\n",
       "    </tr>\n",
       "    <tr>\n",
       "      <th>7096</th>\n",
       "      <td>I Am Not Okay with This</td>\n",
       "      <td>2020</td>\n",
       "      <td>Comedy, Drama, Fantasy</td>\n",
       "      <td>8.6</td>\n",
       "      <td>Armed with new insight about her dad, Syd vows...</td>\n",
       "      <td>1800.0</td>\n",
       "      <td>24.0</td>\n",
       "      <td>0.0</td>\n",
       "      <td>Jonathan Entwistle</td>\n",
       "      <td>Sophia Lillis, Wyatt Oleff, Sofia Bryant, Kath...</td>\n",
       "    </tr>\n",
       "  </tbody>\n",
       "</table>\n",
       "</div>"
      ],
      "text/plain": [
       "                                     MOVIES  YEAR  \\\n",
       "9278                         Super Monsters  2017   \n",
       "6994   La Reina de Indias y el Conquistador  2020   \n",
       "4601                               Alter Me  2020   \n",
       "3928                             The Forest  2016   \n",
       "4990                          An Act of War  2015   \n",
       "6314         TED: The Future We Will Create  2007   \n",
       "6516             Avatar: The Last Airbender  2005   \n",
       "8853                            Dark Desire  2020   \n",
       "7351                The Movies That Made Us  2019   \n",
       "7096                I Am Not Okay with This  2020   \n",
       "\n",
       "                             GENRE  RATING  \\\n",
       "9278  Animation, Adventure, Comedy     4.7   \n",
       "6994                Drama, History     7.1   \n",
       "4601                Drama, Romance     5.7   \n",
       "3928        Drama, Fantasy, Horror     6.4   \n",
       "4990        Crime, Drama, Thriller     5.2   \n",
       "6314                   Documentary     6.9   \n",
       "6516  Animation, Action, Adventure     9.3   \n",
       "8853      Drama, Mystery, Thriller     7.0   \n",
       "7351                   Documentary     8.0   \n",
       "7096        Comedy, Drama, Fantasy     8.6   \n",
       "\n",
       "                                               ONE-LINE   VOTES  RunTime  \\\n",
       "9278  When Santa needs serious help prepping all of ...    35.0     24.0   \n",
       "6994  As Pedro's trial begins, his life depends on w...     0.0     60.0   \n",
       "4601  To better connect with other people - and her ...    53.0     91.0   \n",
       "3928  A new teacher arrives at a small village in ru...   276.0    109.0   \n",
       "4990  A veteran tries to put his life back together,...  1422.0     99.0   \n",
       "6314  \"TED: The future we will create\" gives you an ...   151.0     74.0   \n",
       "6516  A series of short stories covering some of the...  4347.0     25.0   \n",
       "8853  Lucinda insists she's owed money. Garcia revie...    80.0     60.0   \n",
       "7351  A rickety script, tight timeline and effects i...   463.0     47.0   \n",
       "7096  Armed with new insight about her dad, Syd vows...  1800.0     24.0   \n",
       "\n",
       "         Gross            Director  \\\n",
       "9278       0.0             Unknown   \n",
       "6994       0.0             Unknown   \n",
       "4601       0.0      RC Delos Reyes   \n",
       "3928       0.0       Paul Spurrier   \n",
       "4990  110000.0     Ryan M. Kennedy   \n",
       "6314       0.0             Unknown   \n",
       "6516       0.0     Ethan Spaulding   \n",
       "8853       0.0             Unknown   \n",
       "7351       0.0    Brian Volk-Weiss   \n",
       "7096       0.0  Jonathan Entwistle   \n",
       "\n",
       "                                                  Stars  \n",
       "9278      Elyse Maloway, Asia Mattu, Gigi Saul Guerrero  \n",
       "6994  Emmanuel Esparza, Essined Aponte, Vladimir Ber...  \n",
       "4601  Enchong Dee, Jasmine Curtis-Smith, JC Santos, ...  \n",
       "3928  Tanapol Kamkunkam, Thidarat Kongkaew, Natpatso...  \n",
       "4990  Russ Russo, Natasha Alam, Doug E. Doug, Joseph...  \n",
       "6314  Daphne Zuniga, Al Gore, Lawrence Bender, Chris...  \n",
       "6516  Zach Tyler, Mae Whitman, Jack De Sena, Michael...  \n",
       "8853  Maite Perroni, Erik Hayser, Alejandro Speitzer...  \n",
       "7351  Donald Ian Black, Dan Aykroyd, Harold Ramis, I...  \n",
       "7096  Sophia Lillis, Wyatt Oleff, Sofia Bryant, Kath...  "
      ]
     },
     "execution_count": 172,
     "metadata": {},
     "output_type": "execute_result"
    }
   ],
   "source": [
    "movies.sample(10)"
   ]
  },
  {
   "cell_type": "markdown",
   "metadata": {},
   "source": [
    "## Data Visualization"
   ]
  },
  {
   "cell_type": "code",
   "execution_count": 176,
   "metadata": {},
   "outputs": [
    {
     "ename": "ValueError",
     "evalue": "Mime type rendering requires nbformat>=4.2.0 but it is not installed",
     "output_type": "error",
     "traceback": [
      "\u001b[31m---------------------------------------------------------------------------\u001b[39m",
      "\u001b[31mValueError\u001b[39m                                Traceback (most recent call last)",
      "\u001b[36mFile \u001b[39m\u001b[32m~/DataScienceDaily/dsvenv/lib/python3.12/site-packages/IPython/core/formatters.py:984\u001b[39m, in \u001b[36mIPythonDisplayFormatter.__call__\u001b[39m\u001b[34m(self, obj)\u001b[39m\n\u001b[32m    982\u001b[39m method = get_real_method(obj, \u001b[38;5;28mself\u001b[39m.print_method)\n\u001b[32m    983\u001b[39m \u001b[38;5;28;01mif\u001b[39;00m method \u001b[38;5;129;01mis\u001b[39;00m \u001b[38;5;129;01mnot\u001b[39;00m \u001b[38;5;28;01mNone\u001b[39;00m:\n\u001b[32m--> \u001b[39m\u001b[32m984\u001b[39m     \u001b[43mmethod\u001b[49m\u001b[43m(\u001b[49m\u001b[43m)\u001b[49m\n\u001b[32m    985\u001b[39m     \u001b[38;5;28;01mreturn\u001b[39;00m \u001b[38;5;28;01mTrue\u001b[39;00m\n",
      "\u001b[36mFile \u001b[39m\u001b[32m~/DataScienceDaily/dsvenv/lib/python3.12/site-packages/plotly/basedatatypes.py:833\u001b[39m, in \u001b[36mBaseFigure._ipython_display_\u001b[39m\u001b[34m(self)\u001b[39m\n\u001b[32m    830\u001b[39m \u001b[38;5;28;01mimport\u001b[39;00m\u001b[38;5;250m \u001b[39m\u001b[34;01mplotly\u001b[39;00m\u001b[34;01m.\u001b[39;00m\u001b[34;01mio\u001b[39;00m\u001b[38;5;250m \u001b[39m\u001b[38;5;28;01mas\u001b[39;00m\u001b[38;5;250m \u001b[39m\u001b[34;01mpio\u001b[39;00m\n\u001b[32m    832\u001b[39m \u001b[38;5;28;01mif\u001b[39;00m pio.renderers.render_on_display \u001b[38;5;129;01mand\u001b[39;00m pio.renderers.default:\n\u001b[32m--> \u001b[39m\u001b[32m833\u001b[39m     \u001b[43mpio\u001b[49m\u001b[43m.\u001b[49m\u001b[43mshow\u001b[49m\u001b[43m(\u001b[49m\u001b[38;5;28;43mself\u001b[39;49m\u001b[43m)\u001b[49m\n\u001b[32m    834\u001b[39m \u001b[38;5;28;01melse\u001b[39;00m:\n\u001b[32m    835\u001b[39m     \u001b[38;5;28mprint\u001b[39m(\u001b[38;5;28mrepr\u001b[39m(\u001b[38;5;28mself\u001b[39m))\n",
      "\u001b[36mFile \u001b[39m\u001b[32m~/DataScienceDaily/dsvenv/lib/python3.12/site-packages/plotly/io/_renderers.py:425\u001b[39m, in \u001b[36mshow\u001b[39m\u001b[34m(fig, renderer, validate, **kwargs)\u001b[39m\n\u001b[32m    420\u001b[39m     \u001b[38;5;28;01mraise\u001b[39;00m \u001b[38;5;167;01mValueError\u001b[39;00m(\n\u001b[32m    421\u001b[39m         \u001b[33m\"\u001b[39m\u001b[33mMime type rendering requires ipython but it is not installed\u001b[39m\u001b[33m\"\u001b[39m\n\u001b[32m    422\u001b[39m     )\n\u001b[32m    424\u001b[39m \u001b[38;5;28;01mif\u001b[39;00m \u001b[38;5;129;01mnot\u001b[39;00m nbformat \u001b[38;5;129;01mor\u001b[39;00m Version(nbformat.__version__) < Version(\u001b[33m\"\u001b[39m\u001b[33m4.2.0\u001b[39m\u001b[33m\"\u001b[39m):\n\u001b[32m--> \u001b[39m\u001b[32m425\u001b[39m     \u001b[38;5;28;01mraise\u001b[39;00m \u001b[38;5;167;01mValueError\u001b[39;00m(\n\u001b[32m    426\u001b[39m         \u001b[33m\"\u001b[39m\u001b[33mMime type rendering requires nbformat>=4.2.0 but it is not installed\u001b[39m\u001b[33m\"\u001b[39m\n\u001b[32m    427\u001b[39m     )\n\u001b[32m    429\u001b[39m display_jupyter_version_warnings()\n\u001b[32m    431\u001b[39m ipython_display.display(bundle, raw=\u001b[38;5;28;01mTrue\u001b[39;00m)\n",
      "\u001b[31mValueError\u001b[39m: Mime type rendering requires nbformat>=4.2.0 but it is not installed"
     ]
    },
    {
     "data": {
      "application/vnd.plotly.v1+json": {
       "config": {
        "plotlyServerURL": "https://plot.ly"
       },
       "data": [
        {
         "alignmentgroup": "True",
         "hovertemplate": "RunTime=%{y}<extra></extra>",
         "legendgroup": "",
         "marker": {
          "color": "#636efa"
         },
         "name": "",
         "notched": false,
         "offsetgroup": "",
         "orientation": "v",
         "showlegend": false,
         "type": "box",
         "x0": " ",
         "xaxis": "x",
         "y": {
          "bdata": "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",
          "dtype": "f8"
         },
         "y0": " ",
         "yaxis": "y"
        }
       ],
       "layout": {
        "boxmode": "group",
        "height": 600,
        "legend": {
         "tracegroupgap": 0
        },
        "margin": {
         "t": 60
        },
        "template": {
         "data": {
          "bar": [
           {
            "error_x": {
             "color": "#2a3f5f"
            },
            "error_y": {
             "color": "#2a3f5f"
            },
            "marker": {
             "line": {
              "color": "#E5ECF6",
              "width": 0.5
             },
             "pattern": {
              "fillmode": "overlay",
              "size": 10,
              "solidity": 0.2
             }
            },
            "type": "bar"
           }
          ],
          "barpolar": [
           {
            "marker": {
             "line": {
              "color": "#E5ECF6",
              "width": 0.5
             },
             "pattern": {
              "fillmode": "overlay",
              "size": 10,
              "solidity": 0.2
             }
            },
            "type": "barpolar"
           }
          ],
          "carpet": [
           {
            "aaxis": {
             "endlinecolor": "#2a3f5f",
             "gridcolor": "white",
             "linecolor": "white",
             "minorgridcolor": "white",
             "startlinecolor": "#2a3f5f"
            },
            "baxis": {
             "endlinecolor": "#2a3f5f",
             "gridcolor": "white",
             "linecolor": "white",
             "minorgridcolor": "white",
             "startlinecolor": "#2a3f5f"
            },
            "type": "carpet"
           }
          ],
          "choropleth": [
           {
            "colorbar": {
             "outlinewidth": 0,
             "ticks": ""
            },
            "type": "choropleth"
           }
          ],
          "contour": [
           {
            "colorbar": {
             "outlinewidth": 0,
             "ticks": ""
            },
            "colorscale": [
             [
              0,
              "#0d0887"
             ],
             [
              0.1111111111111111,
              "#46039f"
             ],
             [
              0.2222222222222222,
              "#7201a8"
             ],
             [
              0.3333333333333333,
              "#9c179e"
             ],
             [
              0.4444444444444444,
              "#bd3786"
             ],
             [
              0.5555555555555556,
              "#d8576b"
             ],
             [
              0.6666666666666666,
              "#ed7953"
             ],
             [
              0.7777777777777778,
              "#fb9f3a"
             ],
             [
              0.8888888888888888,
              "#fdca26"
             ],
             [
              1,
              "#f0f921"
             ]
            ],
            "type": "contour"
           }
          ],
          "contourcarpet": [
           {
            "colorbar": {
             "outlinewidth": 0,
             "ticks": ""
            },
            "type": "contourcarpet"
           }
          ],
          "heatmap": [
           {
            "colorbar": {
             "outlinewidth": 0,
             "ticks": ""
            },
            "colorscale": [
             [
              0,
              "#0d0887"
             ],
             [
              0.1111111111111111,
              "#46039f"
             ],
             [
              0.2222222222222222,
              "#7201a8"
             ],
             [
              0.3333333333333333,
              "#9c179e"
             ],
             [
              0.4444444444444444,
              "#bd3786"
             ],
             [
              0.5555555555555556,
              "#d8576b"
             ],
             [
              0.6666666666666666,
              "#ed7953"
             ],
             [
              0.7777777777777778,
              "#fb9f3a"
             ],
             [
              0.8888888888888888,
              "#fdca26"
             ],
             [
              1,
              "#f0f921"
             ]
            ],
            "type": "heatmap"
           }
          ],
          "histogram": [
           {
            "marker": {
             "pattern": {
              "fillmode": "overlay",
              "size": 10,
              "solidity": 0.2
             }
            },
            "type": "histogram"
           }
          ],
          "histogram2d": [
           {
            "colorbar": {
             "outlinewidth": 0,
             "ticks": ""
            },
            "colorscale": [
             [
              0,
              "#0d0887"
             ],
             [
              0.1111111111111111,
              "#46039f"
             ],
             [
              0.2222222222222222,
              "#7201a8"
             ],
             [
              0.3333333333333333,
              "#9c179e"
             ],
             [
              0.4444444444444444,
              "#bd3786"
             ],
             [
              0.5555555555555556,
              "#d8576b"
             ],
             [
              0.6666666666666666,
              "#ed7953"
             ],
             [
              0.7777777777777778,
              "#fb9f3a"
             ],
             [
              0.8888888888888888,
              "#fdca26"
             ],
             [
              1,
              "#f0f921"
             ]
            ],
            "type": "histogram2d"
           }
          ],
          "histogram2dcontour": [
           {
            "colorbar": {
             "outlinewidth": 0,
             "ticks": ""
            },
            "colorscale": [
             [
              0,
              "#0d0887"
             ],
             [
              0.1111111111111111,
              "#46039f"
             ],
             [
              0.2222222222222222,
              "#7201a8"
             ],
             [
              0.3333333333333333,
              "#9c179e"
             ],
             [
              0.4444444444444444,
              "#bd3786"
             ],
             [
              0.5555555555555556,
              "#d8576b"
             ],
             [
              0.6666666666666666,
              "#ed7953"
             ],
             [
              0.7777777777777778,
              "#fb9f3a"
             ],
             [
              0.8888888888888888,
              "#fdca26"
             ],
             [
              1,
              "#f0f921"
             ]
            ],
            "type": "histogram2dcontour"
           }
          ],
          "mesh3d": [
           {
            "colorbar": {
             "outlinewidth": 0,
             "ticks": ""
            },
            "type": "mesh3d"
           }
          ],
          "parcoords": [
           {
            "line": {
             "colorbar": {
              "outlinewidth": 0,
              "ticks": ""
             }
            },
            "type": "parcoords"
           }
          ],
          "pie": [
           {
            "automargin": true,
            "type": "pie"
           }
          ],
          "scatter": [
           {
            "fillpattern": {
             "fillmode": "overlay",
             "size": 10,
             "solidity": 0.2
            },
            "type": "scatter"
           }
          ],
          "scatter3d": [
           {
            "line": {
             "colorbar": {
              "outlinewidth": 0,
              "ticks": ""
             }
            },
            "marker": {
             "colorbar": {
              "outlinewidth": 0,
              "ticks": ""
             }
            },
            "type": "scatter3d"
           }
          ],
          "scattercarpet": [
           {
            "marker": {
             "colorbar": {
              "outlinewidth": 0,
              "ticks": ""
             }
            },
            "type": "scattercarpet"
           }
          ],
          "scattergeo": [
           {
            "marker": {
             "colorbar": {
              "outlinewidth": 0,
              "ticks": ""
             }
            },
            "type": "scattergeo"
           }
          ],
          "scattergl": [
           {
            "marker": {
             "colorbar": {
              "outlinewidth": 0,
              "ticks": ""
             }
            },
            "type": "scattergl"
           }
          ],
          "scattermap": [
           {
            "marker": {
             "colorbar": {
              "outlinewidth": 0,
              "ticks": ""
             }
            },
            "type": "scattermap"
           }
          ],
          "scattermapbox": [
           {
            "marker": {
             "colorbar": {
              "outlinewidth": 0,
              "ticks": ""
             }
            },
            "type": "scattermapbox"
           }
          ],
          "scatterpolar": [
           {
            "marker": {
             "colorbar": {
              "outlinewidth": 0,
              "ticks": ""
             }
            },
            "type": "scatterpolar"
           }
          ],
          "scatterpolargl": [
           {
            "marker": {
             "colorbar": {
              "outlinewidth": 0,
              "ticks": ""
             }
            },
            "type": "scatterpolargl"
           }
          ],
          "scatterternary": [
           {
            "marker": {
             "colorbar": {
              "outlinewidth": 0,
              "ticks": ""
             }
            },
            "type": "scatterternary"
           }
          ],
          "surface": [
           {
            "colorbar": {
             "outlinewidth": 0,
             "ticks": ""
            },
            "colorscale": [
             [
              0,
              "#0d0887"
             ],
             [
              0.1111111111111111,
              "#46039f"
             ],
             [
              0.2222222222222222,
              "#7201a8"
             ],
             [
              0.3333333333333333,
              "#9c179e"
             ],
             [
              0.4444444444444444,
              "#bd3786"
             ],
             [
              0.5555555555555556,
              "#d8576b"
             ],
             [
              0.6666666666666666,
              "#ed7953"
             ],
             [
              0.7777777777777778,
              "#fb9f3a"
             ],
             [
              0.8888888888888888,
              "#fdca26"
             ],
             [
              1,
              "#f0f921"
             ]
            ],
            "type": "surface"
           }
          ],
          "table": [
           {
            "cells": {
             "fill": {
              "color": "#EBF0F8"
             },
             "line": {
              "color": "white"
             }
            },
            "header": {
             "fill": {
              "color": "#C8D4E3"
             },
             "line": {
              "color": "white"
             }
            },
            "type": "table"
           }
          ]
         },
         "layout": {
          "annotationdefaults": {
           "arrowcolor": "#2a3f5f",
           "arrowhead": 0,
           "arrowwidth": 1
          },
          "autotypenumbers": "strict",
          "coloraxis": {
           "colorbar": {
            "outlinewidth": 0,
            "ticks": ""
           }
          },
          "colorscale": {
           "diverging": [
            [
             0,
             "#8e0152"
            ],
            [
             0.1,
             "#c51b7d"
            ],
            [
             0.2,
             "#de77ae"
            ],
            [
             0.3,
             "#f1b6da"
            ],
            [
             0.4,
             "#fde0ef"
            ],
            [
             0.5,
             "#f7f7f7"
            ],
            [
             0.6,
             "#e6f5d0"
            ],
            [
             0.7,
             "#b8e186"
            ],
            [
             0.8,
             "#7fbc41"
            ],
            [
             0.9,
             "#4d9221"
            ],
            [
             1,
             "#276419"
            ]
           ],
           "sequential": [
            [
             0,
             "#0d0887"
            ],
            [
             0.1111111111111111,
             "#46039f"
            ],
            [
             0.2222222222222222,
             "#7201a8"
            ],
            [
             0.3333333333333333,
             "#9c179e"
            ],
            [
             0.4444444444444444,
             "#bd3786"
            ],
            [
             0.5555555555555556,
             "#d8576b"
            ],
            [
             0.6666666666666666,
             "#ed7953"
            ],
            [
             0.7777777777777778,
             "#fb9f3a"
            ],
            [
             0.8888888888888888,
             "#fdca26"
            ],
            [
             1,
             "#f0f921"
            ]
           ],
           "sequentialminus": [
            [
             0,
             "#0d0887"
            ],
            [
             0.1111111111111111,
             "#46039f"
            ],
            [
             0.2222222222222222,
             "#7201a8"
            ],
            [
             0.3333333333333333,
             "#9c179e"
            ],
            [
             0.4444444444444444,
             "#bd3786"
            ],
            [
             0.5555555555555556,
             "#d8576b"
            ],
            [
             0.6666666666666666,
             "#ed7953"
            ],
            [
             0.7777777777777778,
             "#fb9f3a"
            ],
            [
             0.8888888888888888,
             "#fdca26"
            ],
            [
             1,
             "#f0f921"
            ]
           ]
          },
          "colorway": [
           "#636efa",
           "#EF553B",
           "#00cc96",
           "#ab63fa",
           "#FFA15A",
           "#19d3f3",
           "#FF6692",
           "#B6E880",
           "#FF97FF",
           "#FECB52"
          ],
          "font": {
           "color": "#2a3f5f"
          },
          "geo": {
           "bgcolor": "white",
           "lakecolor": "white",
           "landcolor": "#E5ECF6",
           "showlakes": true,
           "showland": true,
           "subunitcolor": "white"
          },
          "hoverlabel": {
           "align": "left"
          },
          "hovermode": "closest",
          "mapbox": {
           "style": "light"
          },
          "paper_bgcolor": "white",
          "plot_bgcolor": "#E5ECF6",
          "polar": {
           "angularaxis": {
            "gridcolor": "white",
            "linecolor": "white",
            "ticks": ""
           },
           "bgcolor": "#E5ECF6",
           "radialaxis": {
            "gridcolor": "white",
            "linecolor": "white",
            "ticks": ""
           }
          },
          "scene": {
           "xaxis": {
            "backgroundcolor": "#E5ECF6",
            "gridcolor": "white",
            "gridwidth": 2,
            "linecolor": "white",
            "showbackground": true,
            "ticks": "",
            "zerolinecolor": "white"
           },
           "yaxis": {
            "backgroundcolor": "#E5ECF6",
            "gridcolor": "white",
            "gridwidth": 2,
            "linecolor": "white",
            "showbackground": true,
            "ticks": "",
            "zerolinecolor": "white"
           },
           "zaxis": {
            "backgroundcolor": "#E5ECF6",
            "gridcolor": "white",
            "gridwidth": 2,
            "linecolor": "white",
            "showbackground": true,
            "ticks": "",
            "zerolinecolor": "white"
           }
          },
          "shapedefaults": {
           "line": {
            "color": "#2a3f5f"
           }
          },
          "ternary": {
           "aaxis": {
            "gridcolor": "white",
            "linecolor": "white",
            "ticks": ""
           },
           "baxis": {
            "gridcolor": "white",
            "linecolor": "white",
            "ticks": ""
           },
           "bgcolor": "#E5ECF6",
           "caxis": {
            "gridcolor": "white",
            "linecolor": "white",
            "ticks": ""
           }
          },
          "title": {
           "x": 0.05
          },
          "xaxis": {
           "automargin": true,
           "gridcolor": "white",
           "linecolor": "white",
           "ticks": "",
           "title": {
            "standoff": 15
           },
           "zerolinecolor": "white",
           "zerolinewidth": 2
          },
          "yaxis": {
           "automargin": true,
           "gridcolor": "white",
           "linecolor": "white",
           "ticks": "",
           "title": {
            "standoff": 15
           },
           "zerolinecolor": "white",
           "zerolinewidth": 2
          }
         }
        },
        "title": {
         "text": "Boxplot of runtime"
        },
        "width": 1000,
        "xaxis": {
         "anchor": "y",
         "domain": [
          0,
          1
         ],
         "title": {
          "text": "Runtime minutes"
         }
        },
        "yaxis": {
         "anchor": "x",
         "domain": [
          0,
          1
         ],
         "title": {
          "text": "RunTime"
         }
        }
       }
      },
      "text/html": [
       "<div>                        <script type=\"text/javascript\">window.PlotlyConfig = {MathJaxConfig: 'local'};</script>\n",
       "        <script charset=\"utf-8\" src=\"https://cdn.plot.ly/plotly-3.0.1.min.js\"></script>                <div id=\"ee700499-96f8-4ae4-98e6-9e0b02f3c0d7\" class=\"plotly-graph-div\" style=\"height:600px; width:1000px;\"></div>            <script type=\"text/javascript\">                window.PLOTLYENV=window.PLOTLYENV || {};                                if (document.getElementById(\"ee700499-96f8-4ae4-98e6-9e0b02f3c0d7\")) {                    Plotly.newPlot(                        \"ee700499-96f8-4ae4-98e6-9e0b02f3c0d7\",                        [{\"alignmentgroup\":\"True\",\"hovertemplate\":\"RunTime=%{y}\\u003cextra\\u003e\\u003c\\u002fextra\\u003e\",\"legendgroup\":\"\",\"marker\":{\"color\":\"#636efa\"},\"name\":\"\",\"notched\":false,\"offsetgroup\":\"\",\"orientation\":\"v\",\"showlegend\":false,\"x0\":\" \",\"xaxis\":\"x\",\"y\":{\"dtype\":\"f8\",\"bdata\":\"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\\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\\u002fAAAAAABAVkAAAAAAAAA2QAAAAAAAAF5AAAAAAAAAREAAAAAAAAA0QAAAAAAAwFlAAAAAAAAATkAAAAAAAABaQAAAAAAAAE5AAAAAAABAXEAAAAAAAEBQQAAAAAAAwFxAAAAAAADgYkAAAAAAAIBbQAAAAAAAADdAAAAAAABAW0AAAAAAAMBYQAAAAAAAADhAAAAAAAAATkAAAAAAAEBdQAAAAAAAgFRAAAAAAABAWkAAAAAAAAA4QAAAAAAAAEtAAAAAAAAAPkAAAAAAAMBbQAAAAAAAgFlAAAAAAACARkAAAAAAAABYQAAAAAAAAFdAAAAAAAAAOEAAAAAAAIBaQAAAAAAAgERAAAAAAADAVEAAAAAAAMBiQAAAAAAAgEFAAAAAAAAgYUAAAAAAAIBSQAAAAAAAgGZAAAAAAABAV0AAAAAAAAAsQAAAAAAAAE5AAAAAAACAYUAAAAAAAIBXQAAAAAAAQFRAAAAAAAAAPkAAAAAAAABOQAAAAAAAAFVAAAAAAABAVkAAAAAAAOBiQAAAAAAAgFxAAAAAAAAAREAAAAAAAEBfQAAAAAAAAE5AAAAAAAAAWkAAAAAAAABOQAAAAAAAwFdAAAAAAAAATkAAAAAAAABCQAAAAAAAoGBAAAAAAAAATkAAAAAAAABaQAAAAAAAgEdAAAAAAABAX0AAAAAAAABOQAAAAAAAQFBAAAAAAADAUkAAAAAAAAA3QAAAAAAAwF1AAAAAAAAAN0AAAAAAAABEQAAAAAAAAE5AAAAAAAAATkAAAAAAAABJQAAAAAAAwFVAAAAAAAAATkAAAAAAAABOQAAAAAAAAD5AAAAAAADAVEAAAAAAAEBhQAAAAAAAgEFAAAAAAAAAWkAAAAAAAABOQAAAAAAAQF5AAAAAAACATUAAAAAAAEBSQAAAAAAAAE5AAAAAAACAXEAAAAAAAEBWQAAAAAAAAF9AAAAAAACAX0AAAAAAAABOQAAAAAAAQFZAAAAAAACAQ0AAAAAAAIBZQAAAAAAAwFlAAAAAAAAAREAAAAAAAABOQAAAAAAAAE5AAAAAAAAAVkAAAAAAAAA+QAAAAAAAAE5AAAAAAAAANEAAAAAAAAA+QAAAAAAAwFpAAAAAAAAATUAAAAAAAIBQQAAAAAAAAD5AAAAAAABAUkAAAAAAAMBYQAAAAAAAgFFAAAAAAABAUEAAAAAAAABOQAAAAAAAwFRAAAAAAAAATkAAAAAAAIBWQAAAAAAAQFtAAAAAAAAATkAAAAAAAIBLQAAAAAAAAD5AAAAAAAAAVEAAAAAAAAA3QAAAAAAAAE5AAAAAAAAATkAAAAAAAIBUQAAAAAAAAE5AAAAAAAAATkAAAAAAAABOQAAAAAAAADZAAAAAAAAATkAAAAAAAABcQAAAAAAAwFdAAAAAAADAVUAAAAAAAMBYQAAAAAAAAE5AAAAAAACAUUAAAAAAAABOQAAAAAAAgFdAAAAAAACAZkAAAAAAAAA\\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\\u002fAAAAAADAVUAAAAAAAABSQAAAAAAAwFVAAAAAAAAATkAAAAAAAABiQAAAAAAAADdAAAAAAAAATkAAAAAAAABTQAAAAAAAgFVAAAAAAADAWEAAAAAAAAA1QAAAAAAAAE5AAAAAAABAUkAAAAAAAIBWQAAAAAAAAFxAAAAAAABAVkAAAAAAAABOQAAAAAAAgF5AAAAAAAAASUAAAAAAAABUQAAAAAAAwFJAAAAAAAAAU0AAAAAAAIBHQAAAAAAAAFxAAAAAAABAUkAAAAAAAABXQAAAAAAAgFpAAAAAAAAAWUAAAAAAAEBXQAAAAAAAQFNAAAAAAADAWEAAAAAAAAAsQAAAAAAAQFZAAAAAAAAATkAAAAAAAEBVQAAAAAAAAE5AAAAAAAAAUUAAAAAAAMBYQAAAAAAAAFlAAAAAAACARkAAAAAAAABVQAAAAAAAAE5AAAAAAAAAV0AAAAAAAABOQAAAAAAAgERAAAAAAADAVEAAAAAAAAA\\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\\u002fQAAAAAAAwFVAAAAAAACAQkAAAAAAAMBYQAAAAAAAwFhAAAAAAAAAS0AAAAAAAEBVQAAAAAAAAFhAAAAAAAAAWEAAAAAAAABYQAAAAAAAgFZAAAAAAAAATkAAAAAAAABOQAAAAAAAIGBAAAAAAAAAVEAAAAAAAABOQAAAAAAAgFZAAAAAAAAATUAAAAAAAABOQAAAAAAAAE5AAAAAAAAAVUAAAAAAAMBUQAAAAAAAAE5AAAAAAAAATkAAAAAAAABOQAAAAAAAAE5AAAAAAAAATkAAAAAAAAAkQAAAAAAAgFlAAAAAAAAAOUAAAAAAAMBSQAAAAAAAAE5AAAAAAAAAQ0AAAAAAAABWQAAAAAAAQFVAAAAAAAAATkAAAAAAAIBOQAAAAAAAAElAAAAAAAAATkAAAAAAAAA5QAAAAAAAAE5AAAAAAAAAHEAAAAAAAABXQAAAAAAAAE5AAAAAAAAATkAAAAAAAIBMQAAAAAAAAE5AAAAAAAAATkAAAAAAAIBTQAAAAAAAAE5AAAAAAAAATEAAAAAAAABRQAAAAAAAAE5AAAAAAAAATkAAAAAAAABcQAAAAAAAAE5AAAAAAAAATkAAAAAAAAAkQAAAAAAAQFRAAAAAAAAAIkAAAAAAAABVQAAAAAAAAE5AAAAAAAAATkAAAAAAACBgQAAAAAAAAE5AAAAAAAAATkAAAAAAAABQQAAAAAAAgFpAAAAAAAAATkAAAAAAAABOQAAAAAAAAEtAAAAAAACARUAAAAAAAABOQAAAAAAAAE5AAAAAAAAATkAAAAAAAMBSQAAAAAAAAE5AAAAAAAAANUAAAAAAAABOQAAAAAAAwFxAAAAAAAAATkAAAAAAAAA4QAAAAAAAAE5AAAAAAACAVUAAAAAAAABeQAAAAAAAAE5AAAAAAAAATkAAAAAAAIBVQAAAAAAAAE5AAAAAAAAATkAAAAAAAABXQAAAAAAAgEVAAAAAAADAVEAAAAAAAABOQAAAAAAAAE5AAAAAAADAVEAAAAAAAABOQAAAAAAAAE5AAAAAAABAVEAAAAAAAABOQAAAAAAAAFRAAAAAAACASUAAAAAAAABOQAAAAAAAAE5AAAAAAAAATkAAAAAAAABOQAAAAAAAAE5AAAAAAAAASUAAAAAAAABOQAAAAAAAAE5AAAAAAAAATkAAAAAAAMBcQAAAAAAAADxAAAAAAABAVUAAAAAAAADwPwAAAAAAAFRAAAAAAAAATkAAAAAAAMBSQAAAAAAAwFdAAAAAAAAATkAAAAAAAABOQAAAAAAAAE5AAAAAAAAATkAAAAAAAAA2QAAAAAAAADZAAAAAAACAXUAAAAAAAAAIQAAAAAAAACRAAAAAAAAATkAAAAAAAAA5QAAAAAAAAE5AAAAAAAAAN0AAAAAAAADwPwAAAAAAAE5AAAAAAAAATkAAAAAAAIBPQAAAAAAAAE1AAAAAAACATkAAAAAAAIBdQAAAAAAAAE5AAAAAAAAATkAAAAAAAEBVQAAAAAAAgEtAAAAAAAAATkAAAAAAAEBcQAAAAAAAAE5AAAAAAAAATkAAAAAAAABTQAAAAAAAAPA\\u002fAAAAAAAATkAAAAAAAIBJQAAAAAAAAPA\\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\\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\\u002fQAAAAAAAADlAAAAAAAAAQEAAAAAAAABBQAAAAAAAgEJAAAAAAAAAN0AAAAAAAAA9QAAAAAAAADlAAAAAAACASUAAAAAAAABEQAAAAAAAAEdAAAAAAACASEAAAAAAAAA5QAAAAAAAADlAAAAAAAAANUAAAAAAAAA6QAAAAAAAAEhAAAAAAACATkAAAAAAAABIQAAAAAAAgElAAAAAAAAALEAAAAAAAAA0QAAAAAAAADpAAAAAAAAATkAAAAAAAABOQAAAAAAAAE5AAAAAAAAATkAAAAAAAABOQAAAAAAAAE5AAAAAAAAARUAAAAAAAABMQAAAAAAAgE1AAAAAAABAUEAAAAAAAABHQAAAAAAAgEhAAAAAAAAASEAAAAAAAABOQAAAAAAAADxAAAAAAAAAPUAAAAAAAAA+QAAAAAAAADZAAAAAAAAAPUAAAAAAAAA3QAAAAAAAADhAAAAAAAAAPEAAAAAAAAA4QAAAAAAAADxAAAAAAAAARUAAAAAAAIBFQAAAAAAAAEhAAAAAAACARUAAAAAAAABHQAAAAAAAAEVAAAAAAACAREAAAAAAAIBIQAAAAAAAAEZAAAAAAAAAPkAAAAAAAIBEQAAAAAAAAEVAAAAAAAAARUAAAAAAAABFQAAAAAAAAEVAAAAAAAAARUAAAAAAAABFQAAAAAAAAEVAAAAAAAAARUAAAAAAAAA\\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\\u002fQAAAAAAAAFRAAAAAAAAAVEAAAAAAAABUQAAAAAAAAFRAAAAAAACASEAAAAAAAABFQAAAAAAAgElAAAAAAAAARUAAAAAAAABLQAAAAAAAAExAAAAAAAAATkAAAAAAAABMQAAAAAAAAE1AAAAAAAAARUAAAAAAAABFQAAAAAAAADNAAAAAAAAANEAAAAAAAAAzQAAAAAAAADdAAAAAAAAAN0AAAAAAAAA4QAAAAAAAADxAAAAAAAAARUAAAAAAAABFQAAAAAAAAEVAAAAAAAAARUAAAAAAAABFQAAAAAAAAEVAAAAAAAAARUAAAAAAAAAyQAAAAAAAAEVAAAAAAAAARUAAAAAAAABFQAAAAAAAAEVAAAAAAAAARUAAAAAAAABFQAAAAAAAAEVAAAAAAAAATkAAAAAAAABOQAAAAAAAAE5AAAAAAAAATkAAAAAAAABOQAAAAAAAAE5AAAAAAAAATkAAAAAAAABOQAAAAAAAAE5AAAAAAAAATkAAAAAAAABOQAAAAAAAAE5AAAAAAAAATkAAAAAAAABOQAAAAAAAAE5AAAAAAAAAPUAAAAAAAAA2QAAAAAAAADVAAAAAAAAAOUAAAAAAAABGQAAAAAAAAE5AAAAAAAAATkAAAAAAAABOQAAAAAAAAE5AAAAAAAAATkAAAAAAAIBKQAAAAAAAgElAAAAAAACASEAAAAAAAABOQAAAAAAAAE5AAAAAAAAATkAAAAAAAABFQAAAAAAAADFAAAAAAAAAMUAAAAAAAAA0QAAAAAAAADJAAAAAAAAAM0AAAAAAAAAwQAAAAAAAACpAAAAAAAAAMEAAAAAAAAAxQAAAAAAAADhAAAAAAAAAMUAAAAAAAAAxQAAAAAAAgE5AAAAAAACATkAAAAAAAIBMQAAAAAAAgE5AAAAAAACATEAAAAAAAABOQAAAAAAAAFJAAAAAAAAASEAAAAAAAABKQAAAAAAAAE5AAAAAAAAARUAAAAAAAABOQAAAAAAAAE5AAAAAAAAATkAAAAAAAABOQAAAAAAAAE5AAAAAAAAATkAAAAAAAABOQAAAAAAAAE5AAAAAAAAATkAAAAAAAABOQAAAAAAAAE5AAAAAAAAATkAAAAAAAABOQAAAAAAAAE5AAAAAAAAATkAAAAAAAABOQAAAAAAAAE5AAAAAAAAANkAAAAAAAAA4QAAAAAAAADVAAAAAAAAAM0AAAAAAAAA4QAAAAAAAADNAAAAAAAAATkAAAAAAAABOQAAAAAAAAE5AAAAAAAAATkAAAAAAAABOQAAAAAAAAE5AAAAAAAAATkAAAAAAAABOQAAAAAAAAE5AAAAAAACAS0AAAAAAAIBFQAAAAAAAADZAAAAAAAAATkAAAAAAAAA4QAAAAAAAADhAAAAAAAAAOkAAAAAAAAA4QAAAAAAAADpAAAAAAAAAP0AAAAAAAAA4QAAAAAAAADhAAAAAAAAAOkAAAAAAAAA4QAAAAAAAADpAAAAAAAAATkAAAAAAAABOQAAAAAAAgEtAAAAAAAAATkAAAAAAAABOQAAAAAAAAE5AAAAAAAAATkAAAAAAAIBBQAAAAAAAAEBAAAAAAAAAPkAAAAAAAAA\\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\\u002fAAAAAAAAREAAAAAAAABFQAAAAAAAAENAAAAAAACAR0AAAAAAAIBHQAAAAAAAAEVAAAAAAAAATEAAAAAAAABOQAAAAAAAAE5AAAAAAACAQkAAAAAAAIBOQAAAAAAAgE1AAAAAAAAASEAAAAAAAIBIQAAAAAAAgEpAAAAAAAAANUAAAAAAAABFQAAAAAAAAEVAAAAAAAAARUAAAAAAAABDQAAAAAAAgExAAAAAAAAARUAAAAAAAIBHQAAAAAAAgERAAAAAAAAASkAAAAAAAABJQAAAAAAAAE5AAAAAAAAATkAAAAAAAABOQAAAAAAAAE5AAAAAAAAATkAAAAAAAABOQAAAAAAAgEhAAAAAAAAATkAAAAAAAABOQAAAAAAAAE5AAAAAAAAATkAAAAAAAABOQAAAAAAAAE5AAAAAAAAATkAAAAAAAABOQAAAAAAAAE5AAAAAAAAATkAAAAAAAABOQAAAAAAAAEVAAAAAAAAARUAAAAAAAABFQAAAAAAAAE5AAAAAAAAAOEAAAAAAAIBHQAAAAAAAAEdAAAAAAACARkAAAAAAAABFQAAAAAAAgEdAAAAAAAAATkAAAAAAAABOQAAAAAAAgEZAAAAAAACASkAAAAAAAABIQAAAAAAAgERAAAAAAACASUAAAAAAAABOQAAAAAAAAE5AAAAAAAAATkAAAAAAAABOQAAAAAAAAE5AAAAAAACAS0AAAAAAAABKQAAAAAAAgEtAAAAAAAAATkAAAAAAAABOQAAAAAAAAE5AAAAAAAAATkAAAAAAAABOQAAAAAAAAE5AAAAAAAAATkAAAAAAAABOQAAAAAAAAE5AAAAAAAAATkAAAAAAAABOQAAAAAAAgExAAAAAAACATkAAAAAAAIBFQAAAAAAAAE5AAAAAAAAATkAAAAAAAABOQAAAAAAAAE5AAAAAAAAATkAAAAAAAABFQAAAAAAAgEhAAAAAAACARUAAAAAAAIBDQAAAAAAAgEVAAAAAAACASEAAAAAAAIBGQAAAAAAAAE5AAAAAAACAREAAAAAAAABFQAAAAAAAAE5AAAAAAAAATkAAAAAAAABOQAAAAAAAAE5AAAAAAAAATkAAAAAAAABOQAAAAAAAAE5AAAAAAAAATkAAAAAAAABOQAAAAAAAAE5AAAAAAAAATkAAAAAAAIBJQAAAAAAAgEVAAAAAAAAAR0AAAAAAAIBHQAAAAAAAgElAAAAAAAAASkAAAAAAAABGQAAAAAAAgERAAAAAAAAARUAAAAAAAAA2QAAAAAAAADhAAAAAAACAR0AAAAAAAABOQAAAAAAAAE5AAAAAAAAATkAAAAAAAABNQAAAAAAAAE1AAAAAAAAAR0AAAAAAAABOQAAAAAAAAE5AAAAAAAAATkAAAAAAAABOQAAAAAAAAE5AAAAAAAAATkAAAAAAAABOQAAAAAAAAE5AAAAAAAAATkAAAAAAAABOQAAAAAAAAE5AAAAAAAAATkAAAAAAAABOQAAAAAAAAE5AAAAAAAAATkAAAAAAAABOQAAAAAAAAE5AAAAAAAAATkAAAAAAAABNQAAAAAAAgE1AAAAAAAAAO0AAAAAAAAA\\u002fQAAAAAAAADpAAAAAAAAAPEAAAAAAAAA+QAAAAAAAgEpAAAAAAAAASEAAAAAAAIBJQAAAAAAAgExAAAAAAACASEAAAAAAAABLQAAAAAAAgEtAAAAAAAAAVUAAAAAAAAA3QAAAAAAAADlAAAAAAAAAOEAAAAAAAAA4QAAAAAAAADpAAAAAAAAAO0AAAAAAAABOQAAAAAAAADdAAAAAAAAAN0AAAAAAAAA\\u002fQAAAAAAAAEJAAAAAAAAAQUAAAAAAAIBAQAAAAAAAAEJAAAAAAAAAQkAAAAAAAABFQAAAAAAAgEdAAAAAAAAANkAAAAAAAABOQAAAAAAAAE5AAAAAAAAATkAAAAAAAABOQAAAAAAAAE5AAAAAAAAATkAAAAAAAABOQAAAAAAAAE5AAAAAAAAATkAAAAAAAABOQAAAAAAAAEVAAAAAAAAARUAAAAAAAABFQAAAAAAAgEhAAAAAAAAAP0AAAAAAAABOQAAAAAAAgEdAAAAAAAAASkAAAAAAAIBPQAAAAAAAgEtAAAAAAAAASUAAAAAAAIBOQAAAAAAAAE5AAAAAAAAATkAAAAAAAABOQAAAAAAAAE5AAAAAAAAATkAAAAAAAABOQAAAAAAAAE5AAAAAAAAATkAAAAAAAABOQAAAAAAAAE5AAAAAAAAATkAAAAAAAABOQAAAAAAAAE5AAAAAAAAATkAAAAAAAABOQAAAAAAAAE5AAAAAAAAAO0AAAAAAAAA7QAAAAAAAAEBAAAAAAAAAPEAAAAAAAAA7QAAAAAAAAE5AAAAAAAAATkAAAAAAAIBCQAAAAAAAgEdAAAAAAAAATkAAAAAAAABOQAAAAAAAAE5AAAAAAAAANkAAAAAAAAA3QAAAAAAAADlAAAAAAAAAOUAAAAAAAAA5QAAAAAAAAEtAAAAAAAAATkAAAAAAAAA8QAAAAAAAgE1AAAAAAAAATkAAAAAAAABDQAAAAAAAgEJAAAAAAAAAQkAAAAAAAIBCQAAAAAAAAEBAAAAAAAAAQ0AAAAAAAAA\\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\\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\\u002fQAAAAAAAAE5AAAAAAAAATkAAAAAAAABOQAAAAAAAAE5AAAAAAAAATkAAAAAAAABOQAAAAAAAAE5AAAAAAAAAOEAAAAAAAABOQAAAAAAAAE5AAAAAAAAATkAAAAAAAABOQAAAAAAAAE5AAAAAAAAATkAAAAAAAABOQAAAAAAAAEZAAAAAAAAATkAAAAAAAABOQAAAAAAAAE5AAAAAAAAATkAAAAAAAABOQAAAAAAAAE5AAAAAAAAATkAAAAAAAABOQAAAAAAAAEZAAAAAAAAATkAAAAAAAABOQAAAAAAAAE5AAAAAAAAATkAAAAAAAABOQAAAAAAAAE5AAAAAAAAATkAAAAAAAABOQAAAAAAAAE5AAAAAAAAATkAAAAAAAABOQAAAAAAAAE5AAAAAAAAATkAAAAAAAABOQAAAAAAAgEVAAAAAAAAATkAAAAAAAABOQAAAAAAAAEZAAAAAAACAR0AAAAAAAIBPQAAAAAAAAEZAAAAAAACAR0AAAAAAAABFQAAAAAAAgEdAAAAAAACASUAAAAAAAIBEQAAAAAAAAEhAAAAAAAAASkAAAAAAAABOQAAAAAAAADVAAAAAAAAANUAAAAAAAAA1QAAAAAAAADVAAAAAAAAATkAAAAAAAABOQAAAAAAAAE5AAAAAAAAATkAAAAAAAABOQAAAAAAAAE5AAAAAAAAATkAAAAAAAABOQAAAAAAAAE5AAAAAAAAATkAAAAAAAABOQAAAAAAAAE5AAAAAAAAATkAAAAAAAAA4QAAAAAAAADhAAAAAAAAAOEAAAAAAAABOQAAAAAAAgElAAAAAAACATEAAAAAAAABJQAAAAAAAAEhAAAAAAACASkAAAAAAAABKQAAAAAAAAE5AAAAAAAAATkAAAAAAAABFQAAAAAAAAEdAAAAAAACAR0AAAAAAAIBGQAAAAAAAAEVAAAAAAAAARkAAAAAAAABGQAAAAAAAAEhAAAAAAAAATkAAAAAAAABBQAAAAAAAADxAAAAAAAAAP0AAAAAAAAA6QAAAAAAAAD5AAAAAAAAAO0AAAAAAAAA6QAAAAAAAAD1AAAAAAAAATkAAAAAAAABOQAAAAAAAgEBAAAAAAAAATkAAAAAAAABOQAAAAAAAAE5AAAAAAAAATkAAAAAAAABOQAAAAAAAAE5AAAAAAAAATkAAAAAAAABOQAAAAAAAAE5AAAAAAAAATkAAAAAAAABOQAAAAAAAAE5AAAAAAAAATkAAAAAAAABOQAAAAAAAAE5AAAAAAAAATkAAAAAAAABOQAAAAAAAAE5AAAAAAAAAAEAAAAAAAADwPwAAAAAAAPA\\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\"},\"y0\":\" \",\"yaxis\":\"y\",\"type\":\"box\"}],                        {\"template\":{\"data\":{\"histogram2dcontour\":[{\"type\":\"histogram2dcontour\",\"colorbar\":{\"outlinewidth\":0,\"ticks\":\"\"},\"colorscale\":[[0.0,\"#0d0887\"],[0.1111111111111111,\"#46039f\"],[0.2222222222222222,\"#7201a8\"],[0.3333333333333333,\"#9c179e\"],[0.4444444444444444,\"#bd3786\"],[0.5555555555555556,\"#d8576b\"],[0.6666666666666666,\"#ed7953\"],[0.7777777777777778,\"#fb9f3a\"],[0.8888888888888888,\"#fdca26\"],[1.0,\"#f0f921\"]]}],\"choropleth\":[{\"type\":\"choropleth\",\"colorbar\":{\"outlinewidth\":0,\"ticks\":\"\"}}],\"histogram2d\":[{\"type\":\"histogram2d\",\"colorbar\":{\"outlinewidth\":0,\"ticks\":\"\"},\"colorscale\":[[0.0,\"#0d0887\"],[0.1111111111111111,\"#46039f\"],[0.2222222222222222,\"#7201a8\"],[0.3333333333333333,\"#9c179e\"],[0.4444444444444444,\"#bd3786\"],[0.5555555555555556,\"#d8576b\"],[0.6666666666666666,\"#ed7953\"],[0.7777777777777778,\"#fb9f3a\"],[0.8888888888888888,\"#fdca26\"],[1.0,\"#f0f921\"]]}],\"heatmap\":[{\"type\":\"heatmap\",\"colorbar\":{\"outlinewidth\":0,\"ticks\":\"\"},\"colorscale\":[[0.0,\"#0d0887\"],[0.1111111111111111,\"#46039f\"],[0.2222222222222222,\"#7201a8\"],[0.3333333333333333,\"#9c179e\"],[0.4444444444444444,\"#bd3786\"],[0.5555555555555556,\"#d8576b\"],[0.6666666666666666,\"#ed7953\"],[0.7777777777777778,\"#fb9f3a\"],[0.8888888888888888,\"#fdca26\"],[1.0,\"#f0f921\"]]}],\"contourcarpet\":[{\"type\":\"contourcarpet\",\"colorbar\":{\"outlinewidth\":0,\"ticks\":\"\"}}],\"contour\":[{\"type\":\"contour\",\"colorbar\":{\"outlinewidth\":0,\"ticks\":\"\"},\"colorscale\":[[0.0,\"#0d0887\"],[0.1111111111111111,\"#46039f\"],[0.2222222222222222,\"#7201a8\"],[0.3333333333333333,\"#9c179e\"],[0.4444444444444444,\"#bd3786\"],[0.5555555555555556,\"#d8576b\"],[0.6666666666666666,\"#ed7953\"],[0.7777777777777778,\"#fb9f3a\"],[0.8888888888888888,\"#fdca26\"],[1.0,\"#f0f921\"]]}],\"surface\":[{\"type\":\"surface\",\"colorbar\":{\"outlinewidth\":0,\"ticks\":\"\"},\"colorscale\":[[0.0,\"#0d0887\"],[0.1111111111111111,\"#46039f\"],[0.2222222222222222,\"#7201a8\"],[0.3333333333333333,\"#9c179e\"],[0.4444444444444444,\"#bd3786\"],[0.5555555555555556,\"#d8576b\"],[0.6666666666666666,\"#ed7953\"],[0.7777777777777778,\"#fb9f3a\"],[0.8888888888888888,\"#fdca26\"],[1.0,\"#f0f921\"]]}],\"mesh3d\":[{\"type\":\"mesh3d\",\"colorbar\":{\"outlinewidth\":0,\"ticks\":\"\"}}],\"scatter\":[{\"fillpattern\":{\"fillmode\":\"overlay\",\"size\":10,\"solidity\":0.2},\"type\":\"scatter\"}],\"parcoords\":[{\"type\":\"parcoords\",\"line\":{\"colorbar\":{\"outlinewidth\":0,\"ticks\":\"\"}}}],\"scatterpolargl\":[{\"type\":\"scatterpolargl\",\"marker\":{\"colorbar\":{\"outlinewidth\":0,\"ticks\":\"\"}}}],\"bar\":[{\"error_x\":{\"color\":\"#2a3f5f\"},\"error_y\":{\"color\":\"#2a3f5f\"},\"marker\":{\"line\":{\"color\":\"#E5ECF6\",\"width\":0.5},\"pattern\":{\"fillmode\":\"overlay\",\"size\":10,\"solidity\":0.2}},\"type\":\"bar\"}],\"scattergeo\":[{\"type\":\"scattergeo\",\"marker\":{\"colorbar\":{\"outlinewidth\":0,\"ticks\":\"\"}}}],\"scatterpolar\":[{\"type\":\"scatterpolar\",\"marker\":{\"colorbar\":{\"outlinewidth\":0,\"ticks\":\"\"}}}],\"histogram\":[{\"marker\":{\"pattern\":{\"fillmode\":\"overlay\",\"size\":10,\"solidity\":0.2}},\"type\":\"histogram\"}],\"scattergl\":[{\"type\":\"scattergl\",\"marker\":{\"colorbar\":{\"outlinewidth\":0,\"ticks\":\"\"}}}],\"scatter3d\":[{\"type\":\"scatter3d\",\"line\":{\"colorbar\":{\"outlinewidth\":0,\"ticks\":\"\"}},\"marker\":{\"colorbar\":{\"outlinewidth\":0,\"ticks\":\"\"}}}],\"scattermap\":[{\"type\":\"scattermap\",\"marker\":{\"colorbar\":{\"outlinewidth\":0,\"ticks\":\"\"}}}],\"scattermapbox\":[{\"type\":\"scattermapbox\",\"marker\":{\"colorbar\":{\"outlinewidth\":0,\"ticks\":\"\"}}}],\"scatterternary\":[{\"type\":\"scatterternary\",\"marker\":{\"colorbar\":{\"outlinewidth\":0,\"ticks\":\"\"}}}],\"scattercarpet\":[{\"type\":\"scattercarpet\",\"marker\":{\"colorbar\":{\"outlinewidth\":0,\"ticks\":\"\"}}}],\"carpet\":[{\"aaxis\":{\"endlinecolor\":\"#2a3f5f\",\"gridcolor\":\"white\",\"linecolor\":\"white\",\"minorgridcolor\":\"white\",\"startlinecolor\":\"#2a3f5f\"},\"baxis\":{\"endlinecolor\":\"#2a3f5f\",\"gridcolor\":\"white\",\"linecolor\":\"white\",\"minorgridcolor\":\"white\",\"startlinecolor\":\"#2a3f5f\"},\"type\":\"carpet\"}],\"table\":[{\"cells\":{\"fill\":{\"color\":\"#EBF0F8\"},\"line\":{\"color\":\"white\"}},\"header\":{\"fill\":{\"color\":\"#C8D4E3\"},\"line\":{\"color\":\"white\"}},\"type\":\"table\"}],\"barpolar\":[{\"marker\":{\"line\":{\"color\":\"#E5ECF6\",\"width\":0.5},\"pattern\":{\"fillmode\":\"overlay\",\"size\":10,\"solidity\":0.2}},\"type\":\"barpolar\"}],\"pie\":[{\"automargin\":true,\"type\":\"pie\"}]},\"layout\":{\"autotypenumbers\":\"strict\",\"colorway\":[\"#636efa\",\"#EF553B\",\"#00cc96\",\"#ab63fa\",\"#FFA15A\",\"#19d3f3\",\"#FF6692\",\"#B6E880\",\"#FF97FF\",\"#FECB52\"],\"font\":{\"color\":\"#2a3f5f\"},\"hovermode\":\"closest\",\"hoverlabel\":{\"align\":\"left\"},\"paper_bgcolor\":\"white\",\"plot_bgcolor\":\"#E5ECF6\",\"polar\":{\"bgcolor\":\"#E5ECF6\",\"angularaxis\":{\"gridcolor\":\"white\",\"linecolor\":\"white\",\"ticks\":\"\"},\"radialaxis\":{\"gridcolor\":\"white\",\"linecolor\":\"white\",\"ticks\":\"\"}},\"ternary\":{\"bgcolor\":\"#E5ECF6\",\"aaxis\":{\"gridcolor\":\"white\",\"linecolor\":\"white\",\"ticks\":\"\"},\"baxis\":{\"gridcolor\":\"white\",\"linecolor\":\"white\",\"ticks\":\"\"},\"caxis\":{\"gridcolor\":\"white\",\"linecolor\":\"white\",\"ticks\":\"\"}},\"coloraxis\":{\"colorbar\":{\"outlinewidth\":0,\"ticks\":\"\"}},\"colorscale\":{\"sequential\":[[0.0,\"#0d0887\"],[0.1111111111111111,\"#46039f\"],[0.2222222222222222,\"#7201a8\"],[0.3333333333333333,\"#9c179e\"],[0.4444444444444444,\"#bd3786\"],[0.5555555555555556,\"#d8576b\"],[0.6666666666666666,\"#ed7953\"],[0.7777777777777778,\"#fb9f3a\"],[0.8888888888888888,\"#fdca26\"],[1.0,\"#f0f921\"]],\"sequentialminus\":[[0.0,\"#0d0887\"],[0.1111111111111111,\"#46039f\"],[0.2222222222222222,\"#7201a8\"],[0.3333333333333333,\"#9c179e\"],[0.4444444444444444,\"#bd3786\"],[0.5555555555555556,\"#d8576b\"],[0.6666666666666666,\"#ed7953\"],[0.7777777777777778,\"#fb9f3a\"],[0.8888888888888888,\"#fdca26\"],[1.0,\"#f0f921\"]],\"diverging\":[[0,\"#8e0152\"],[0.1,\"#c51b7d\"],[0.2,\"#de77ae\"],[0.3,\"#f1b6da\"],[0.4,\"#fde0ef\"],[0.5,\"#f7f7f7\"],[0.6,\"#e6f5d0\"],[0.7,\"#b8e186\"],[0.8,\"#7fbc41\"],[0.9,\"#4d9221\"],[1,\"#276419\"]]},\"xaxis\":{\"gridcolor\":\"white\",\"linecolor\":\"white\",\"ticks\":\"\",\"title\":{\"standoff\":15},\"zerolinecolor\":\"white\",\"automargin\":true,\"zerolinewidth\":2},\"yaxis\":{\"gridcolor\":\"white\",\"linecolor\":\"white\",\"ticks\":\"\",\"title\":{\"standoff\":15},\"zerolinecolor\":\"white\",\"automargin\":true,\"zerolinewidth\":2},\"scene\":{\"xaxis\":{\"backgroundcolor\":\"#E5ECF6\",\"gridcolor\":\"white\",\"linecolor\":\"white\",\"showbackground\":true,\"ticks\":\"\",\"zerolinecolor\":\"white\",\"gridwidth\":2},\"yaxis\":{\"backgroundcolor\":\"#E5ECF6\",\"gridcolor\":\"white\",\"linecolor\":\"white\",\"showbackground\":true,\"ticks\":\"\",\"zerolinecolor\":\"white\",\"gridwidth\":2},\"zaxis\":{\"backgroundcolor\":\"#E5ECF6\",\"gridcolor\":\"white\",\"linecolor\":\"white\",\"showbackground\":true,\"ticks\":\"\",\"zerolinecolor\":\"white\",\"gridwidth\":2}},\"shapedefaults\":{\"line\":{\"color\":\"#2a3f5f\"}},\"annotationdefaults\":{\"arrowcolor\":\"#2a3f5f\",\"arrowhead\":0,\"arrowwidth\":1},\"geo\":{\"bgcolor\":\"white\",\"landcolor\":\"#E5ECF6\",\"subunitcolor\":\"white\",\"showland\":true,\"showlakes\":true,\"lakecolor\":\"white\"},\"title\":{\"x\":0.05},\"mapbox\":{\"style\":\"light\"}}},\"xaxis\":{\"anchor\":\"y\",\"domain\":[0.0,1.0],\"title\":{\"text\":\"Runtime minutes\"}},\"yaxis\":{\"anchor\":\"x\",\"domain\":[0.0,1.0],\"title\":{\"text\":\"RunTime\"}},\"legend\":{\"tracegroupgap\":0},\"margin\":{\"t\":60},\"boxmode\":\"group\",\"title\":{\"text\":\"Boxplot of runtime\"},\"height\":600,\"width\":1000},                        {\"responsive\": true}                    )                };            </script>        </div>"
      ],
      "text/plain": [
       "Figure({\n",
       "    'data': [{'alignmentgroup': 'True',\n",
       "              'hovertemplate': 'RunTime=%{y}<extra></extra>',\n",
       "              'legendgroup': '',\n",
       "              'marker': {'color': '#636efa'},\n",
       "              'name': '',\n",
       "              'notched': False,\n",
       "              'offsetgroup': '',\n",
       "              'orientation': 'v',\n",
       "              'showlegend': False,\n",
       "              'type': 'box',\n",
       "              'x0': ' ',\n",
       "              'xaxis': 'x',\n",
       "              'y': {'bdata': ('AAAAAAAATkAAAAAAAIBbQAAAAAAAAE' ... 'AAAABOQAAAAAAAAE5AAAAAAAAATkA='),\n",
       "                    'dtype': 'f8'},\n",
       "              'y0': ' ',\n",
       "              'yaxis': 'y'}],\n",
       "    'layout': {'boxmode': 'group',\n",
       "               'height': 600,\n",
       "               'legend': {'tracegroupgap': 0},\n",
       "               'margin': {'t': 60},\n",
       "               'template': '...',\n",
       "               'title': {'text': 'Boxplot of runtime'},\n",
       "               'width': 1000,\n",
       "               'xaxis': {'anchor': 'y', 'domain': [0.0, 1.0], 'title': {'text': 'Runtime minutes'}},\n",
       "               'yaxis': {'anchor': 'x', 'domain': [0.0, 1.0], 'title': {'text': 'RunTime'}}}\n",
       "})"
      ]
     },
     "execution_count": 176,
     "metadata": {},
     "output_type": "execute_result"
    }
   ],
   "source": [
    "import plotly.express as px\n",
    "\n",
    "fig = px.box(\n",
    "    movies, y = 'RunTime'\n",
    ")\n",
    "\n",
    "fig.update_layout(\n",
    "    title = 'Boxplot of runtime',\n",
    "    xaxis_title = \"Runtime minutes\",\n",
    "    height = 600,\n",
    "    width = 1000\n",
    ")\n",
    "\n",
    "# fig.show()"
   ]
  },
  {
   "cell_type": "code",
   "execution_count": 177,
   "metadata": {},
   "outputs": [
    {
     "data": {
      "image/png": "[encoded data removed]",
      "text/plain": [
       "<Figure size 640x480 with 1 Axes>"
      ]
     },
     "metadata": {},
     "output_type": "display_data"
    }
   ],
   "source": [
    "# distribution of movie ratings\n",
    "import seaborn as sns\n",
    "import matplotlib.pyplot as plt\n",
    "\n",
    "sns.histplot(movies['RATING'], kde = True, bins = 20)\n",
    "plt.title(\"Distribution of Ratings\")\n",
    "plt.xlabel(\"Rating\")\n",
    "plt.ylabel(\"Count\")\n",
    "plt.show()"
   ]
  },
  {
   "cell_type": "code",
   "execution_count": 178,
   "metadata": {},
   "outputs": [
    {
     "name": "stdout",
     "output_type": "stream",
     "text": [
      "Counter({'Drama': 3401, 'Comedy': 2378, 'Action': 1753, 'Animation': 1438, 'Adventure': 1339, 'Crime': 1204, 'Documentary': 1139, 'Thriller': 736, 'Romance': 718, 'Mystery': 685, 'Fantasy': 428, 'Family': 398, 'Horror': 396, 'Reality-TV': 364, 'History': 295, 'Short': 239, 'Biography': 238, 'Sci-Fi': 215, 'Sport': 179, 'Music': 168, 'Game-Show': 97, 'Talk-Show': 89, 'Musical': 49, 'War': 33, 'News': 23, 'Western': 18, 'Film-Noir': 10})\n"
     ]
    }
   ],
   "source": [
    "# most common genre\n",
    "\n",
    "from collections import Counter\n",
    "\n",
    "all_genre = movies['GENRE'].str.split(', ')\n",
    "genres =[]\n",
    "\n",
    "for sublist in all_genre:\n",
    "    if isinstance(sublist, list):\n",
    "        for genre in sublist:\n",
    "            genres.append(genre)\n",
    "\n",
    "genre_count = Counter(genres)\n",
    "\n",
    "print(genre_count)"
   ]
  },
  {
   "cell_type": "code",
   "execution_count": 179,
   "metadata": {},
   "outputs": [
    {
     "name": "stderr",
     "output_type": "stream",
     "text": [
      "/tmp/ipykernel_11740/3497672641.py:3: FutureWarning:\n",
      "\n",
      "\n",
      "\n",
      "Passing `palette` without assigning `hue` is deprecated and will be removed in v0.14.0. Assign the `y` variable to `hue` and set `legend=False` for the same effect.\n",
      "\n",
      "\n"
     ]
    },
    {
     "data": {
      "image/png": "[encoded data removed]",
      "text/plain": [
       "<Figure size 1000x600 with 1 Axes>"
      ]
     },
     "metadata": {},
     "output_type": "display_data"
    }
   ],
   "source": [
    "plt.figure(figsize=(10,6))\n",
    "df_vis = pd.DataFrame(genre_count.items(), columns=['Genre', 'Count'])\n",
    "sns.barplot(data=df_vis.head(10),y='Genre',x='Count',palette='viridis')\n",
    "plt.xlabel(\"Number of Movies\")\n",
    "plt.ylabel(\"Genre\")\n",
    "plt.title(\"Most common Genres\")\n",
    "plt.show()"
   ]
  },
  {
   "cell_type": "code",
   "execution_count": null,
   "metadata": {},
   "outputs": [],
   "source": []
  }
 ],
 "metadata": {
  "kernelspec": {
   "display_name": "dsvenv",
   "language": "python",
   "name": "python3"
  },
  "language_info": {
   "codemirror_mode": {
    "name": "ipython",
    "version": 3
   },
   "file_extension": ".py",
   "mimetype": "text/x-python",
   "name": "python",
   "nbconvert_exporter": "python",
   "pygments_lexer": "ipython3",
   "version": "3.12.3"
  }
 },
 "nbformat": 4,
 "nbformat_minor": 2
}
